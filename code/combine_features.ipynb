{
  "nbformat": 4,
  "nbformat_minor": 0,
  "metadata": {
    "colab": {
      "name": "compute_from_embeddings.ipynb",
      "provenance": [],
      "collapsed_sections": []
    },
    "kernelspec": {
      "name": "python3",
      "display_name": "Python 3"
    }
  },
  "cells": [
    {
      "cell_type": "code",
      "metadata": {
        "id": "6zXQAXZlttuN",
        "colab_type": "code",
        "colab": {
          "base_uri": "https://localhost:8080/",
          "height": 436
        },
        "outputId": "38e1628e-0c9b-4269-bf17-802ff84051cf"
      },
      "source": [
        "# Mount drive\n",
        "import os\n",
        "from google.colab import drive\n",
        "%cd /content\n",
        "drive.mount('/content/drive', force_remount=True)\n",
        "%cd 'drive/My Drive/Colab Notebooks/NLP/project/code'\n",
        "%ls -l\n",
        "print(os.listdir())"
      ],
      "execution_count": 1,
      "outputs": [
        {
          "output_type": "stream",
          "text": [
            "/content\n",
            "Mounted at /content/drive\n",
            "/content/drive/My Drive/Colab Notebooks/NLP/project/code\n",
            "total 2188\n",
            "-rw------- 1 root root  78787 May  9 14:15 Benchmark_embeddings.ipynb\n",
            "-rw------- 1 root root   3534 Apr 22 16:32 cleaning.py\n",
            "-rw------- 1 root root   4152 May  9 14:26 compute_embeddings.py\n",
            "-rw------- 1 root root  14856 May  9 14:45 compute_from_embeddings.ipynb\n",
            "-rw------- 1 root root 363996 May  9 10:48 master.zip\n",
            "-rw------- 1 root root 363996 May  9 10:49 master.zip.1\n",
            "-rw------- 1 root root 363996 May  9 10:51 master.zip.2\n",
            "drwx------ 2 root root   4096 May  9 14:17 \u001b[0m\u001b[01;34m__pycache__\u001b[0m/\n",
            "-rw------- 1 root root  21800 Apr 25 09:06 pytorch_tuto.ipynb\n",
            "drwx------ 2 root root   4096 May  1 16:25 \u001b[01;34msent2vec-master\u001b[0m/\n",
            "-rw------- 1 root root   2689 May  9 09:38 transform_dataset.py\n",
            "-rw------- 1 root root 808814 May  4 08:33 Untitled0.ipynb\n",
            "-rw------- 1 root root  22808 Apr 22 16:46 Untitled.ipynb\n",
            "-rw------- 1 root root   3545 Apr 22 16:32 utils_cleaning.py\n",
            "-rw------- 1 root root  21429 May  7 07:34 Vincent_doc2vec.ipynb\n",
            "-rw------- 1 root root  20152 Apr 25 16:47 Vincent.ipynb\n",
            "-rw------- 1 root root  83265 May  3 09:32 Vincent_SBERT.ipynb\n",
            "-rw------- 1 root root  50693 May  4 13:15 Vincent_tfidf.ipynb\n",
            "['cleaning.py', 'utils_cleaning.py', 'Untitled.ipynb', '.ipynb_checkpoints', 'pytorch_tuto.ipynb', '.vector_cache', 'Vincent.ipynb', 'sent2vec-master', 'Vincent_SBERT.ipynb', '__pycache__', 'Untitled0.ipynb', 'Vincent_tfidf.ipynb', 'Vincent_doc2vec.ipynb', 'transform_dataset.py', 'master.zip', 'master.zip.1', 'master.zip.2', 'compute_embeddings.py', 'Benchmark_embeddings.ipynb', 'compute_from_embeddings.ipynb']\n"
          ],
          "name": "stdout"
        }
      ]
    },
    {
      "cell_type": "code",
      "metadata": {
        "id": "tWTxI-zqNBu1",
        "colab_type": "code",
        "colab": {}
      },
      "source": [
        "! pip install fuzzywuzzy\n",
        "! pip install python-Levenshtein"
      ],
      "execution_count": 0,
      "outputs": []
    },
    {
      "cell_type": "code",
      "metadata": {
        "id": "KnhumQEutvLF",
        "colab_type": "code",
        "colab": {
          "base_uri": "https://localhost:8080/",
          "height": 52
        },
        "outputId": "809ee22c-c4e8-4f7c-cc3d-719971813391"
      },
      "source": [
        "import pandas as pd\n",
        "import numpy as np\n",
        "import random\n",
        "import re\n",
        "import time\n",
        "from string import punctuation\n",
        "import scipy.io\n",
        "import os\n",
        "import matplotlib.pyplot as plt\n",
        "import seaborn as sns\n",
        "\n",
        "import transform_dataset\n",
        "import compute_embeddings"
      ],
      "execution_count": 2,
      "outputs": [
        {
          "output_type": "stream",
          "text": [
            "[nltk_data] Downloading package punkt to /root/nltk_data...\n",
            "[nltk_data]   Package punkt is already up-to-date!\n"
          ],
          "name": "stdout"
        }
      ]
    },
    {
      "cell_type": "code",
      "metadata": {
        "id": "AMpiFBaFt9ll",
        "colab_type": "code",
        "colab": {}
      },
      "source": [
        "questions1, questions2, is_duplicates = transform_dataset.clean_quora()\n",
        "cleaned_questions1, cleaned_questions2, cleaned_is_duplicates = transform_dataset.clean_quora(output='tokenized_list')"
      ],
      "execution_count": 0,
      "outputs": []
    },
    {
      "cell_type": "code",
      "metadata": {
        "id": "KGWy3A1it9pu",
        "colab_type": "code",
        "colab": {}
      },
      "source": [
        "from sklearn.linear_model import LogisticRegression\n",
        "from sklearn.model_selection import train_test_split\n",
        "from sklearn.metrics import log_loss, accuracy_score, f1_score, precision_score, recall_score\n",
        "from sklearn.pipeline import Pipeline\n",
        "from sklearn.multiclass import OneVsRestClassifier\n",
        "import xgboost as xgb\n",
        "\n",
        "def get_features(embs1, embs2):\n",
        "  return np.concatenate((embs1, embs2, np.abs(embs2-embs1)), axis=1)\n",
        "\n",
        "def model_efficiency(embs, labels):\n",
        "  params = {}\n",
        "  params['objective'] = 'binary:logistic'\n",
        "  params['eval_metric'] = 'logloss'\n",
        "  params['eta'] = 0.02\n",
        "  params['max_depth'] = 4\n",
        "\n",
        "  X_train, X_valid, y_train, y_valid = train_test_split(embs, labels, train_size = 0.7, random_state=42, shuffle=True, stratify=labels)\n",
        "  target_train = y_train\n",
        "  target_valid = y_valid\n",
        "\n",
        "  d_train = xgb.DMatrix(X_train, label=target_train)\n",
        "  d_valid = xgb.DMatrix(X_valid, label=target_valid)\n",
        "\n",
        "  model = xgb.train(params, d_train, 400, watchlist, early_stopping_rounds=50, verbose_eval=10)\n",
        "\n",
        "  target_train = y_train\n",
        "  target_valid = y_valid\n",
        "  \n",
        "  model.fit(X_train, target_train)\n",
        "  \n",
        "  predictions_train = model.predict(X_train)\n",
        "  predictions_valid = model.predict(X_valid)\n",
        "\n",
        "  proba_predictions_train = model.predict_proba(X_train)\n",
        "  proba_predictions_valid = model.predict_proba(X_valid)\n",
        "\n",
        "  loss_train = log_loss(target_train, proba_predictions_train)\n",
        "  loss_valid = log_loss(target_valid, proba_predictions_valid)\n",
        "\n",
        "  accuracy_train = accuracy_score(target_train, predictions_train)\n",
        "  accuracy_valid = accuracy_score(target_valid, predictions_valid)\n",
        "\n",
        "  f1_train = f1_score(target_train, predictions_train)\n",
        "  f1_valid = f1_score(target_valid, predictions_valid)\n",
        "\n",
        "  return {'loss':np.round(loss_valid,2), 'accuracy':np.round(accuracy_valid,2), 'f1':np.round(f1_valid,2)}"
      ],
      "execution_count": 0,
      "outputs": []
    },
    {
      "cell_type": "code",
      "metadata": {
        "id": "1ub3x_TLvF91",
        "colab_type": "code",
        "colab": {}
      },
      "source": [
        "def calculate_features_from_embeddings(path, embedding1_file, embedding2_file):\n",
        "    embs1 = np.load(os.path.join(path, embedding1_file))\n",
        "    embs2 = np.load(os.path.join(path, embedding2_file))\n",
        "    return calculate_cosine(embs1, embs2)\n",
        "\n",
        "def calculate_cosine(embs1, embs2):\n",
        "    return (embs1 * embs2).sum(axis=1)/(np.linalg.norm(embs1, axis=1) * np.linalg.norm(embs2, axis=1))\n",
        "\n",
        "def jaccard_type_feature(count1, count2, eps=1e-12):\n",
        "  features = (count1.multiply(count2 != 0) + count2.multiply(count1 != 0)).sum(axis=1)\n",
        "  features = features / (count1.sum(axis=1) + count2.sum(axis=1) + eps)\n",
        "  return features"
      ],
      "execution_count": 0,
      "outputs": []
    },
    {
      "cell_type": "markdown",
      "metadata": {
        "id": "qt4PmyAVM3cf",
        "colab_type": "text"
      },
      "source": [
        "# Collect features"
      ]
    },
    {
      "cell_type": "code",
      "metadata": {
        "id": "SJPJ2StCvGAk",
        "colab_type": "code",
        "colab": {
          "base_uri": "https://localhost:8080/",
          "height": 72
        },
        "outputId": "a3d5536b-331c-4668-f81b-449869d39941"
      },
      "source": [
        "features = {}\n",
        "precomputed_embeddings = ['SBERT_embeddings{}.npy', 'doc2vec_embeddings{}.npy', 'sent2vec_embeddings{}.npy']\n",
        "for filename in precomputed_embeddings:\n",
        "  cosine = calculate_features_from_embeddings('../data/', filename.format(1), filename.format(2))\n",
        "  features[filename.split('_')[0]] = cosine"
      ],
      "execution_count": 6,
      "outputs": [
        {
          "output_type": "stream",
          "text": [
            "/usr/local/lib/python3.6/dist-packages/ipykernel_launcher.py:7: RuntimeWarning: invalid value encountered in true_divide\n",
            "  import sys\n"
          ],
          "name": "stderr"
        }
      ]
    },
    {
      "cell_type": "code",
      "metadata": {
        "id": "7wcsbtmptvNj",
        "colab_type": "code",
        "colab": {
          "base_uri": "https://localhost:8080/",
          "height": 72
        },
        "outputId": "32d2d34d-9efa-4780-fa3f-754964480992"
      },
      "source": [
        "model = compute_embeddings.SIF()\n",
        "# model = SIF()\n",
        "model.load_model()\n",
        "model.fit(cleaned_questions1+cleaned_questions2)\n",
        "embs1 = model.calculate_embeddings(cleaned_questions1)\n",
        "embs2 = model.calculate_embeddings(cleaned_questions2)\n",
        "cosine = calculate_cosine(embs1, embs2)\n",
        "features['SIF'] = cosine"
      ],
      "execution_count": 8,
      "outputs": [
        {
          "output_type": "stream",
          "text": [
            "/usr/local/lib/python3.6/dist-packages/ipykernel_launcher.py:7: RuntimeWarning: invalid value encountered in true_divide\n",
            "  import sys\n"
          ],
          "name": "stderr"
        }
      ]
    },
    {
      "cell_type": "code",
      "metadata": {
        "id": "QjXBvWQHyYsA",
        "colab_type": "code",
        "colab": {
          "base_uri": "https://localhost:8080/",
          "height": 72
        },
        "outputId": "ed5c1f2a-1101-45ef-dc9e-0ee5ac59eee6"
      },
      "source": [
        "model = compute_embeddings.Count()\n",
        "# model = Count()\n",
        "model.load_model()\n",
        "model.fit(questions1 + questions2)\n",
        "count_embs1 = model.calculate_embeddings(questions1)\n",
        "count_embs2 = model.calculate_embeddings(questions2)\n",
        "count_features = jaccard_type_feature(count_embs1, count_embs2)\n",
        "features['Count'] = np.array(count_features)[:,0]"
      ],
      "execution_count": 9,
      "outputs": [
        {
          "output_type": "stream",
          "text": [
            "/usr/local/lib/python3.6/dist-packages/sklearn/feature_extraction/text.py:507: UserWarning: The parameter 'token_pattern' will not be used since 'tokenizer' is not None'\n",
            "  warnings.warn(\"The parameter 'token_pattern' will not be used\"\n"
          ],
          "name": "stderr"
        }
      ]
    },
    {
      "cell_type": "code",
      "metadata": {
        "id": "z3oYCxLwyvvP",
        "colab_type": "code",
        "colab": {
          "base_uri": "https://localhost:8080/",
          "height": 72
        },
        "outputId": "3ac0b26a-92b2-4ab0-9ac4-24b09ec1bba9"
      },
      "source": [
        "model = compute_embeddings.TFIDF()\n",
        "# model = TFIDF()\n",
        "model.load_model()\n",
        "model.fit(questions1 + questions2)\n",
        "tfidf_embs1 = model.calculate_embeddings(questions1)\n",
        "tfidf_embs2 = model.calculate_embeddings(questions2)\n",
        "tfidf_features = jaccard_type_feature(tfidf_embs1, tfidf_embs2)\n",
        "features['TFIDF'] = np.array(tfidf_features)[:,0]"
      ],
      "execution_count": 10,
      "outputs": [
        {
          "output_type": "stream",
          "text": [
            "/usr/local/lib/python3.6/dist-packages/sklearn/feature_extraction/text.py:507: UserWarning: The parameter 'token_pattern' will not be used since 'tokenizer' is not None'\n",
            "  warnings.warn(\"The parameter 'token_pattern' will not be used\"\n"
          ],
          "name": "stderr"
        }
      ]
    },
    {
      "cell_type": "code",
      "metadata": {
        "id": "9V2EE2WcDCOy",
        "colab_type": "code",
        "colab": {}
      },
      "source": [
        "df_train = pd.read_csv(\"../data/train.csv\")\n",
        "df_train = df_train.drop(['id', 'qid1', 'qid2'], axis=1)\n",
        "df_train[\"question1\"] = df_train[\"question1\"].astype(\"str\")\n",
        "df_train[\"question2\"] = df_train[\"question2\"].astype('str')"
      ],
      "execution_count": 0,
      "outputs": []
    },
    {
      "cell_type": "code",
      "metadata": {
        "id": "UUzK8A3dDCSS",
        "colab_type": "code",
        "colab": {}
      },
      "source": [
        "# length based features\n",
        "df_train['len_q1'] = df_train.question1.apply(lambda x: len(str(x)))\n",
        "df_train['len_q2'] = df_train.question2.apply(lambda x: len(str(x)))\n",
        "# difference in lengths of two questions\n",
        "df_train['diff_len'] = df_train.len_q1 - df_train.len_q2\n",
        "\n",
        "# character length based features\n",
        "df_train['len_char_q1'] = df_train.question1.apply(lambda x: len(''.join(set(str(x).replace(' ', '')))))\n",
        "df_train['len_char_q2'] = df_train.question2.apply(lambda x: len(''.join(set(str(x).replace(' ', '')))))\n",
        "\n",
        "# word length based features\n",
        "df_train['len_word_q1'] = df_train.question1.apply(lambda x: len(str(x).split()))\n",
        "df_train['len_word_q2'] = df_train.question2.apply(lambda x: len(str(x).split()))\n",
        "\n",
        "# common words in the two questions\n",
        "df_train['common_words'] = df_train.apply(lambda x: len(set(str(x['question1'])\n",
        "    .lower().split())\n",
        "    .intersection(set(str(x['question2'])\n",
        "    .lower().split()))), axis=1)\n",
        "\n",
        "basics = ['len_q1', 'len_q2', 'diff_len', 'len_char_q1', 'len_char_q2', 'len_word_q1', 'len_word_q2', 'common_words']"
      ],
      "execution_count": 0,
      "outputs": []
    },
    {
      "cell_type": "code",
      "metadata": {
        "id": "9R0W7DVnDOl5",
        "colab_type": "code",
        "colab": {}
      },
      "source": [
        "import fuzzywuzzy\n",
        "from fuzzywuzzy import fuzz\n",
        "\n",
        "df_train['fuzz_qratio'] = df_train.apply(lambda x: fuzz.QRatio(str(x['question1']), str(x['question2'])), axis=1)\n",
        "\n",
        "df_train['fuzz_WRatio'] = df_train.apply(lambda x: fuzz.WRatio(str(x['question1']), str(x['question2'])), axis=1)\n",
        "\n",
        "df_train['fuzz_partial_ratio'] = df_train.apply(lambda x: fuzz.partial_ratio(\n",
        "    str(x['question1']), str(x['question2'])), axis=1)\n",
        "\n",
        "df_train['fuzz_partial_token_set_ratio'] = df_train.apply(lambda x: fuzz.partial_token_set_ratio(\n",
        "    str(x['question1']), str(x['question2'])), axis=1)\n",
        "\n",
        "df_train['fuzz_partial_token_sort_ratio'] = df_train.apply(lambda x: fuzz.partial_token_sort_ratio(\n",
        "    str(x['question1']), str(x['question2'])), axis=1)\n",
        "\n",
        "df_train['fuzz_token_set_ratio'] = df_train.apply(lambda x: fuzz.token_set_ratio(\n",
        "str(x['question1']), str(x['question2'])), axis=1)\n",
        "\n",
        "df_train['fuzz_token_sort_ratio'] = df_train.apply(lambda x: fuzz.token_sort_ratio(\n",
        "    str(x['question1']), str(x['question2'])), axis=1)\n",
        "\n",
        "fuzzys = ['fuzz_qratio', 'fuzz_WRatio', 'fuzz_partial_ratio', 'fuzz_partial_token_set_ratio',\n",
        "          'fuzz_partial_token_sort_ratio','fuzz_token_set_ratio', 'fuzz_token_sort_ratio']"
      ],
      "execution_count": 0,
      "outputs": []
    },
    {
      "cell_type": "code",
      "metadata": {
        "id": "h4yi6kfd0NIZ",
        "colab_type": "code",
        "colab": {}
      },
      "source": [
        "feature_names = list(features.keys())\n",
        "print([features[name].shape for name in feature_names])\n",
        "all_features = np.concatenate([features[name][:,None] for name in feature_names], axis=1)\n",
        "labels = np.array(is_duplicates)"
      ],
      "execution_count": 0,
      "outputs": []
    },
    {
      "cell_type": "code",
      "metadata": {
        "id": "Bwb7Qg4aEB1c",
        "colab_type": "code",
        "colab": {}
      },
      "source": [
        "all_features = np.concatenate((all_features, df_train[basics+fuzzys].values), axis=1)"
      ],
      "execution_count": 0,
      "outputs": []
    },
    {
      "cell_type": "code",
      "metadata": {
        "id": "2FMWhYhJ6GIW",
        "colab_type": "code",
        "colab": {}
      },
      "source": [
        "np.save('../data/features.npy', all_features)"
      ],
      "execution_count": 0,
      "outputs": []
    },
    {
      "cell_type": "markdown",
      "metadata": {
        "id": "B_9cvKc-NKro",
        "colab_type": "text"
      },
      "source": [
        "# Analyze features"
      ]
    },
    {
      "cell_type": "code",
      "metadata": {
        "id": "e1AF5aLQ5sTJ",
        "colab_type": "code",
        "colab": {
          "base_uri": "https://localhost:8080/",
          "height": 226
        },
        "outputId": "2df62015-060b-4741-b15e-a7085cd2e415"
      },
      "source": [
        "all_features_df = pd.DataFrame(data = all_features, columns=feature_names+basics+fuzzys)\n",
        "all_features_df.head()"
      ],
      "execution_count": 70,
      "outputs": [
        {
          "output_type": "execute_result",
          "data": {
            "text/html": [
              "<div>\n",
              "<style scoped>\n",
              "    .dataframe tbody tr th:only-of-type {\n",
              "        vertical-align: middle;\n",
              "    }\n",
              "\n",
              "    .dataframe tbody tr th {\n",
              "        vertical-align: top;\n",
              "    }\n",
              "\n",
              "    .dataframe thead th {\n",
              "        text-align: right;\n",
              "    }\n",
              "</style>\n",
              "<table border=\"1\" class=\"dataframe\">\n",
              "  <thead>\n",
              "    <tr style=\"text-align: right;\">\n",
              "      <th></th>\n",
              "      <th>SBERT</th>\n",
              "      <th>doc2vec</th>\n",
              "      <th>sent2vec</th>\n",
              "      <th>SIF</th>\n",
              "      <th>Count</th>\n",
              "      <th>TFIDF</th>\n",
              "      <th>len_q1</th>\n",
              "      <th>len_q2</th>\n",
              "      <th>diff_len</th>\n",
              "      <th>len_char_q1</th>\n",
              "      <th>len_char_q2</th>\n",
              "      <th>len_word_q1</th>\n",
              "      <th>len_word_q2</th>\n",
              "      <th>common_words</th>\n",
              "      <th>fuzz_qratio</th>\n",
              "      <th>fuzz_WRatio</th>\n",
              "      <th>fuzz_partial_ratio</th>\n",
              "      <th>fuzz_partial_token_set_ratio</th>\n",
              "      <th>fuzz_partial_token_sort_ratio</th>\n",
              "      <th>fuzz_token_set_ratio</th>\n",
              "      <th>fuzz_token_sort_ratio</th>\n",
              "    </tr>\n",
              "  </thead>\n",
              "  <tbody>\n",
              "    <tr>\n",
              "      <th>0</th>\n",
              "      <td>0.840102</td>\n",
              "      <td>0.945714</td>\n",
              "      <td>0.909948</td>\n",
              "      <td>0.942983</td>\n",
              "      <td>0.769231</td>\n",
              "      <td>0.802452</td>\n",
              "      <td>66.0</td>\n",
              "      <td>57.0</td>\n",
              "      <td>9.0</td>\n",
              "      <td>20.0</td>\n",
              "      <td>20.0</td>\n",
              "      <td>14.0</td>\n",
              "      <td>12.0</td>\n",
              "      <td>10.0</td>\n",
              "      <td>93.0</td>\n",
              "      <td>95.0</td>\n",
              "      <td>98.0</td>\n",
              "      <td>100.0</td>\n",
              "      <td>89.0</td>\n",
              "      <td>100.0</td>\n",
              "      <td>93.0</td>\n",
              "    </tr>\n",
              "    <tr>\n",
              "      <th>1</th>\n",
              "      <td>0.746924</td>\n",
              "      <td>0.671681</td>\n",
              "      <td>0.069640</td>\n",
              "      <td>0.764839</td>\n",
              "      <td>0.307692</td>\n",
              "      <td>0.419284</td>\n",
              "      <td>51.0</td>\n",
              "      <td>88.0</td>\n",
              "      <td>-37.0</td>\n",
              "      <td>21.0</td>\n",
              "      <td>29.0</td>\n",
              "      <td>8.0</td>\n",
              "      <td>13.0</td>\n",
              "      <td>4.0</td>\n",
              "      <td>66.0</td>\n",
              "      <td>86.0</td>\n",
              "      <td>73.0</td>\n",
              "      <td>100.0</td>\n",
              "      <td>75.0</td>\n",
              "      <td>86.0</td>\n",
              "      <td>63.0</td>\n",
              "    </tr>\n",
              "    <tr>\n",
              "      <th>2</th>\n",
              "      <td>0.891067</td>\n",
              "      <td>0.797049</td>\n",
              "      <td>0.439930</td>\n",
              "      <td>0.783453</td>\n",
              "      <td>0.363636</td>\n",
              "      <td>0.317999</td>\n",
              "      <td>73.0</td>\n",
              "      <td>59.0</td>\n",
              "      <td>14.0</td>\n",
              "      <td>25.0</td>\n",
              "      <td>24.0</td>\n",
              "      <td>14.0</td>\n",
              "      <td>10.0</td>\n",
              "      <td>4.0</td>\n",
              "      <td>54.0</td>\n",
              "      <td>63.0</td>\n",
              "      <td>53.0</td>\n",
              "      <td>100.0</td>\n",
              "      <td>71.0</td>\n",
              "      <td>66.0</td>\n",
              "      <td>66.0</td>\n",
              "    </tr>\n",
              "    <tr>\n",
              "      <th>3</th>\n",
              "      <td>0.281117</td>\n",
              "      <td>0.567116</td>\n",
              "      <td>0.091834</td>\n",
              "      <td>0.111824</td>\n",
              "      <td>0.000000</td>\n",
              "      <td>0.000000</td>\n",
              "      <td>50.0</td>\n",
              "      <td>65.0</td>\n",
              "      <td>-15.0</td>\n",
              "      <td>19.0</td>\n",
              "      <td>26.0</td>\n",
              "      <td>11.0</td>\n",
              "      <td>9.0</td>\n",
              "      <td>0.0</td>\n",
              "      <td>35.0</td>\n",
              "      <td>35.0</td>\n",
              "      <td>30.0</td>\n",
              "      <td>37.0</td>\n",
              "      <td>38.0</td>\n",
              "      <td>36.0</td>\n",
              "      <td>36.0</td>\n",
              "    </tr>\n",
              "    <tr>\n",
              "      <th>4</th>\n",
              "      <td>0.453246</td>\n",
              "      <td>0.655056</td>\n",
              "      <td>0.166427</td>\n",
              "      <td>0.604846</td>\n",
              "      <td>0.000000</td>\n",
              "      <td>0.000000</td>\n",
              "      <td>76.0</td>\n",
              "      <td>39.0</td>\n",
              "      <td>37.0</td>\n",
              "      <td>25.0</td>\n",
              "      <td>18.0</td>\n",
              "      <td>13.0</td>\n",
              "      <td>7.0</td>\n",
              "      <td>2.0</td>\n",
              "      <td>46.0</td>\n",
              "      <td>86.0</td>\n",
              "      <td>54.0</td>\n",
              "      <td>100.0</td>\n",
              "      <td>63.0</td>\n",
              "      <td>67.0</td>\n",
              "      <td>47.0</td>\n",
              "    </tr>\n",
              "  </tbody>\n",
              "</table>\n",
              "</div>"
            ],
            "text/plain": [
              "      SBERT   doc2vec  ...  fuzz_token_set_ratio  fuzz_token_sort_ratio\n",
              "0  0.840102  0.945714  ...                 100.0                   93.0\n",
              "1  0.746924  0.671681  ...                  86.0                   63.0\n",
              "2  0.891067  0.797049  ...                  66.0                   66.0\n",
              "3  0.281117  0.567116  ...                  36.0                   36.0\n",
              "4  0.453246  0.655056  ...                  67.0                   47.0\n",
              "\n",
              "[5 rows x 21 columns]"
            ]
          },
          "metadata": {
            "tags": []
          },
          "execution_count": 70
        }
      ]
    },
    {
      "cell_type": "code",
      "metadata": {
        "id": "hPsUTIn05Xjh",
        "colab_type": "code",
        "colab": {
          "base_uri": "https://localhost:8080/",
          "height": 419
        },
        "outputId": "13f33e58-82af-4554-bcec-a1db9b0f79eb"
      },
      "source": [
        "cor = all_features_df.corr()\n",
        "sns.heatmap(cor)"
      ],
      "execution_count": 71,
      "outputs": [
        {
          "output_type": "execute_result",
          "data": {
            "text/plain": [
              "<matplotlib.axes._subplots.AxesSubplot at 0x7f3cd350b780>"
            ]
          },
          "metadata": {
            "tags": []
          },
          "execution_count": 71
        },
        {
          "output_type": "display_data",
          "data": {
            "image/png": "[encoded data removed]",
            "text/plain": [
              "<Figure size 432x288 with 2 Axes>"
            ]
          },
          "metadata": {
            "tags": [],
            "needs_background": "light"
          }
        }
      ]
    },
    {
      "cell_type": "code",
      "metadata": {
        "id": "W-Mdyh-L_pS2",
        "colab_type": "code",
        "colab": {
          "base_uri": "https://localhost:8080/",
          "height": 52
        },
        "outputId": "aeee8bb1-e144-411d-b8e8-d4c5ceeb2363"
      },
      "source": [
        "print((np.array(is_duplicates)==1).sum())\n",
        "print((np.array(is_duplicates)==0).sum())"
      ],
      "execution_count": 72,
      "outputs": [
        {
          "output_type": "stream",
          "text": [
            "149263\n",
            "255027\n"
          ],
          "name": "stdout"
        }
      ]
    },
    {
      "cell_type": "markdown",
      "metadata": {
        "id": "n2Oe9Gt5NOcs",
        "colab_type": "text"
      },
      "source": [
        "# Learning"
      ]
    },
    {
      "cell_type": "code",
      "metadata": {
        "id": "Jv08ukiL-q-n",
        "colab_type": "code",
        "colab": {}
      },
      "source": [
        "# rebalance dataset\n",
        "from sklearn.utils import resample\n",
        "all_features_labels = np.concatenate((all_features, labels[:,None]), axis=1)\n",
        "\n",
        "tmp_duplicates = resample(all_features_labels[all_features_labels[:,-1]==1], replace=True, n_samples=(labels==0).sum(), random_state=42)\n",
        "all_features_labels = np.concatenate((tmp_duplicates, all_features_labels[all_features_labels[:,-1]==0]))\n",
        "\n",
        "new_all_features = all_features_labels[:,:-1]\n",
        "new_labels = all_features_labels[:,-1]\n"
      ],
      "execution_count": 0,
      "outputs": []
    },
    {
      "cell_type": "code",
      "metadata": {
        "id": "zfrhAI2_BXA3",
        "colab_type": "code",
        "colab": {
          "base_uri": "https://localhost:8080/",
          "height": 52
        },
        "outputId": "30a69959-20fb-43fd-9a5c-081d49f62086"
      },
      "source": [
        "print(len(all_features_labels[all_features_labels[:,-1]==1]))\n",
        "print(len(all_features_labels[all_features_labels[:,-1]==0]))"
      ],
      "execution_count": 74,
      "outputs": [
        {
          "output_type": "stream",
          "text": [
            "255027\n",
            "255027\n"
          ],
          "name": "stdout"
        }
      ]
    },
    {
      "cell_type": "code",
      "metadata": {
        "id": "KyHur3OLyvym",
        "colab_type": "code",
        "colab": {
          "base_uri": "https://localhost:8080/",
          "height": 781
        },
        "outputId": "b1572b66-987a-42c1-c2e9-b503620dd38c"
      },
      "source": [
        "params = {}\n",
        "params['objective'] = 'binary:logistic'\n",
        "params['eval_metric'] = 'logloss'\n",
        "params['eta'] = 0.02\n",
        "params['max_depth'] = 4\n",
        "\n",
        "X_train, X_valid, y_train, y_valid = train_test_split(new_all_features, new_labels, train_size = 0.7, random_state=42, shuffle=True, stratify=new_labels)\n",
        "target_train = y_train\n",
        "target_valid = y_valid\n",
        "\n",
        "d_train = xgb.DMatrix(X_train, label=target_train)\n",
        "d_valid = xgb.DMatrix(X_valid, label=target_valid)\n",
        "watchlist = [(d_train, 'train'), (d_valid, 'valid')]\n",
        "\n",
        "model = xgb.train(params, d_train, 400, watchlist, early_stopping_rounds=50, verbose_eval=10)\n",
        "\n",
        "# model.fit(X_train, target_train)\n",
        "\n",
        "# predictions_train = model.predict(X_train)\n",
        "# predictions_valid = model.predict(X_valid)\n",
        "\n",
        "# proba_predictions_train = model.predict_proba(X_train)\n",
        "# proba_predictions_valid = model.predict_proba(X_valid)\n",
        "\n",
        "# loss_train = log_loss(target_train, proba_predictions_train)\n",
        "# loss_valid = log_loss(target_valid, proba_predictions_valid)\n",
        "\n",
        "# accuracy_train = accuracy_score(target_train, predictions_train)\n",
        "# accuracy_valid = accuracy_score(target_valid, predictions_valid)\n",
        "\n",
        "# f1_train = f1_score(target_train, predictions_train)\n",
        "# f1_valid = f1_score(target_valid, predictions_valid)"
      ],
      "execution_count": 75,
      "outputs": [
        {
          "output_type": "stream",
          "text": [
            "[0]\ttrain-logloss:0.685075\tvalid-logloss:0.685089\n",
            "Multiple eval metrics have been passed: 'valid-logloss' will be used for early stopping.\n",
            "\n",
            "Will train until valid-logloss hasn't improved in 50 rounds.\n",
            "[10]\ttrain-logloss:0.619105\tvalid-logloss:0.618451\n",
            "[20]\ttrain-logloss:0.569872\tvalid-logloss:0.571058\n",
            "[30]\ttrain-logloss:0.536083\tvalid-logloss:0.536664\n",
            "[40]\ttrain-logloss:0.510805\tvalid-logloss:0.511338\n",
            "[50]\ttrain-logloss:0.491136\tvalid-logloss:0.491878\n",
            "[60]\ttrain-logloss:0.475762\tvalid-logloss:0.477123\n",
            "[70]\ttrain-logloss:0.464724\tvalid-logloss:0.46582\n",
            "[80]\ttrain-logloss:0.455438\tvalid-logloss:0.456783\n",
            "[90]\ttrain-logloss:0.448103\tvalid-logloss:0.44963\n",
            "[100]\ttrain-logloss:0.442194\tvalid-logloss:0.443688\n",
            "[110]\ttrain-logloss:0.437511\tvalid-logloss:0.438871\n",
            "[120]\ttrain-logloss:0.433923\tvalid-logloss:0.435485\n",
            "[130]\ttrain-logloss:0.430849\tvalid-logloss:0.432606\n",
            "[140]\ttrain-logloss:0.428451\tvalid-logloss:0.430186\n",
            "[150]\ttrain-logloss:0.426323\tvalid-logloss:0.428001\n",
            "[160]\ttrain-logloss:0.424524\tvalid-logloss:0.426251\n",
            "[170]\ttrain-logloss:0.422826\tvalid-logloss:0.424827\n",
            "[180]\ttrain-logloss:0.421797\tvalid-logloss:0.423714\n",
            "[190]\ttrain-logloss:0.420374\tvalid-logloss:0.42249\n",
            "[200]\ttrain-logloss:0.419393\tvalid-logloss:0.421432\n",
            "[210]\ttrain-logloss:0.418402\tvalid-logloss:0.420595\n",
            "[220]\ttrain-logloss:0.417508\tvalid-logloss:0.419794\n",
            "[230]\ttrain-logloss:0.416642\tvalid-logloss:0.418898\n",
            "[240]\ttrain-logloss:0.415862\tvalid-logloss:0.418151\n",
            "[250]\ttrain-logloss:0.414894\tvalid-logloss:0.417445\n",
            "[260]\ttrain-logloss:0.414031\tvalid-logloss:0.416701\n",
            "[270]\ttrain-logloss:0.413219\tvalid-logloss:0.415955\n",
            "[280]\ttrain-logloss:0.412485\tvalid-logloss:0.415282\n",
            "[290]\ttrain-logloss:0.411666\tvalid-logloss:0.414499\n",
            "[300]\ttrain-logloss:0.410986\tvalid-logloss:0.413873\n",
            "[310]\ttrain-logloss:0.410207\tvalid-logloss:0.413142\n",
            "[320]\ttrain-logloss:0.409556\tvalid-logloss:0.412536\n",
            "[330]\ttrain-logloss:0.408847\tvalid-logloss:0.411868\n",
            "[340]\ttrain-logloss:0.408302\tvalid-logloss:0.411364\n",
            "[350]\ttrain-logloss:0.407712\tvalid-logloss:0.410819\n",
            "[360]\ttrain-logloss:0.407226\tvalid-logloss:0.410367\n",
            "[370]\ttrain-logloss:0.406697\tvalid-logloss:0.409873\n",
            "[380]\ttrain-logloss:0.406177\tvalid-logloss:0.409383\n",
            "[390]\ttrain-logloss:0.405783\tvalid-logloss:0.40902\n",
            "[399]\ttrain-logloss:0.405294\tvalid-logloss:0.408562\n"
          ],
          "name": "stdout"
        }
      ]
    },
    {
      "cell_type": "code",
      "metadata": {
        "id": "_ahVrI7gIgfW",
        "colab_type": "code",
        "colab": {}
      },
      "source": [
        ""
      ],
      "execution_count": 0,
      "outputs": []
    }
  ]
}