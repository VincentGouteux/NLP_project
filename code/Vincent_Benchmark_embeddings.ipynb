{
  "nbformat": 4,
  "nbformat_minor": 0,
  "metadata": {
    "colab": {
      "name": "Benchmark_embeddings.ipynb",
      "provenance": [],
      "collapsed_sections": [
        "d7sKiK7UMysy",
        "hqhLdd_tM3fh",
        "vofrZj3AHVm1",
        "si1eoJbCJUld",
        "PaO2FmtRjIev",
        "Mkll8RuSp2bJ"
      ],
      "toc_visible": true,
      "machine_shape": "hm"
    },
    "kernelspec": {
      "name": "python3",
      "display_name": "Python 3"
    },
    "accelerator": "GPU"
  },
  "cells": [
    {
      "cell_type": "code",
      "metadata": {
        "id": "KAKeUrkIIg2s",
        "colab_type": "code",
        "outputId": "4a311c66-8432-49e8-dea3-6f05a52f7cec",
        "colab": {
          "base_uri": "https://localhost:8080/",
          "height": 419
        }
      },
      "source": [
        "# Mount drive\n",
        "import os\n",
        "from google.colab import drive\n",
        "%cd /content\n",
        "drive.mount('/content/drive', force_remount=True)\n",
        "%cd 'drive/My Drive/Colab Notebooks/NLP/project/code'\n",
        "%ls -l\n",
        "print(os.listdir())"
      ],
      "execution_count": 92,
      "outputs": [
        {
          "output_type": "stream",
          "text": [
            "/content\n",
            "Mounted at /content/drive\n",
            "/content/drive/My Drive/Colab Notebooks/NLP/project/code\n",
            "total 2164\n",
            "-rw------- 1 root root  69858 May  9 13:09 Benchmark_embeddings.ipynb\n",
            "-rw------- 1 root root   3534 Apr 22 16:32 cleaning.py\n",
            "-rw------- 1 root root   4160 May  9 13:07 compute_embeddings.py\n",
            "-rw------- 1 root root 363996 May  9 10:48 master.zip\n",
            "-rw------- 1 root root 363996 May  9 10:49 master.zip.1\n",
            "-rw------- 1 root root 363996 May  9 10:52 master.zip.2\n",
            "drwx------ 2 root root   4096 May  9 10:04 \u001b[0m\u001b[01;34m__pycache__\u001b[0m/\n",
            "-rw------- 1 root root  21800 Apr 25 09:06 pytorch_tuto.ipynb\n",
            "drwx------ 2 root root   4096 May  1 16:25 \u001b[01;34msent2vec-master\u001b[0m/\n",
            "-rw------- 1 root root   2689 May  9 09:38 transform_dataset.py\n",
            "-rw------- 1 root root 808814 May  4 08:33 Untitled0.ipynb\n",
            "-rw------- 1 root root  22808 Apr 22 16:46 Untitled.ipynb\n",
            "-rw------- 1 root root   3545 Apr 22 16:32 utils_cleaning.py\n",
            "-rw------- 1 root root  21429 May  7 07:34 Vincent_doc2vec.ipynb\n",
            "-rw------- 1 root root  20152 Apr 25 16:47 Vincent.ipynb\n",
            "-rw------- 1 root root  83265 May  3 09:32 Vincent_SBERT.ipynb\n",
            "-rw------- 1 root root  50693 May  4 13:15 Vincent_tfidf.ipynb\n",
            "['Benchmark_embeddings.ipynb', 'cleaning.py', 'utils_cleaning.py', 'Untitled.ipynb', '.ipynb_checkpoints', 'pytorch_tuto.ipynb', '.vector_cache', 'Vincent.ipynb', 'Vincent_SBERT.ipynb', '__pycache__', 'Untitled0.ipynb', 'Vincent_tfidf.ipynb', 'Vincent_doc2vec.ipynb', 'transform_dataset.py', 'compute_embeddings.py', 'master.zip', 'master.zip.1', 'sent2vec-master', 'master.zip.2']\n"
          ],
          "name": "stdout"
        }
      ]
    },
    {
      "cell_type": "code",
      "metadata": {
        "id": "h8ShhJHdIYcB",
        "colab_type": "code",
        "colab": {}
      },
      "source": [
        "import pandas as pd\n",
        "import numpy as np\n",
        "import random\n",
        "import re\n",
        "import time\n",
        "from string import punctuation\n",
        "import scipy.io\n",
        "import matplotlib.pyplot as plt\n",
        "\n",
        "import nltk\n",
        "import scipy.sparse as sp\n",
        "# import nltk\n",
        "# from nltk.corpus import stopwords\n",
        "# nltk.download('stopwords')\n",
        "# from nltk.stem import SnowballStemmer\n",
        "# nltk.download('punkt')\n",
        "# from nltk.stem import WordNetLemmatizer \n",
        "# nltk.download('wordnet')\n",
        "\n",
        "# from gensim.test.utils import datapath, get_tmpfile\n",
        "# from gensim.models import KeyedVectors\n",
        "# from gensim.scripts.glove2word2vec import glove2word2vec\n",
        "\n",
        "import torch\n",
        "import torch.nn as nn\n",
        "from torchtext.data import Field, LabelField, TabularDataset, Iterator, BucketIterator\n",
        "from torchtext import vocab\n",
        "import torch.optim as optim\n",
        "\n",
        "import transform_dataset\n",
        "import compute_embeddings"
      ],
      "execution_count": 0,
      "outputs": []
    },
    {
      "cell_type": "code",
      "metadata": {
        "id": "yKpZVaEAwCs5",
        "colab_type": "code",
        "colab": {}
      },
      "source": [
        "questions1, questions2, is_duplicates = transform_dataset.clean_quora()\n",
        "cleaned_questions1, cleaned_questions2, cleaned_is_duplicates = transform_dataset.clean_quora(output='tokenized_list')"
      ],
      "execution_count": 0,
      "outputs": []
    },
    {
      "cell_type": "code",
      "metadata": {
        "id": "AXR8f1FG111f",
        "colab_type": "code",
        "colab": {}
      },
      "source": [
        "iterator = transform_dataset.clean_quora(output = 'iterator_from_file')"
      ],
      "execution_count": 0,
      "outputs": []
    },
    {
      "cell_type": "code",
      "metadata": {
        "id": "Lc8qNcHEWZqF",
        "colab_type": "code",
        "colab": {}
      },
      "source": [
        "from sklearn.linear_model import LogisticRegression\n",
        "from sklearn.model_selection import train_test_split\n",
        "from sklearn.metrics import log_loss, accuracy_score, f1_score, precision_score, recall_score\n",
        "from sklearn.pipeline import Pipeline\n",
        "from sklearn.multiclass import OneVsRestClassifier\n",
        "\n",
        "def get_features(embs1, embs2):\n",
        "  return np.concatenate((embs1, embs2, np.abs(embs2-embs1)), axis=1)\n",
        "\n",
        "def model_efficiency(embs, labels):\n",
        "  model = Pipeline([\n",
        "                ('clf', LogisticRegression()),\n",
        "            ])\n",
        "  X_train, X_valid, y_train, y_valid = train_test_split(embs, labels, train_size = 0.7, random_state=42, shuffle=True, stratify=labels)\n",
        "\n",
        "  target_train = y_train\n",
        "  target_valid = y_valid\n",
        "  \n",
        "  model.fit(X_train, target_train)\n",
        "  \n",
        "  predictions_train = model.predict(X_train)\n",
        "  predictions_valid = model.predict(X_valid)\n",
        "\n",
        "  proba_predictions_train = model.predict_proba(X_train)\n",
        "  proba_predictions_valid = model.predict_proba(X_valid)\n",
        "\n",
        "  loss_train = log_loss(target_train, proba_predictions_train)\n",
        "  loss_valid = log_loss(target_valid, proba_predictions_valid)\n",
        "\n",
        "  accuracy_train = accuracy_score(target_train, predictions_train)\n",
        "  accuracy_valid = accuracy_score(target_valid, predictions_valid)\n",
        "\n",
        "  f1_train = f1_score(target_train, predictions_train)\n",
        "  f1_valid = f1_score(target_valid, predictions_valid)\n",
        "\n",
        "  return {'loss':np.round(loss_valid,2), 'accuracy':np.round(accuracy_valid,2), 'f1':np.round(f1_valid,2)}"
      ],
      "execution_count": 0,
      "outputs": []
    },
    {
      "cell_type": "markdown",
      "metadata": {
        "id": "BAzE4PlD-d8w",
        "colab_type": "text"
      },
      "source": [
        "# Benchmark"
      ]
    },
    {
      "cell_type": "code",
      "metadata": {
        "id": "fhR3w90Q-gO4",
        "colab_type": "code",
        "colab": {}
      },
      "source": [
        "processing_time = {}\n",
        "metrics = {}\n",
        "\n",
        "processing_time['doc2vec'] = 682.49\n",
        "processing_time['sent2vec'] = 9.01\n",
        "processing_time['SIF'] = 18.9\n",
        "processing_time['SBERT'] = 3550.54\n",
        "\n",
        "metrics['doc2vec'] = {'loss': 0.54, 'accuracy': 0.71, 'f1': 0.57}\n",
        "metrics['sent2vec'] = {'loss': 0.57, 'accuracy': 0.71, 'f1': 0.54}\n",
        "metrics['SIF'] = {'loss': 0.58, 'accuracy': 0.69, 'f1': 0.49}\n",
        "metrics['SBERT'] = {'loss': 0.42, 'accuracy': 0.8, 'f1': 0.73}"
      ],
      "execution_count": 0,
      "outputs": []
    },
    {
      "cell_type": "markdown",
      "metadata": {
        "id": "d7sKiK7UMysy",
        "colab_type": "text"
      },
      "source": [
        "## Doc2Vec\n",
        "\n",
        "### library reference\n",
        "- https://radimrehurek.com/gensim/models/doc2vec.html\n",
        "\n",
        "### pre-trained embeddings (would need to be changed for production)\n",
        "https://wikipedia2vec.github.io/wikipedia2vec/pretrained/"
      ]
    },
    {
      "cell_type": "code",
      "metadata": {
        "id": "vtJIMYkI4kNZ",
        "colab_type": "code",
        "colab": {
          "base_uri": "https://localhost:8080/",
          "height": 141
        },
        "outputId": "d2188086-0f48-4472-a721-9cd401d794c7"
      },
      "source": [
        "model = compute_embeddings.Doc2Vec_model('../../../stage/embeddings/doc2vec/enwiki_dbow/doc2vec.bin')\n",
        "model.load_model()"
      ],
      "execution_count": 11,
      "outputs": [
        {
          "output_type": "stream",
          "text": [
            "/usr/local/lib/python3.6/dist-packages/smart_open/smart_open_lib.py:253: UserWarning: This function is deprecated, use smart_open.open instead. See the migration notes for details: https://github.com/RaRe-Technologies/smart_open/blob/master/README.rst#migrating-to-the-new-open-function\n",
            "  'See the migration notes for details: %s' % _MIGRATION_NOTES_URL\n",
            "/usr/local/lib/python3.6/dist-packages/gensim/models/doc2vec.py:566: UserWarning: The parameter `iter` is deprecated, will be removed in 4.0.0, use `epochs` instead.\n",
            "  warnings.warn(\"The parameter `iter` is deprecated, will be removed in 4.0.0, use `epochs` instead.\")\n",
            "/usr/local/lib/python3.6/dist-packages/gensim/models/doc2vec.py:570: UserWarning: The parameter `size` is deprecated, will be removed in 4.0.0, use `vector_size` instead.\n",
            "  warnings.warn(\"The parameter `size` is deprecated, will be removed in 4.0.0, use `vector_size` instead.\")\n"
          ],
          "name": "stderr"
        }
      ]
    },
    {
      "cell_type": "code",
      "metadata": {
        "id": "tsQNXnF66LdC",
        "colab_type": "code",
        "colab": {
          "base_uri": "https://localhost:8080/",
          "height": 52
        },
        "outputId": "cc2d5825-f083-44ed-808e-ef2d6bf185e5"
      },
      "source": [
        "%%time\n",
        "start_time = time.time()\n",
        "embs1 = model.calculate_embeddings(cleaned_questions1)\n",
        "embs2 = model.calculate_embeddings(cleaned_questions2)\n",
        "\n",
        "end_time = time.time()\n",
        "processing_time['doc2vec'] = np.round(end_time-start_time,2)"
      ],
      "execution_count": 12,
      "outputs": [
        {
          "output_type": "stream",
          "text": [
            "CPU times: user 11min 18s, sys: 3.98 s, total: 11min 22s\n",
            "Wall time: 11min 22s\n"
          ],
          "name": "stdout"
        }
      ]
    },
    {
      "cell_type": "code",
      "metadata": {
        "id": "bP2hz73w6uom",
        "colab_type": "code",
        "colab": {}
      },
      "source": [
        "np.save('../data/doc2vec_embeddings1.npy', embs1)\n",
        "np.save('../data/doc2vec_embeddings2.npy', embs2)"
      ],
      "execution_count": 0,
      "outputs": []
    },
    {
      "cell_type": "code",
      "metadata": {
        "id": "R1OdicJILu-5",
        "colab_type": "code",
        "outputId": "ff408aa7-8a97-4a87-bc72-d9e37f82ce03",
        "colab": {
          "base_uri": "https://localhost:8080/",
          "height": 193
        }
      },
      "source": [
        "features = np.concatenate((embs1, embs2, np.abs(embs2-embs1)), axis=1)\n",
        "metric = model_efficiency(features, is_duplicates)\n",
        "metrics['doc2vec'] = metric\n",
        "print(metrics)"
      ],
      "execution_count": 20,
      "outputs": [
        {
          "output_type": "stream",
          "text": [
            "/usr/local/lib/python3.6/dist-packages/sklearn/linear_model/_logistic.py:940: ConvergenceWarning: lbfgs failed to converge (status=1):\n",
            "STOP: TOTAL NO. of ITERATIONS REACHED LIMIT.\n",
            "\n",
            "Increase the number of iterations (max_iter) or scale the data as shown in:\n",
            "    https://scikit-learn.org/stable/modules/preprocessing.html\n",
            "Please also refer to the documentation for alternative solver options:\n",
            "    https://scikit-learn.org/stable/modules/linear_model.html#logistic-regression\n",
            "  extra_warning_msg=_LOGISTIC_SOLVER_CONVERGENCE_MSG)\n"
          ],
          "name": "stderr"
        },
        {
          "output_type": "stream",
          "text": [
            "{'doc2vec': {'loss': 0.54, 'accuracy': 0.71, 'f1': 0.57}}\n"
          ],
          "name": "stdout"
        }
      ]
    },
    {
      "cell_type": "code",
      "metadata": {
        "id": "XD76kCI8M5-P",
        "colab_type": "code",
        "outputId": "31ec517d-393e-48dd-b236-d18eece27631",
        "colab": {
          "base_uri": "https://localhost:8080/",
          "height": 282
        }
      },
      "source": [
        "plt.bar(*zip(*processing_time.items()))\n",
        "print(processing_time)"
      ],
      "execution_count": 21,
      "outputs": [
        {
          "output_type": "stream",
          "text": [
            "{'doc2vec': 682.49}\n"
          ],
          "name": "stdout"
        },
        {
          "output_type": "display_data",
          "data": {
            "image/png": "[encoded data removed]",
            "text/plain": [
              "<Figure size 432x288 with 1 Axes>"
            ]
          },
          "metadata": {
            "tags": [],
            "needs_background": "light"
          }
        }
      ]
    },
    {
      "cell_type": "markdown",
      "metadata": {
        "id": "hqhLdd_tM3fh",
        "colab_type": "text"
      },
      "source": [
        "## Sent2Vec\n",
        "\n",
        "### code\n",
        "- https://github.com/epfml/sent2vec\n",
        "- https://github.com/facebookresearch/fastText#models\n",
        "\n",
        "### pretrained embeddings\n",
        "- https://github.com/epfml/sent2vec\n",
        "- https://fasttext.cc/docs/en/english-vectors.html"
      ]
    },
    {
      "cell_type": "code",
      "metadata": {
        "id": "prXuAtB9DD3z",
        "colab_type": "code",
        "colab": {}
      },
      "source": [
        "# compute_embeddings.download_and_install_git('https://github.com/epfml/sent2vec/archive/master.zip')"
      ],
      "execution_count": 0,
      "outputs": []
    },
    {
      "cell_type": "code",
      "metadata": {
        "id": "hZLxkBWeASD6",
        "colab_type": "code",
        "colab": {}
      },
      "source": [
        "model = compute_embeddings.Sent2Vec('../../../stage/embeddings/sent2vec/sent2vec_toronto_books_unigrams')\n",
        "model.load_model()"
      ],
      "execution_count": 0,
      "outputs": []
    },
    {
      "cell_type": "code",
      "metadata": {
        "id": "s6AGFxG_ASNh",
        "colab_type": "code",
        "colab": {
          "base_uri": "https://localhost:8080/",
          "height": 52
        },
        "outputId": "a59396fd-ac16-48e0-8342-8ae90d13f948"
      },
      "source": [
        "%%time\n",
        "start_time = time.time()\n",
        "embs1 = model.calculate_embeddings(questions1)\n",
        "embs2 = model.calculate_embeddings(questions2)\n",
        "\n",
        "end_time = time.time()\n",
        "processing_time['sent2vec'] = np.round(end_time-start_time,2)"
      ],
      "execution_count": 31,
      "outputs": [
        {
          "output_type": "stream",
          "text": [
            "CPU times: user 7.67 s, sys: 1.37 s, total: 9.04 s\n",
            "Wall time: 9.01 s\n"
          ],
          "name": "stdout"
        }
      ]
    },
    {
      "cell_type": "code",
      "metadata": {
        "id": "n8xJ4mpyGbZx",
        "colab_type": "code",
        "colab": {}
      },
      "source": [
        "np.save('../data/sent2vec_embeddings1.npy', embs1)\n",
        "np.save('../data/sent2vec_embeddings2.npy', embs2)"
      ],
      "execution_count": 0,
      "outputs": []
    },
    {
      "cell_type": "code",
      "metadata": {
        "id": "s4IxUPRZM-Wj",
        "colab_type": "code",
        "outputId": "ed56fc89-5f0d-432a-f825-daf412fe84ad",
        "colab": {
          "base_uri": "https://localhost:8080/",
          "height": 193
        }
      },
      "source": [
        "features = np.concatenate((embs1, embs2, np.abs(embs2-embs1)), axis=1)\n",
        "metric = model_efficiency(features, is_duplicates)\n",
        "metrics['sent2vec'] = metric\n",
        "print(metrics)"
      ],
      "execution_count": 33,
      "outputs": [
        {
          "output_type": "stream",
          "text": [
            "/usr/local/lib/python3.6/dist-packages/sklearn/linear_model/_logistic.py:940: ConvergenceWarning: lbfgs failed to converge (status=1):\n",
            "STOP: TOTAL NO. of ITERATIONS REACHED LIMIT.\n",
            "\n",
            "Increase the number of iterations (max_iter) or scale the data as shown in:\n",
            "    https://scikit-learn.org/stable/modules/preprocessing.html\n",
            "Please also refer to the documentation for alternative solver options:\n",
            "    https://scikit-learn.org/stable/modules/linear_model.html#logistic-regression\n",
            "  extra_warning_msg=_LOGISTIC_SOLVER_CONVERGENCE_MSG)\n"
          ],
          "name": "stderr"
        },
        {
          "output_type": "stream",
          "text": [
            "{'sent2vec': {'loss': 0.57, 'accuracy': 0.71, 'f1': 0.54}}\n"
          ],
          "name": "stdout"
        }
      ]
    },
    {
      "cell_type": "code",
      "metadata": {
        "id": "G7_Aof3LNBzY",
        "colab_type": "code",
        "outputId": "2ffa11fc-c1a6-4a65-da07-04323b179cd4",
        "colab": {
          "base_uri": "https://localhost:8080/",
          "height": 282
        }
      },
      "source": [
        "plt.bar(*zip(*processing_time.items()))\n",
        "print(processing_time)"
      ],
      "execution_count": 34,
      "outputs": [
        {
          "output_type": "stream",
          "text": [
            "{'sent2vec': 9.01}\n"
          ],
          "name": "stdout"
        },
        {
          "output_type": "display_data",
          "data": {
            "image/png": "[encoded data removed]",
            "text/plain": [
              "<Figure size 432x288 with 1 Axes>"
            ]
          },
          "metadata": {
            "tags": [],
            "needs_background": "light"
          }
        }
      ]
    },
    {
      "cell_type": "markdown",
      "metadata": {
        "id": "vofrZj3AHVm1",
        "colab_type": "text"
      },
      "source": [
        "## SBERT (Sentence BERT)\n",
        "\n",
        "### code and embeddings\n",
        "- https://github.com/UKPLab/sentence-transformers\n"
      ]
    },
    {
      "cell_type": "code",
      "metadata": {
        "id": "qmuKwqs9GMoJ",
        "colab_type": "code",
        "colab": {
          "base_uri": "https://localhost:8080/",
          "height": 34
        },
        "outputId": "a4c95f5a-38f5-4c55-85d9-e31843f354db"
      },
      "source": [
        "model = compute_embeddings.SBERT()\n",
        "model.load_model()"
      ],
      "execution_count": 35,
      "outputs": [
        {
          "output_type": "stream",
          "text": [
            "100%|██████████| 405M/405M [00:07<00:00, 55.9MB/s]\n"
          ],
          "name": "stderr"
        }
      ]
    },
    {
      "cell_type": "code",
      "metadata": {
        "id": "_WysY_R1GMr_",
        "colab_type": "code",
        "colab": {
          "base_uri": "https://localhost:8080/",
          "height": 52
        },
        "outputId": "b8ac7db8-4bc3-4115-d16e-ca717c1bb6e2"
      },
      "source": [
        "%%time\n",
        "start_time = time.time()\n",
        "embs1 = np.array(model.calculate_embeddings(questions1))\n",
        "embs2 = np.array(model.calculate_embeddings(questions2))\n",
        "\n",
        "end_time = time.time()\n",
        "processing_time['SBERT'] = np.round(end_time-start_time,2)"
      ],
      "execution_count": 37,
      "outputs": [
        {
          "output_type": "stream",
          "text": [
            "CPU times: user 46min 42s, sys: 12min 29s, total: 59min 11s\n",
            "Wall time: 59min 10s\n"
          ],
          "name": "stdout"
        }
      ]
    },
    {
      "cell_type": "code",
      "metadata": {
        "id": "0aippYI0GV4U",
        "colab_type": "code",
        "colab": {}
      },
      "source": [
        "embs1 = np.array(embs1)\n",
        "embs2 = np.array(embs2)\n",
        "\n",
        "np.save('../data/SBERT_embeddings1.npy', embs1)\n",
        "np.save('../data/SBERT_embeddings2.npy', embs2)"
      ],
      "execution_count": 0,
      "outputs": []
    },
    {
      "cell_type": "code",
      "metadata": {
        "id": "i4psaSDZGMwM",
        "colab_type": "code",
        "colab": {
          "base_uri": "https://localhost:8080/",
          "height": 193
        },
        "outputId": "76c237f6-e420-48dc-f353-254a916fe1fd"
      },
      "source": [
        "features = np.concatenate((embs1, embs2, np.abs(embs2-embs1)), axis=1)\n",
        "metric = model_efficiency(features, is_duplicates)\n",
        "metrics['SBERT'] = metric\n",
        "print(metrics)"
      ],
      "execution_count": 45,
      "outputs": [
        {
          "output_type": "stream",
          "text": [
            "/usr/local/lib/python3.6/dist-packages/sklearn/linear_model/_logistic.py:940: ConvergenceWarning: lbfgs failed to converge (status=1):\n",
            "STOP: TOTAL NO. of ITERATIONS REACHED LIMIT.\n",
            "\n",
            "Increase the number of iterations (max_iter) or scale the data as shown in:\n",
            "    https://scikit-learn.org/stable/modules/preprocessing.html\n",
            "Please also refer to the documentation for alternative solver options:\n",
            "    https://scikit-learn.org/stable/modules/linear_model.html#logistic-regression\n",
            "  extra_warning_msg=_LOGISTIC_SOLVER_CONVERGENCE_MSG)\n"
          ],
          "name": "stderr"
        },
        {
          "output_type": "stream",
          "text": [
            "{'sent2vec': {'loss': 0.57, 'accuracy': 0.71, 'f1': 0.54}, 'SBERT': {'loss': 0.42, 'accuracy': 0.8, 'f1': 0.73}}\n"
          ],
          "name": "stdout"
        }
      ]
    },
    {
      "cell_type": "code",
      "metadata": {
        "id": "sJzu5HOiO5SC",
        "colab_type": "code",
        "outputId": "46b9ae32-8424-4109-a746-4b83dfcbace4",
        "colab": {
          "base_uri": "https://localhost:8080/",
          "height": 282
        }
      },
      "source": [
        "plt.bar(*zip(*processing_time.items()))\n",
        "print(processing_time)"
      ],
      "execution_count": 46,
      "outputs": [
        {
          "output_type": "stream",
          "text": [
            "{'sent2vec': 9.01, 'SBERT': 3550.54}\n"
          ],
          "name": "stdout"
        },
        {
          "output_type": "display_data",
          "data": {
            "image/png": "[encoded data removed]",
            "text/plain": [
              "<Figure size 432x288 with 1 Axes>"
            ]
          },
          "metadata": {
            "tags": [],
            "needs_background": "light"
          }
        }
      ]
    },
    {
      "cell_type": "markdown",
      "metadata": {
        "id": "si1eoJbCJUld",
        "colab_type": "text"
      },
      "source": [
        "## SIF embedding / sentence2vec\n",
        "\n",
        "### code\n",
        "- https://github.com/oborchers/Fast_Sentence_Embeddings\n",
        "- https://github.com/peter3125/sentence2vec/blob/master/sentence2vec.py\n",
        "- https://gist.github.com/bluemonk482/a4b2de9b5037d9ad69fa82da6ae67641\n",
        "- https://github.com/PrincetonML/SIF/blob/master/src/SIF_embedding.py\n",
        "\n",
        "### embedding\n",
        "\n"
      ]
    },
    {
      "cell_type": "code",
      "metadata": {
        "id": "8AQm7XkYXGSM",
        "colab_type": "code",
        "colab": {}
      },
      "source": [
        "model = compute_embeddings.SIF()\n",
        "model.load_model()"
      ],
      "execution_count": 0,
      "outputs": []
    },
    {
      "cell_type": "code",
      "metadata": {
        "id": "Kaladv8WsZLz",
        "colab_type": "code",
        "colab": {}
      },
      "source": [
        "model.fit(cleaned_questions1+cleaned_questions2)"
      ],
      "execution_count": 0,
      "outputs": []
    },
    {
      "cell_type": "code",
      "metadata": {
        "id": "sHhwntJ1XGWM",
        "colab_type": "code",
        "colab": {
          "base_uri": "https://localhost:8080/",
          "height": 52
        },
        "outputId": "1fd09fa4-efa5-46aa-fe99-7d5626599b6f"
      },
      "source": [
        "%%time\n",
        "start_time = time.time()\n",
        "embs1 = model.calculate_embeddings(cleaned_questions1)\n",
        "embs2 = model.calculate_embeddings(cleaned_questions2)\n",
        "\n",
        "end_time = time.time()\n",
        "processing_time['SIF'] = np.round(end_time-start_time,2)"
      ],
      "execution_count": 64,
      "outputs": [
        {
          "output_type": "stream",
          "text": [
            "CPU times: user 25.9 s, sys: 5.66 s, total: 31.6 s\n",
            "Wall time: 18.9 s\n"
          ],
          "name": "stdout"
        }
      ]
    },
    {
      "cell_type": "code",
      "metadata": {
        "id": "23GVFEhebKAc",
        "colab_type": "code",
        "colab": {}
      },
      "source": [
        "# np.save('../data/SIF_embeddings1.npy', embs1)\n",
        "# np.save('../data/SIF_embeddings2.npy', embs2)"
      ],
      "execution_count": 0,
      "outputs": []
    },
    {
      "cell_type": "code",
      "metadata": {
        "id": "ew6yHZdQA1kJ",
        "colab_type": "code",
        "outputId": "f3d730eb-d57e-4a5f-f7c5-26991c5734bc",
        "colab": {
          "base_uri": "https://localhost:8080/",
          "height": 54
        }
      },
      "source": [
        "features = np.concatenate((embs1, embs2, np.abs(embs2-embs1)), axis=1)\n",
        "metric = model_efficiency(features, is_duplicates)\n",
        "metrics['SIF'] = metric\n",
        "print(metrics)"
      ],
      "execution_count": 67,
      "outputs": [
        {
          "output_type": "stream",
          "text": [
            "{'sent2vec': {'loss': 0.57, 'accuracy': 0.71, 'f1': 0.54}, 'SBERT': {'loss': 0.42, 'accuracy': 0.8, 'f1': 0.73}, 'SIF': {'loss': 0.58, 'accuracy': 0.69, 'f1': 0.49}}\n"
          ],
          "name": "stdout"
        }
      ]
    },
    {
      "cell_type": "code",
      "metadata": {
        "id": "6o9_bROgA1hA",
        "colab_type": "code",
        "outputId": "b6467162-0761-4286-ff26-62a416009738",
        "colab": {
          "base_uri": "https://localhost:8080/",
          "height": 282
        }
      },
      "source": [
        "plt.bar(*zip(*processing_time.items()))\n",
        "print(processing_time)"
      ],
      "execution_count": 70,
      "outputs": [
        {
          "output_type": "stream",
          "text": [
            "{'doc2vec': 682.49, 'sent2vec': 9.01, 'SIF': 18.9, 'SBERT': 3550.54}\n"
          ],
          "name": "stdout"
        },
        {
          "output_type": "display_data",
          "data": {
            "image/png": "[encoded data removed]",
            "text/plain": [
              "<Figure size 432x288 with 1 Axes>"
            ]
          },
          "metadata": {
            "tags": [],
            "needs_background": "light"
          }
        }
      ]
    },
    {
      "cell_type": "markdown",
      "metadata": {
        "id": "PaO2FmtRjIev",
        "colab_type": "text"
      },
      "source": [
        "# Word Count"
      ]
    },
    {
      "cell_type": "code",
      "metadata": {
        "id": "se_FU2G0jH6_",
        "colab_type": "code",
        "colab": {}
      },
      "source": [
        "model = compute_embeddings.Count()\n",
        "# model = Count()\n",
        "model.load_model()"
      ],
      "execution_count": 0,
      "outputs": []
    },
    {
      "cell_type": "code",
      "metadata": {
        "id": "IhdwQmkqkqGT",
        "colab_type": "code",
        "colab": {
          "base_uri": "https://localhost:8080/",
          "height": 72
        },
        "outputId": "de99b610-afdc-411d-94d1-bb1a0f8dbc6e"
      },
      "source": [
        "model.fit(questions1 + questions2)"
      ],
      "execution_count": 141,
      "outputs": [
        {
          "output_type": "stream",
          "text": [
            "/usr/local/lib/python3.6/dist-packages/sklearn/feature_extraction/text.py:507: UserWarning: The parameter 'token_pattern' will not be used since 'tokenizer' is not None'\n",
            "  warnings.warn(\"The parameter 'token_pattern' will not be used\"\n"
          ],
          "name": "stderr"
        }
      ]
    },
    {
      "cell_type": "code",
      "metadata": {
        "id": "o4WR3912ji4_",
        "colab_type": "code",
        "colab": {
          "base_uri": "https://localhost:8080/",
          "height": 52
        },
        "outputId": "37ed3a31-f062-4a22-9d13-bf389ffb3126"
      },
      "source": [
        "%%time\n",
        "start_time = time.time()\n",
        "count_embs1 = model.calculate_embeddings(questions1)\n",
        "count_embs2 = model.calculate_embeddings(questions2)\n",
        "\n",
        "end_time = time.time()\n",
        "processing_time['Count'] = np.round(end_time-start_time,2)"
      ],
      "execution_count": 142,
      "outputs": [
        {
          "output_type": "stream",
          "text": [
            "CPU times: user 6.71 s, sys: 12.3 ms, total: 6.72 s\n",
            "Wall time: 6.72 s\n"
          ],
          "name": "stdout"
        }
      ]
    },
    {
      "cell_type": "code",
      "metadata": {
        "id": "XlwMN32olDhz",
        "colab_type": "code",
        "colab": {}
      },
      "source": [
        "# np.save('../data/Count_embeddings1.npy', count_embs1)\n",
        "# np.save('../data/Count_embeddings2.npy', count_embs2)"
      ],
      "execution_count": 0,
      "outputs": []
    },
    {
      "cell_type": "code",
      "metadata": {
        "id": "_XDgf0QWmYLZ",
        "colab_type": "code",
        "colab": {}
      },
      "source": [
        "import scipy.sparse.linalg\n",
        "count_features, _, _ = scipy.sparse.linalg.svds(sp.vstack((count_embs1, count_embs2)).astype('float64'),\n",
        "                                          k=100)\n",
        "count_features1 = count_features[:len(questions1)]\n",
        "count_features2 = count_features[-len(questions2):]"
      ],
      "execution_count": 0,
      "outputs": []
    },
    {
      "cell_type": "code",
      "metadata": {
        "id": "p528fOQPji9C",
        "colab_type": "code",
        "colab": {
          "base_uri": "https://localhost:8080/",
          "height": 54
        },
        "outputId": "b7a5e30b-7720-410f-fcfe-55a0c7acf1cb"
      },
      "source": [
        "features = np.concatenate((count_features1, count_features2, np.abs(count_features2-count_features1)), axis=1)\n",
        "metric = model_efficiency(features, is_duplicates)\n",
        "metrics['Count'] = metrn mon notebook et je push caic\n",
        "print(metrics)"
      ],
      "execution_count": 129,
      "outputs": [
        {
          "output_type": "stream",
          "text": [
            "{'doc2vec': {'loss': 0.54, 'accuracy': 0.71, 'f1': 0.57}, 'sent2vec': {'loss': 0.57, 'accuracy': 0.71, 'f1': 0.54}, 'SIF': {'loss': 0.58, 'accuracy': 0.69, 'f1': 0.49}, 'SBERT': {'loss': 0.42, 'accuracy': 0.8, 'f1': 0.73}, 'Count': {'loss': 0.65, 'accuracy': 0.63, 'f1': 0.0}}\n"
          ],
          "name": "stdout"
        }
      ]
    },
    {
      "cell_type": "markdown",
      "metadata": {
        "id": "Mkll8RuSp2bJ",
        "colab_type": "text"
      },
      "source": [
        "# TFIDF"
      ]
    },
    {
      "cell_type": "code",
      "metadata": {
        "id": "G04_EjzvpKmW",
        "colab_type": "code",
        "colab": {}
      },
      "source": [
        "model = compute_embeddings.Count()\n",
        "# model = TFIDF()\n",
        "model.load_model()"
      ],
      "execution_count": 0,
      "outputs": []
    },
    {
      "cell_type": "code",
      "metadata": {
        "id": "nq8Ci5ebpKsj",
        "colab_type": "code",
        "colab": {
          "base_uri": "https://localhost:8080/",
          "height": 72
        },
        "outputId": "64d0d4be-a27c-4270-bda9-3b30899318b8"
      },
      "source": [
        "model.fit(questions1 + questions2)"
      ],
      "execution_count": 144,
      "outputs": [
        {
          "output_type": "stream",
          "text": [
            "/usr/local/lib/python3.6/dist-packages/sklearn/feature_extraction/text.py:507: UserWarning: The parameter 'token_pattern' will not be used since 'tokenizer' is not None'\n",
            "  warnings.warn(\"The parameter 'token_pattern' will not be used\"\n"
          ],
          "name": "stderr"
        }
      ]
    },
    {
      "cell_type": "code",
      "metadata": {
        "id": "FZzNmgN4pK0P",
        "colab_type": "code",
        "colab": {
          "base_uri": "https://localhost:8080/",
          "height": 52
        },
        "outputId": "ede5a3a4-b56f-44a3-d421-08b59179789c"
      },
      "source": [
        "%%time\n",
        "start_time = time.time()\n",
        "tfidf_embs1 = model.calculate_embeddings(questions1)\n",
        "tfidf_embs2 = model.calculate_embeddings(questions2)\n",
        "\n",
        "end_time = time.time()\n",
        "processing_time['TFIDF'] = np.round(end_time-start_time,2)"
      ],
      "execution_count": 145,
      "outputs": [
        {
          "output_type": "stream",
          "text": [
            "CPU times: user 6.83 s, sys: 11.9 ms, total: 6.84 s\n",
            "Wall time: 6.84 s\n"
          ],
          "name": "stdout"
        }
      ]
    },
    {
      "cell_type": "code",
      "metadata": {
        "id": "1z-3Xr5jpKqQ",
        "colab_type": "code",
        "colab": {}
      },
      "source": [
        "# np.save('../data/TFIDF_embeddings1.npy', tfidf_embs1)\n",
        "# np.save('../data/TFIDF_embeddings2.npy', tfidf_embs2)"
      ],
      "execution_count": 0,
      "outputs": []
    },
    {
      "cell_type": "code",
      "metadata": {
        "id": "O2vE5O8LpT4g",
        "colab_type": "code",
        "colab": {}
      },
      "source": [
        "import scipy.sparse.linalg\n",
        "tfidf_features, _, _ = scipy.sparse.linalg.svds(sp.vstack((tfidf_embs1, tfidf_embs2)).astype('float64'),\n",
        "                                          k=100)\n",
        "tfidf_features1 = tfidf_features[:len(questions1)]\n",
        "tfidf_features2 = tfidf_features[-len(questions2):]"
      ],
      "execution_count": 0,
      "outputs": []
    },
    {
      "cell_type": "code",
      "metadata": {
        "id": "LtdWsOudpT-2",
        "colab_type": "code",
        "colab": {
          "base_uri": "https://localhost:8080/",
          "height": 54
        },
        "outputId": "a6f8121a-8086-4e03-ad80-452755c9ebb0"
      },
      "source": [
        "features = np.concatenate((tfidf_features1, tfidf_features2, np.abs(tfidf_features2-tfidf_features1)), axis=1)\n",
        "metric = model_efficiency(features, is_duplicates)\n",
        "metrics['TFIDF'] = metric\n",
        "print(metrics)"
      ],
      "execution_count": 135,
      "outputs": [
        {
          "output_type": "stream",
          "text": [
            "{'doc2vec': {'loss': 0.54, 'accuracy': 0.71, 'f1': 0.57}, 'sent2vec': {'loss': 0.57, 'accuracy': 0.71, 'f1': 0.54}, 'SIF': {'loss': 0.58, 'accuracy': 0.69, 'f1': 0.49}, 'SBERT': {'loss': 0.42, 'accuracy': 0.8, 'f1': 0.73}, 'Count': {'loss': 0.65, 'accuracy': 0.63, 'f1': 0.0}, 'TFIDF': {'loss': 0.64, 'accuracy': 0.63, 'f1': 0.0}}\n"
          ],
          "name": "stdout"
        }
      ]
    },
    {
      "cell_type": "markdown",
      "metadata": {
        "id": "HI0G-BRjqGrU",
        "colab_type": "text"
      },
      "source": [
        "## Feature engineering"
      ]
    },
    {
      "cell_type": "code",
      "metadata": {
        "id": "uq1E_nTIqZIg",
        "colab_type": "code",
        "colab": {}
      },
      "source": [
        "def jaccard_type_feature(count1, count2, eps=1e-12):\n",
        "  features = (count1.multiply(count2 != 0) + count2.multiply(count1 != 0)).sum(axis=1)\n",
        "  features = features / (count1.sum(axis=1) + count2.sum(axis=1) + eps)\n",
        "  return features"
      ],
      "execution_count": 0,
      "outputs": []
    },
    {
      "cell_type": "code",
      "metadata": {
        "id": "vXlZ7DzDpT8X",
        "colab_type": "code",
        "colab": {
          "base_uri": "https://localhost:8080/",
          "height": 34
        },
        "outputId": "9290923c-4ef4-48a2-90ba-852093562db7"
      },
      "source": [
        "count_features = jaccard_type_feature(count_embs1, count_embs2)\n",
        "tfidf_features = jaccard_type_feature(tfidf_embs1, tfidf_embs2)\n",
        "\n",
        "features = np.concatenate((count_features, tfidf_features), axis=1)\n",
        "features.shape"
      ],
      "execution_count": 152,
      "outputs": [
        {
          "output_type": "execute_result",
          "data": {
            "text/plain": [
              "(404290, 2)"
            ]
          },
          "metadata": {
            "tags": []
          },
          "execution_count": 152
        }
      ]
    },
    {
      "cell_type": "code",
      "metadata": {
        "id": "fmht1Tlpq5ri",
        "colab_type": "code",
        "colab": {
          "base_uri": "https://localhost:8080/",
          "height": 34
        },
        "outputId": "8c26630f-060b-4c4d-fd77-400be955de6d"
      },
      "source": [
        "metric = model_efficiency(features, is_duplicates)\n",
        "metrics['Count+TFIDF'] = metric\n",
        "print(metric)"
      ],
      "execution_count": 154,
      "outputs": [
        {
          "output_type": "stream",
          "text": [
            "{'loss': 0.55, 'accuracy': 0.67, 'f1': 0.49}\n"
          ],
          "name": "stdout"
        }
      ]
    },
    {
      "cell_type": "markdown",
      "metadata": {
        "id": "rAqss_F_fGan",
        "colab_type": "text"
      },
      "source": [
        "# Summary"
      ]
    },
    {
      "cell_type": "code",
      "metadata": {
        "id": "hTTbSTHMfIlt",
        "colab_type": "code",
        "colab": {
          "base_uri": "https://localhost:8080/",
          "height": 282
        },
        "outputId": "1a834920-9db2-4444-e86a-b61207b661ec"
      },
      "source": [
        "plt.bar(*zip(*processing_time.items()))\n",
        "print(processing_time)"
      ],
      "execution_count": 136,
      "outputs": [
        {
          "output_type": "stream",
          "text": [
            "{'doc2vec': 682.49, 'sent2vec': 9.01, 'SIF': 18.9, 'SBERT': 3550.54, 'Count': 6.78, 'TFIDF': 6.84}\n"
          ],
          "name": "stdout"
        },
        {
          "output_type": "display_data",
          "data": {
            "image/png": "[encoded data removed]",
            "text/plain": [
              "<Figure size 432x288 with 1 Axes>"
            ]
          },
          "metadata": {
            "tags": [],
            "needs_background": "light"
          }
        }
      ]
    },
    {
      "cell_type": "code",
      "metadata": {
        "id": "Jf4Dt_3kfKF2",
        "colab_type": "code",
        "colab": {
          "base_uri": "https://localhost:8080/",
          "height": 316
        },
        "outputId": "442460a8-0b79-4dcf-ba9b-ea3685df033a"
      },
      "source": [
        "methods = list(metrics.keys())\n",
        "measures = list(metrics[methods[0]].keys())\n",
        "fig, ax = plt.subplots(ncols = len(measures), figsize = (15, 5))\n",
        "for i, measure in enumerate(measures):\n",
        "  ax[i].bar(methods, [metrics[method][measure] for method in methods])\n",
        "  ax[i].set_ylabel(measure)"
      ],
      "execution_count": 137,
      "outputs": [
        {
          "output_type": "display_data",
          "data": {
            "image/png": "[encoded data removed]",
            "text/plain": [
              "<Figure size 1080x360 with 3 Axes>"
            ]
          },
          "metadata": {
            "tags": [],
            "needs_background": "light"
          }
        }
      ]
    },
    {
      "cell_type": "code",
      "metadata": {
        "id": "IoooNxF8p8ww",
        "colab_type": "code",
        "colab": {}
      },
      "source": [
        ""
      ],
      "execution_count": 0,
      "outputs": []
    }
  ]
}