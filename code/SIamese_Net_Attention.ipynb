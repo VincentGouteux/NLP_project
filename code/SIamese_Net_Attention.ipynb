
{
  "nbformat": 4,
  "nbformat_minor": 0,
  "metadata": {
    "colab": {
      "name": "SIamese_Net_Attention.ipynb",
      "provenance": [],
      "collapsed_sections": []
    },
    "kernelspec": {
      "name": "python3",
      "display_name": "Python 3"
    },
    "accelerator": "GPU"
  },
  "cells": [
    {
      "cell_type": "code",
      "metadata": {
        "id": "72fvj3_LD6S3",
        "colab_type": "code",
        "outputId": "852d380b-7ea3-4d05-873d-11b3698df6cc",
        "colab": {
          "base_uri": "https://localhost:8080/",
          "height": 125
        }
      },
      "source": [
        "#Connect Drive\n",
        "from google.colab import drive\n",
        "drive.mount('/content/gdrive')"
      ],
      "execution_count": 1,
      "outputs": [
        {
          "output_type": "stream",
          "text": [
            "Go to this URL in a browser: https://accounts.google.com/o/oauth2/auth?client_id=947318989803-6bn6qk8qdgf4n4g3pfee6491hc0brc4i.apps.googleusercontent.com&redirect_uri=urn%3aietf%3awg%3aoauth%3a2.0%3aoob&response_type=code&scope=email%20https%3a%2f%2fwww.googleapis.com%2fauth%2fdocs.test%20https%3a%2f%2fwww.googleapis.com%2fauth%2fdrive%20https%3a%2f%2fwww.googleapis.com%2fauth%2fdrive.photos.readonly%20https%3a%2f%2fwww.googleapis.com%2fauth%2fpeopleapi.readonly\n",
            "\n",
            "Enter your authorization code:\n",
            "··········\n",
            "Mounted at /content/gdrive\n"
          ],
          "name": "stdout"
        }
      ]
    },
    {
      "cell_type": "code",
      "metadata": {
        "id": "iFiv291TSPYJ",
        "colab_type": "code",
        "outputId": "5cd5deb4-f08c-4434-ee0b-677d65d07391",
        "colab": {
          "base_uri": "https://localhost:8080/",
          "height": 34
        }
      },
      "source": [
        "! python --version \n"
      ],
      "execution_count": 2,
      "outputs": [
        {
          "output_type": "stream",
          "text": [
            "Python 3.6.9\n"
          ],
          "name": "stdout"
        }
      ]
    },
    {
      "cell_type": "code",
      "metadata": {
        "id": "GHpD6vxGD-06",
        "colab_type": "code",
        "outputId": "5cf4f98f-d3d3-452b-a23d-a7486d56a9f4",
        "colab": {
          "base_uri": "https://localhost:8080/",
          "height": 70
        }
      },
      "source": [
        "\n",
        "%cd \"/content/gdrive/My Drive/ProjetNLPQuora/\"\n",
        "!ls\n"
      ],
      "execution_count": 3,
      "outputs": [
        {
          "output_type": "stream",
          "text": [
            "/content/gdrive/My Drive/ProjetNLPQuora\n",
            "bert-master  embq1.csv\t\t  model_w2c_6.h5  train.csv\n",
            "cache\t     glove.840B.300d.txt  test.csv\n"
          ],
          "name": "stdout"
        }
      ]
    },
    {
      "cell_type": "code",
      "metadata": {
        "id": "XKGc1XIUEJyR",
        "colab_type": "code",
        "colab": {}
      },
      "source": [
        "import pandas as pd\n",
        "df_train = pd.read_csv(\"train.csv\")"
      ],
      "execution_count": 0,
      "outputs": []
    },
    {
      "cell_type": "markdown",
      "metadata": {
        "id": "Bp7nd655COQ4",
        "colab_type": "text"
      },
      "source": [
        "# DATA PREPARATION "
      ]
    },
    {
      "cell_type": "code",
      "metadata": {
        "id": "M_bdyMoo6_DM",
        "colab_type": "code",
        "outputId": "197aef8b-3322-4ae9-a77d-500c91acf444",
        "colab": {
          "base_uri": "https://localhost:8080/",
          "height": 34
        }
      },
      "source": [
        "from __future__ import print_function\n",
        "\n",
        "import numpy as np\n",
        "from os.path import expanduser, exists\n",
        "\n",
        "from keras.preprocessing.text import Tokenizer\n",
        "from keras.preprocessing.sequence import pad_sequences\n",
        "from keras.utils.data_utils import get_file"
      ],
      "execution_count": 5,
      "outputs": [
        {
          "output_type": "stream",
          "text": [
            "Using TensorFlow backend.\n"
          ],
          "name": "stderr"
        }
      ]
    },
    {
      "cell_type": "code",
      "metadata": {
        "id": "7qVycJt9CQlh",
        "colab_type": "code",
        "colab": {}
      },
      "source": [
        "GLOVE = 'glove.840B.300d.txt'\n",
        "MAX_NB_WORDS = 200000\n",
        "MAX_SEQUENCE_LENGTH = 25\n",
        "EMBEDDING_DIM = 300"
      ],
      "execution_count": 0,
      "outputs": []
    },
    {
      "cell_type": "code",
      "metadata": {
        "id": "2xgNHq41EmrZ",
        "colab_type": "code",
        "colab": {}
      },
      "source": [
        "# CLEANING FOR TOKENZING\n",
        "df_train = df_train.dropna()\n",
        "df_train = df_train.reset_index(drop=True)\n",
        "\n",
        "df_train[\"question1\"] = df_train[\"question1\"].astype(\"str\")\n",
        "df_train[\"question2\"] = df_train[\"question2\"].astype('str')\n",
        "\n",
        "q1 = df_train['question1'].tolist()\n",
        "q2 = df_train['question2'].tolist()"
      ],
      "execution_count": 0,
      "outputs": []
    },
    {
      "cell_type": "code",
      "metadata": {
        "id": "YchvmP5ADLI5",
        "colab_type": "code",
        "outputId": "9d19381b-c026-4e4c-eeca-1b260015656f",
        "colab": {
          "base_uri": "https://localhost:8080/",
          "height": 34
        }
      },
      "source": [
        "# TOKENIZATION AND CREATING DICTIONNARY\n",
        "questions = q1 + q2\n",
        "tokenizer = Tokenizer(num_words=MAX_NB_WORDS)\n",
        "tokenizer.fit_on_texts(questions)\n",
        "question1_word_sequences = tokenizer.texts_to_sequences(q1)\n",
        "question2_word_sequences = tokenizer.texts_to_sequences(q2)\n",
        "word_index = tokenizer.word_index\n",
        "\n",
        "print(\"Words in index: %d\" % len(word_index))"
      ],
      "execution_count": 8,
      "outputs": [
        {
          "output_type": "stream",
          "text": [
            "Words in index: 95595\n"
          ],
          "name": "stdout"
        }
      ]
    },
    {
      "cell_type": "code",
      "metadata": {
        "id": "B46K2S13GUaM",
        "colab_type": "code",
        "outputId": "63c461ba-a7e4-4e71-b106-b0e92b6712c5",
        "colab": {
          "base_uri": "https://localhost:8080/",
          "height": 52
        }
      },
      "source": [
        "\n",
        "print(\"Processing\", GLOVE)\n",
        "\n",
        "embeddings_index = {}\n",
        "with open(GLOVE, encoding='utf-8') as f:\n",
        "    for line in f:\n",
        "        values = line.split(' ')\n",
        "        word = values[0]\n",
        "        embedding = np.asarray(values[1:], dtype='float32')\n",
        "        embeddings_index[word] = embedding\n",
        "\n",
        "print('Word embeddings: %d' % len(embeddings_index))"
      ],
      "execution_count": 9,
      "outputs": [
        {
          "output_type": "stream",
          "text": [
            "Processing glove.840B.300d.txt\n",
            "Word embeddings: 2196016\n"
          ],
          "name": "stdout"
        }
      ]
    },
    {
      "cell_type": "code",
      "metadata": {
        "id": "ygTKd3mtG9eg",
        "colab_type": "code",
        "outputId": "de84b175-4315-487b-9b98-b477d0054a1d",
        "colab": {
          "base_uri": "https://localhost:8080/",
          "height": 34
        }
      },
      "source": [
        "# CREATING WORD EMBEDDING MATRIX \n",
        "nb_words = min(MAX_NB_WORDS, len(word_index))\n",
        "word_embedding_matrix = np.zeros((nb_words + 1, EMBEDDING_DIM))\n",
        "for word, i in word_index.items():\n",
        "    if i > MAX_NB_WORDS:\n",
        "        continue\n",
        "    embedding_vector = embeddings_index.get(word)\n",
        "    if embedding_vector is not None:\n",
        "        word_embedding_matrix[i] = embedding_vector\n",
        "\n",
        "print('Null word embeddings: %d' % np.sum(np.sum(word_embedding_matrix, axis=1) == 0))"
      ],
      "execution_count": 10,
      "outputs": [
        {
          "output_type": "stream",
          "text": [
            "Null word embeddings: 29275\n"
          ],
          "name": "stdout"
        }
      ]
    },
    {
      "cell_type": "code",
      "metadata": {
        "id": "dsxT2cZG8Egx",
        "colab_type": "code",
        "outputId": "15386dca-a5a5-4206-8f96-1be5257e30d2",
        "colab": {
          "base_uri": "https://localhost:8080/",
          "height": 70
        }
      },
      "source": [
        "# PADDING SEQ TO HAVE VECTORS OF SAME DIMENTIONS\n",
        "q1_data = pad_sequences(question1_word_sequences, maxlen=MAX_SEQUENCE_LENGTH)\n",
        "q2_data = pad_sequences(question2_word_sequences, maxlen=MAX_SEQUENCE_LENGTH)\n",
        "labels = np.array(df_train['is_duplicate'], dtype=int)\n",
        "print('Shape of question1 data tensor:', q1_data.shape)\n",
        "print('Shape of question2 data tensor:', q2_data.shape)\n",
        "print('Shape of label tensor:', labels.shape)"
      ],
      "execution_count": 11,
      "outputs": [
        {
          "output_type": "stream",
          "text": [
            "Shape of question1 data tensor: (404287, 25)\n",
            "Shape of question2 data tensor: (404287, 25)\n",
            "Shape of label tensor: (404287,)\n"
          ],
          "name": "stdout"
        }
      ]
    },
    {
      "cell_type": "markdown",
      "metadata": {
        "id": "lTiWQJ1M1nBf",
        "colab_type": "text"
      },
      "source": [
        "# CREATING NETWORK"
      ]
    },
    {
      "cell_type": "code",
      "metadata": {
        "id": "zh7ZD-IRyl8L",
        "colab_type": "code",
        "colab": {}
      },
      "source": [
        "%matplotlib inline\n",
        "from __future__ import print_function\n",
        "import numpy as np\n",
        "\n",
        "import pandas as pd\n",
        "import datetime, time, json\n",
        "from keras.models import Model\n",
        "from keras.layers import Input, Bidirectional, LSTM, dot, Flatten, Dense, Reshape, add, Dropout, BatchNormalization\n",
        "from keras.layers.embeddings import Embedding\n",
        "from keras.regularizers import l2\n",
        "from keras.callbacks import Callback, ModelCheckpoint\n",
        "from keras import backend as K\n",
        "from sklearn.model_selection import train_test_split"
      ],
      "execution_count": 0,
      "outputs": []
    },
    {
      "cell_type": "code",
      "metadata": {
        "id": "Y0f6I5O0ymXi",
        "colab_type": "code",
        "colab": {}
      },
      "source": [
        "MAX_SEQUENCE_LENGTH = 25\n",
        "WORD_EMBEDDING_DIM = 300\n",
        "SENT_EMBEDDING_DIM = 128\n",
        "VALIDATION_SPLIT = 0.1\n",
        "TEST_SPLIT = 0.1\n",
        "RNG_SEED = 13371447\n",
        "NB_EPOCHS = 5\n",
        "DROP_RATIO = 0.2\n",
        "BATCH_SIZE = 512"
      ],
      "execution_count": 0,
      "outputs": []
    },
    {
      "cell_type": "code",
      "metadata": {
        "id": "mdyAkE8Wyrv3",
        "colab_type": "code",
        "colab": {}
      },
      "source": [
        "# CREATING ARRAYS \n",
        "X = np.stack((q1_data, q2_data), axis=1)\n",
        "y = labels\n",
        "X_train, X_test, y_train, y_test = train_test_split(X, y, test_size=TEST_SPLIT, random_state=RNG_SEED)\n",
        "Q1_train = X_train[:,0]\n",
        "Q2_train = X_train[:,1]\n",
        "Q1_test = X_test[:,0]\n",
        "Q2_test = X_test[:,1]"
      ],
      "execution_count": 0,
      "outputs": []
    },
    {
      "cell_type": "code",
      "metadata": {
        "id": "HrsyCbZh9N0s",
        "colab_type": "code",
        "colab": {}
      },
      "source": [
        "question1 = Input(shape=(MAX_SEQUENCE_LENGTH,))\n",
        "question2 = Input(shape=(MAX_SEQUENCE_LENGTH,))\n",
        "\n",
        "#Defining siamese embedding layers\n",
        "\n",
        "q1 = Embedding(nb_words + 1,WORD_EMBEDDING_DIM,weights=[word_embedding_matrix],input_length=MAX_SEQUENCE_LENGTH,trainable=False)(question1)\n",
        "q1 = Bidirectional(LSTM(SENT_EMBEDDING_DIM, return_sequences=True), merge_mode=\"sum\")(q1)\n",
        "\n",
        "q2 = Embedding(nb_words + 1,WORD_EMBEDDING_DIM,weights=[word_embedding_matrix],input_length=MAX_SEQUENCE_LENGTH,trainable=False)(question2)\n",
        "q2 = Bidirectional(LSTM(SENT_EMBEDDING_DIM, return_sequences=True), merge_mode=\"sum\")(q2)\n",
        "\n",
        "#Attention layer + Dense\n",
        "\n",
        "attention1 = dot([q1,q2], [1,1])\n",
        "attention1 = Flatten()(attention1)\n",
        "attention1 = Dense((MAX_SEQUENCE_LENGTH*SENT_EMBEDDING_DIM))(attention1)\n",
        "attention1 = Reshape((MAX_SEQUENCE_LENGTH, SENT_EMBEDDING_DIM))(attention1)\n",
        "\n",
        "# FC Network\n",
        "\n",
        "x = add([q1,attention1])\n",
        "x = Flatten()(x)\n",
        "x = Dense(200, activation='relu')(x)\n",
        "x = Dropout(DROP_RATIO)(x)\n",
        "x = BatchNormalization()(x)\n",
        "x = Dense(200, activation='relu')(x)\n",
        "x = Dropout(DROP_RATIO)(x)\n",
        "x = BatchNormalization()(x)\n",
        "x = Dense(200, activation='relu')(x)\n",
        "x = Dropout(DROP_RATIO)(x)\n",
        "x = BatchNormalization()(x)\n",
        "x = Dense(200, activation='relu')(x)\n",
        "x = Dropout(DROP_RATIO)(x)\n",
        "x = BatchNormalization()(x)\n",
        "x = Dense(200, activation='relu')(x)\n",
        "x = Dropout(DROP_RATIO)(x)\n",
        "x = BatchNormalization()(x)\n",
        "\n",
        "out = Dense(1, activation='sigmoid')(x)\n",
        "\n",
        "model = Model(inputs=[question1,question2], outputs=out)\n",
        "model.compile(loss='binary_crossentropy', optimizer='adam', metrics=['accuracy'])"
      ],
      "execution_count": 0,
      "outputs": []
    },
    {
      "cell_type": "code",
      "metadata": {
        "id": "1v9r22qZ9SOn",
        "colab_type": "code",
        "outputId": "ce86b965-5f8b-4270-f049-8d34412952dd",
        "colab": {
          "base_uri": "https://localhost:8080/",
          "height": 1000
        }
      },
      "source": [
        "model.summary()\n"
      ],
      "execution_count": 16,
      "outputs": [
        {
          "output_type": "stream",
          "text": [
            "Model: \"model_1\"\n",
            "__________________________________________________________________________________________________\n",
            "Layer (type)                    Output Shape         Param #     Connected to                     \n",
            "==================================================================================================\n",
            "input_1 (InputLayer)            (None, 25)           0                                            \n",
            "__________________________________________________________________________________________________\n",
            "input_2 (InputLayer)            (None, 25)           0                                            \n",
            "__________________________________________________________________________________________________\n",
            "embedding_1 (Embedding)         (None, 25, 300)      28678800    input_1[0][0]                    \n",
            "__________________________________________________________________________________________________\n",
            "embedding_2 (Embedding)         (None, 25, 300)      28678800    input_2[0][0]                    \n",
            "__________________________________________________________________________________________________\n",
            "bidirectional_1 (Bidirectional) (None, 25, 128)      439296      embedding_1[0][0]                \n",
            "__________________________________________________________________________________________________\n",
            "bidirectional_2 (Bidirectional) (None, 25, 128)      439296      embedding_2[0][0]                \n",
            "__________________________________________________________________________________________________\n",
            "dot_1 (Dot)                     (None, 128, 128)     0           bidirectional_1[0][0]            \n",
            "                                                                 bidirectional_2[0][0]            \n",
            "__________________________________________________________________________________________________\n",
            "flatten_1 (Flatten)             (None, 16384)        0           dot_1[0][0]                      \n",
            "__________________________________________________________________________________________________\n",
            "dense_1 (Dense)                 (None, 3200)         52432000    flatten_1[0][0]                  \n",
            "__________________________________________________________________________________________________\n",
            "reshape_1 (Reshape)             (None, 25, 128)      0           dense_1[0][0]                    \n",
            "__________________________________________________________________________________________________\n",
            "add_1 (Add)                     (None, 25, 128)      0           bidirectional_1[0][0]            \n",
            "                                                                 reshape_1[0][0]                  \n",
            "__________________________________________________________________________________________________\n",
            "flatten_2 (Flatten)             (None, 3200)         0           add_1[0][0]                      \n",
            "__________________________________________________________________________________________________\n",
            "dense_2 (Dense)                 (None, 200)          640200      flatten_2[0][0]                  \n",
            "__________________________________________________________________________________________________\n",
            "dropout_1 (Dropout)             (None, 200)          0           dense_2[0][0]                    \n",
            "__________________________________________________________________________________________________\n",
            "batch_normalization_1 (BatchNor (None, 200)          800         dropout_1[0][0]                  \n",
            "__________________________________________________________________________________________________\n",
            "dense_3 (Dense)                 (None, 200)          40200       batch_normalization_1[0][0]      \n",
            "__________________________________________________________________________________________________\n",
            "dropout_2 (Dropout)             (None, 200)          0           dense_3[0][0]                    \n",
            "__________________________________________________________________________________________________\n",
            "batch_normalization_2 (BatchNor (None, 200)          800         dropout_2[0][0]                  \n",
            "__________________________________________________________________________________________________\n",
            "dense_4 (Dense)                 (None, 200)          40200       batch_normalization_2[0][0]      \n",
            "__________________________________________________________________________________________________\n",
            "dropout_3 (Dropout)             (None, 200)          0           dense_4[0][0]                    \n",
            "__________________________________________________________________________________________________\n",
            "batch_normalization_3 (BatchNor (None, 200)          800         dropout_3[0][0]                  \n",
            "__________________________________________________________________________________________________\n",
            "dense_5 (Dense)                 (None, 200)          40200       batch_normalization_3[0][0]      \n",
            "__________________________________________________________________________________________________\n",
            "dropout_4 (Dropout)             (None, 200)          0           dense_5[0][0]                    \n",
            "__________________________________________________________________________________________________\n",
            "batch_normalization_4 (BatchNor (None, 200)          800         dropout_4[0][0]                  \n",
            "__________________________________________________________________________________________________\n",
            "dense_6 (Dense)                 (None, 200)          40200       batch_normalization_4[0][0]      \n",
            "__________________________________________________________________________________________________\n",
            "dropout_5 (Dropout)             (None, 200)          0           dense_6[0][0]                    \n",
            "__________________________________________________________________________________________________\n",
            "batch_normalization_5 (BatchNor (None, 200)          800         dropout_5[0][0]                  \n",
            "__________________________________________________________________________________________________\n",
            "dense_7 (Dense)                 (None, 1)            201         batch_normalization_5[0][0]      \n",
            "==================================================================================================\n",
            "Total params: 111,473,393\n",
            "Trainable params: 54,113,793\n",
            "Non-trainable params: 57,359,600\n",
            "__________________________________________________________________________________________________\n"
          ],
          "name": "stdout"
        }
      ]
    },
    {
      "cell_type": "code",
      "metadata": {
        "id": "k2EKaDDD4Q2Q",
        "colab_type": "code",
        "outputId": "e03f4d19-b195-456b-d992-fb354db89720",
        "colab": {
          "base_uri": "https://localhost:8080/",
          "height": 34
        }
      },
      "source": [
        "%tensorflow_version 2.x\n",
        "import tensorflow as tf\n",
        "device_name = tf.test.gpu_device_name()\n",
        "if device_name != '/device:GPU:0':\n",
        "  raise SystemError('GPU device not found')\n",
        "print('Found GPU at: {}'.format(device_name))"
      ],
      "execution_count": 17,
      "outputs": [
        {
          "output_type": "stream",
          "text": [
            "Found GPU at: /device:GPU:0\n"
          ],
          "name": "stdout"
        }
      ]
    },
    {
      "cell_type": "code",
      "metadata": {
        "id": "7z6yEVUp9UTt",
        "colab_type": "code",
        "outputId": "b19a7fb7-f616-476a-f8d2-ce917a67b563",
        "colab": {
          "base_uri": "https://localhost:8080/",
          "height": 265
        }
      },
      "source": [
        "with tf.device('/device:GPU:0'):\n",
        "  print(\"Starting training at\", datetime.datetime.now())\n",
        "  t0 = time.time()\n",
        "  history = model.fit([Q1_train, Q2_train],\n",
        "                      y_train,\n",
        "                      epochs=NB_EPOCHS,\n",
        "                      validation_split=VALIDATION_SPLIT,\n",
        "                      verbose=1,\n",
        "                      batch_size=BATCH_SIZE)\n",
        "  t1 = time.time()\n",
        "  print(\"Training ended at\", datetime.datetime.now())\n",
        "  print(\"Minutes elapsed: %f\" % ((t1 - t0) / 60.))"
      ],
      "execution_count": 18,
      "outputs": [
        {
          "output_type": "stream",
          "text": [
            "Starting training at 2020-05-14 10:43:40.312545\n",
            "Train on 327472 samples, validate on 36386 samples\n",
            "Epoch 1/5\n",
            "327472/327472 [==============================] - 165s 505us/step - loss: 0.5475 - accuracy: 0.7173 - val_loss: 0.4830 - val_accuracy: 0.7583\n",
            "Epoch 2/5\n",
            "327472/327472 [==============================] - 163s 497us/step - loss: 0.4451 - accuracy: 0.7814 - val_loss: 0.4420 - val_accuracy: 0.7815\n",
            "Epoch 3/5\n",
            "327472/327472 [==============================] - 164s 501us/step - loss: 0.3978 - accuracy: 0.8086 - val_loss: 0.4173 - val_accuracy: 0.7995\n",
            "Epoch 4/5\n",
            "327472/327472 [==============================] - 164s 501us/step - loss: 0.3575 - accuracy: 0.8324 - val_loss: 0.4201 - val_accuracy: 0.8029\n",
            "Epoch 5/5\n",
            "327472/327472 [==============================] - 163s 496us/step - loss: 0.3183 - accuracy: 0.8543 - val_loss: 0.4037 - val_accuracy: 0.8151\n",
            "Training ended at 2020-05-14 10:57:23.468882\n",
            "Minutes elapsed: 13.719269\n"
          ],
          "name": "stdout"
        }
      ]
    },
    {
      "cell_type": "code",
      "metadata": {
        "id": "Buhl6buC9ZMV",
        "colab_type": "code",
        "outputId": "2e18fa3b-2bdc-4b3c-efc7-3681f7f5f6e3",
        "colab": {
          "base_uri": "https://localhost:8080/",
          "height": 1000
        }
      },
      "source": [
        "from matplotlib import pyplot as plt\n",
        "\n",
        "plt.figure(figsize=(20,10))\n",
        "plt.plot(history.history['accuracy'], label = 'Accuracy')\n",
        "plt.plot(history.history['val_accuracy'],  label = 'Val Accuracy')\n",
        "plt.legend()\n",
        "\n",
        "plt.figure(figsize=(20,10))\n",
        "plt.plot(history.history['loss'], label = 'Loss')\n",
        "plt.plot(history.history['val_loss'],  label = 'Val Loss')\n",
        "plt.legend()"
      ],
      "execution_count": 19,
      "outputs": [
        {
          "output_type": "execute_result",
          "data": {
            "text/plain": [
              "<matplotlib.legend.Legend at 0x7f16ed6ed6d8>"
            ]
          },
          "metadata": {
            "tags": []
          },
          "execution_count": 19
        },
        {
          "output_type": "display_data",
          "data": {
            "image/png": "[encoded data removed]",
            "text/plain": [
              "<Figure size 1440x720 with 1 Axes>"
            ]
          },
          "metadata": {
            "tags": [],
            "needs_background": "light"
          }
        },
        {
          "output_type": "display_data",
          "data": {
            "image/png": "[encoded data removed]",
            "text/plain": [
              "<Figure size 1440x720 with 1 Axes>"
            ]
          },
          "metadata": {
            "tags": [],
            "needs_background": "light"
          }
        }
      ]
    },
    {
      "cell_type": "code",
      "metadata": {
        "id": "gmAvfYMlNERQ",
        "colab_type": "code",
        "outputId": "29d3d5fa-90ed-44b3-dc3f-956ee34ea422",
        "colab": {
          "base_uri": "https://localhost:8080/",
          "height": 52
        }
      },
      "source": [
        "model.evaluate([Q1_test, Q2_test],y_test)"
      ],
      "execution_count": 20,
      "outputs": [
        {
          "output_type": "stream",
          "text": [
            "40429/40429 [==============================] - 33s 821us/step\n"
          ],
          "name": "stdout"
        },
        {
          "output_type": "execute_result",
          "data": {
            "text/plain": [
              "[0.3988610464323873, 0.8172599077224731]"
            ]
          },
          "metadata": {
            "tags": []
          },
          "execution_count": 20
        }
      ]
    },
    {
      "cell_type": "code",
      "metadata": {
        "id": "UvVrROOW_abX",
        "colab_type": "code",
        "colab": {}
      },
      "source": [
        ""
      ],
      "execution_count": 0,
      "outputs": []
    }
  ]
}