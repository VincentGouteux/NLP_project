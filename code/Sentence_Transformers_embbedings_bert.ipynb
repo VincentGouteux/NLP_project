{
  "nbformat": 4,
  "nbformat_minor": 0,
  "metadata": {
    "colab": {
      "name": "Sentence_Transformers_embbedings_bert.ipynb",
      "provenance": [],
      "collapsed_sections": [],
      "machine_shape": "hm"
    },
    "kernelspec": {
      "name": "python3",
      "display_name": "Python 3"
    },
    "accelerator": "GPU"
  },
  "cells": [
    {
      "cell_type": "code",
      "metadata": {
        "id": "8UDvvXg-y_zV",
        "colab_type": "code",
        "outputId": "7c3dd3be-67f4-4414-b955-97875fd18a82",
        "colab": {
          "base_uri": "https://localhost:8080/",
          "height": 125
        }
      },
      "source": [
        "#Connect to our own Google Drive\n",
        "from google.colab import drive\n",
        "drive.mount('/content/gdrive')"
      ],
      "execution_count": 1,
      "outputs": [
        {
          "output_type": "stream",
          "text": [
            "Go to this URL in a browser: https://accounts.google.com/o/oauth2/auth?client_id=947318989803-6bn6qk8qdgf4n4g3pfee6491hc0brc4i.apps.googleusercontent.com&redirect_uri=urn%3aietf%3awg%3aoauth%3a2.0%3aoob&response_type=code&scope=email%20https%3a%2f%2fwww.googleapis.com%2fauth%2fdocs.test%20https%3a%2f%2fwww.googleapis.com%2fauth%2fdrive%20https%3a%2f%2fwww.googleapis.com%2fauth%2fdrive.photos.readonly%20https%3a%2f%2fwww.googleapis.com%2fauth%2fpeopleapi.readonly\n",
            "\n",
            "Enter your authorization code:\n",
            "··········\n",
            "Mounted at /content/gdrive\n"
          ],
          "name": "stdout"
        }
      ]
    },
    {
      "cell_type": "markdown",
      "metadata": {
        "id": "4iVs-IpLg8_I",
        "colab_type": "text"
      },
      "source": [
        "https://pypi.org/project/sentence-transformers/"
      ]
    },
    {
      "cell_type": "code",
      "metadata": {
        "id": "5_RPgP56zCky",
        "colab_type": "code",
        "outputId": "a3b49f6c-5ab3-4ac9-8c2a-f2fba2659f9f",
        "colab": {
          "base_uri": "https://localhost:8080/",
          "height": 70
        }
      },
      "source": [
        "%cd \"/content/gdrive/My Drive/ProjetNLPQuora/\"\n",
        "!ls\n"
      ],
      "execution_count": 2,
      "outputs": [
        {
          "output_type": "stream",
          "text": [
            "/content/gdrive/My Drive/ProjetNLPQuora\n",
            "bert-master  embq1.csv\t\t  model_w2c_6.h5  train.csv\n",
            "cache\t     glove.840B.300d.txt  test.csv\n"
          ],
          "name": "stdout"
        }
      ]
    },
    {
      "cell_type": "code",
      "metadata": {
        "id": "1DoLCgUEzODG",
        "colab_type": "code",
        "colab": {}
      },
      "source": [
        "import pandas as pd\n",
        "import numpy as np\n",
        "import matplotlib.pyplot as plt\n",
        "import time\n",
        "\n",
        "\n",
        "df_train = pd.read_csv(\"train.csv\")"
      ],
      "execution_count": 0,
      "outputs": []
    },
    {
      "cell_type": "code",
      "metadata": {
        "id": "0-SZMKt32h_1",
        "colab_type": "code",
        "colab": {}
      },
      "source": [
        "# CLEANING TO COMPUTE EMBEDDINGS NOT NECESSARY IF WE ALREADY COMPUTED THEM\n",
        "df_train = df_train.dropna()\n",
        "df_train = df_train.reset_index(drop=True)\n",
        "\n",
        "df_train[\"question1\"] = df_train[\"question1\"].astype(\"str\")\n",
        "df_train[\"question2\"] = df_train[\"question2\"].astype('str')\n",
        "\n",
        "q1 = df_train['question1'].tolist()\n",
        "q2 = df_train['question2'].tolist()\n"
      ],
      "execution_count": 0,
      "outputs": []
    },
    {
      "cell_type": "code",
      "metadata": {
        "id": "zPlOpTbHzR11",
        "colab_type": "code",
        "outputId": "23fa02a4-6e14-4fee-a8df-9a565e57d027",
        "colab": {
          "base_uri": "https://localhost:8080/",
          "height": 781
        }
      },
      "source": [
        "! pip install sentence-transformers"
      ],
      "execution_count": 5,
      "outputs": [
        {
          "output_type": "stream",
          "text": [
            "Collecting sentence-transformers\n",
            "\u001b[?25l  Downloading https://files.pythonhosted.org/packages/b9/46/b7d6c37d92d1bd65319220beabe4df845434930e3f30e42d3cfaecb74dc4/sentence-transformers-0.2.6.1.tar.gz (55kB)\n",
            "\u001b[K     |████████████████████████████████| 61kB 2.0MB/s \n",
            "\u001b[?25hCollecting transformers>=2.8.0\n",
            "\u001b[?25l  Downloading https://files.pythonhosted.org/packages/22/97/7db72a0beef1825f82188a4b923e62a146271ac2ced7928baa4d47ef2467/transformers-2.9.1-py3-none-any.whl (641kB)\n",
            "\u001b[K     |████████████████████████████████| 645kB 7.0MB/s \n",
            "\u001b[?25hRequirement already satisfied: tqdm in /usr/local/lib/python3.6/dist-packages (from sentence-transformers) (4.41.1)\n",
            "Requirement already satisfied: torch>=1.0.1 in /usr/local/lib/python3.6/dist-packages (from sentence-transformers) (1.5.0+cu101)\n",
            "Requirement already satisfied: numpy in /usr/local/lib/python3.6/dist-packages (from sentence-transformers) (1.18.4)\n",
            "Requirement already satisfied: scikit-learn in /usr/local/lib/python3.6/dist-packages (from sentence-transformers) (0.22.2.post1)\n",
            "Requirement already satisfied: scipy in /usr/local/lib/python3.6/dist-packages (from sentence-transformers) (1.4.1)\n",
            "Requirement already satisfied: nltk in /usr/local/lib/python3.6/dist-packages (from sentence-transformers) (3.2.5)\n",
            "Requirement already satisfied: filelock in /usr/local/lib/python3.6/dist-packages (from transformers>=2.8.0->sentence-transformers) (3.0.12)\n",
            "Requirement already satisfied: regex!=2019.12.17 in /usr/local/lib/python3.6/dist-packages (from transformers>=2.8.0->sentence-transformers) (2019.12.20)\n",
            "Collecting sentencepiece\n",
            "\u001b[?25l  Downloading https://files.pythonhosted.org/packages/3b/88/49e772d686088e1278766ad68a463513642a2a877487decbd691dec02955/sentencepiece-0.1.90-cp36-cp36m-manylinux1_x86_64.whl (1.1MB)\n",
            "\u001b[K     |████████████████████████████████| 1.1MB 20.1MB/s \n",
            "\u001b[?25hCollecting tokenizers==0.7.0\n",
            "\u001b[?25l  Downloading https://files.pythonhosted.org/packages/14/e5/a26eb4716523808bb0a799fcfdceb6ebf77a18169d9591b2f46a9adb87d9/tokenizers-0.7.0-cp36-cp36m-manylinux1_x86_64.whl (3.8MB)\n",
            "\u001b[K     |████████████████████████████████| 3.8MB 15.7MB/s \n",
            "\u001b[?25hCollecting sacremoses\n",
            "\u001b[?25l  Downloading https://files.pythonhosted.org/packages/7d/34/09d19aff26edcc8eb2a01bed8e98f13a1537005d31e95233fd48216eed10/sacremoses-0.0.43.tar.gz (883kB)\n",
            "\u001b[K     |████████████████████████████████| 890kB 36.9MB/s \n",
            "\u001b[?25hRequirement already satisfied: dataclasses; python_version < \"3.7\" in /usr/local/lib/python3.6/dist-packages (from transformers>=2.8.0->sentence-transformers) (0.7)\n",
            "Requirement already satisfied: requests in /usr/local/lib/python3.6/dist-packages (from transformers>=2.8.0->sentence-transformers) (2.23.0)\n",
            "Requirement already satisfied: future in /usr/local/lib/python3.6/dist-packages (from torch>=1.0.1->sentence-transformers) (0.16.0)\n",
            "Requirement already satisfied: joblib>=0.11 in /usr/local/lib/python3.6/dist-packages (from scikit-learn->sentence-transformers) (0.14.1)\n",
            "Requirement already satisfied: six in /usr/local/lib/python3.6/dist-packages (from nltk->sentence-transformers) (1.12.0)\n",
            "Requirement already satisfied: click in /usr/local/lib/python3.6/dist-packages (from sacremoses->transformers>=2.8.0->sentence-transformers) (7.1.2)\n",
            "Requirement already satisfied: idna<3,>=2.5 in /usr/local/lib/python3.6/dist-packages (from requests->transformers>=2.8.0->sentence-transformers) (2.9)\n",
            "Requirement already satisfied: chardet<4,>=3.0.2 in /usr/local/lib/python3.6/dist-packages (from requests->transformers>=2.8.0->sentence-transformers) (3.0.4)\n",
            "Requirement already satisfied: urllib3!=1.25.0,!=1.25.1,<1.26,>=1.21.1 in /usr/local/lib/python3.6/dist-packages (from requests->transformers>=2.8.0->sentence-transformers) (1.24.3)\n",
            "Requirement already satisfied: certifi>=2017.4.17 in /usr/local/lib/python3.6/dist-packages (from requests->transformers>=2.8.0->sentence-transformers) (2020.4.5.1)\n",
            "Building wheels for collected packages: sentence-transformers, sacremoses\n",
            "  Building wheel for sentence-transformers (setup.py) ... \u001b[?25l\u001b[?25hdone\n",
            "  Created wheel for sentence-transformers: filename=sentence_transformers-0.2.6.1-cp36-none-any.whl size=74031 sha256=32129c04c77442cd8abd58a963b4a0998ba1152c34aab96613af499260f82b43\n",
            "  Stored in directory: /root/.cache/pip/wheels/d7/fa/17/2b081a8cd8b0a86753fb0e9826b3cc19f0207062c0b2da7008\n",
            "  Building wheel for sacremoses (setup.py) ... \u001b[?25l\u001b[?25hdone\n",
            "  Created wheel for sacremoses: filename=sacremoses-0.0.43-cp36-none-any.whl size=893260 sha256=67b9a4c40f948c53c7b5861a887dd7a4db73d57dd8799ace0dce3df6edd54414\n",
            "  Stored in directory: /root/.cache/pip/wheels/29/3c/fd/7ce5c3f0666dab31a50123635e6fb5e19ceb42ce38d4e58f45\n",
            "Successfully built sentence-transformers sacremoses\n",
            "Installing collected packages: sentencepiece, tokenizers, sacremoses, transformers, sentence-transformers\n",
            "Successfully installed sacremoses-0.0.43 sentence-transformers-0.2.6.1 sentencepiece-0.1.90 tokenizers-0.7.0 transformers-2.9.1\n"
          ],
          "name": "stdout"
        }
      ]
    },
    {
      "cell_type": "code",
      "metadata": {
        "id": "90Khj5oozVvu",
        "colab_type": "code",
        "outputId": "e6800b23-5fdf-4753-a47a-a64c295f066e",
        "colab": {
          "base_uri": "https://localhost:8080/",
          "height": 34
        }
      },
      "source": [
        "from sentence_transformers import SentenceTransformer\n",
        "model = SentenceTransformer('bert-base-nli-mean-tokens')"
      ],
      "execution_count": 6,
      "outputs": [
        {
          "output_type": "stream",
          "text": [
            "100%|██████████| 405M/405M [00:17<00:00, 23.8MB/s]\n"
          ],
          "name": "stderr"
        }
      ]
    },
    {
      "cell_type": "code",
      "metadata": {
        "id": "TV9rYak8XYJd",
        "colab_type": "code",
        "colab": {}
      },
      "source": [
        ""
      ],
      "execution_count": 0,
      "outputs": []
    },
    {
      "cell_type": "code",
      "metadata": {
        "id": "FHTOEPlaJZ-c",
        "colab_type": "code",
        "outputId": "22406099-d7e1-4ae5-89d8-bfe09c30b57b",
        "colab": {
          "base_uri": "https://localhost:8080/",
          "height": 105
        }
      },
      "source": [
        "### VECTORIZING QUESTIONS DF_TRAIN ###\n",
        "t1 = time.time()\n",
        "print(\"Computing embeddings for q1 train\")\n",
        "embq1 = model.encode(q1)\n",
        "t2 = time.time()-t1\n",
        "print(t2,\"seconds\", t2/60, \"minutes\" )\n",
        "\n",
        "t3 = time.time()\n",
        "print(\"Computing embeddings for q2 train \")\n",
        "embq2 = model.encode(q2)\n",
        "t4 = time.time()-t3\n",
        "print(t4,\"seconds\", t4/60, \"minutes\" )\n",
        "\n",
        "print('Total time',time.time()-t1,\"seconds\", (time.time()-t1)/60, \"minutes\" )"
      ],
      "execution_count": 7,
      "outputs": [
        {
          "output_type": "stream",
          "text": [
            "Computing embeddings for q1 train\n",
            "1617.2138781547546 seconds 26.953564635912578 minutes\n",
            "Computing embeddings for q2 train \n",
            "1625.7037892341614 seconds 27.09506315390269 minutes\n",
            "Total time 3242.9192531108856 seconds 54.04865422646205 minutes\n"
          ],
          "name": "stdout"
        }
      ]
    },
    {
      "cell_type": "code",
      "metadata": {
        "id": "X8uBrWP76Gek",
        "colab_type": "code",
        "colab": {}
      },
      "source": [
        "#embq1 = np.array(embq1)\n",
        "#embq2 = np.array(embq2)\n",
        "\n",
        "#np.save('../embeddings/SBERT1.npy', embq1)\n",
        "#np.save('../embeddings/SBERT2.npy', embq2)"
      ],
      "execution_count": 0,
      "outputs": []
    },
    {
      "cell_type": "code",
      "metadata": {
        "id": "qAKp8GZyP07_",
        "colab_type": "code",
        "colab": {}
      },
      "source": [
        "df_train['emb1'] = embq1\n",
        "df_train['emb2'] = embq2\n",
        "\n",
        "datatrain = df_train[:320000] \n",
        "datatest = df_train[320000:]\n",
        "datatest = datatest.reset_index(drop=True)\n"
      ],
      "execution_count": 0,
      "outputs": []
    },
    {
      "cell_type": "code",
      "metadata": {
        "id": "oANNw4QYGzDX",
        "colab_type": "code",
        "outputId": "0fd19f36-1042-4fca-ed6c-d33c832e8f01",
        "colab": {
          "base_uri": "https://localhost:8080/",
          "height": 141
        }
      },
      "source": [
        "sim = []\n",
        "for i in range(datatrain.shape[0]):\n",
        "  if (i % 50000 == 0):\n",
        "    print(100 * i/datatrain.shape[0], \"% done\")\n",
        "  cosine = np.dot(embq1[i],embq2[i].transpose()) / (np.linalg.norm(embq1[i]) * np.linalg.norm(embq2[i]))\n",
        "  #sim.append(1/(1 + math.exp(-100*(cosine - 0.85))))\n",
        "  sim.append(cosine)"
      ],
      "execution_count": 10,
      "outputs": [
        {
          "output_type": "stream",
          "text": [
            "0.0 % done\n",
            "15.625 % done\n",
            "31.25 % done\n",
            "46.875 % done\n",
            "62.5 % done\n",
            "78.125 % done\n",
            "93.75 % done\n"
          ],
          "name": "stdout"
        }
      ]
    },
    {
      "cell_type": "code",
      "metadata": {
        "id": "necKjx7SNlM8",
        "colab_type": "code",
        "colab": {}
      },
      "source": [
        "th = []\n",
        "t2 = []\n",
        "for i in range(200):\n",
        "  t = .8 + 0.001*i\n",
        "  dupl2 = (np.asarray(sim)>t)*1 \n",
        "  th.append(sum(datatrain['is_duplicate']== dupl2)/datatrain.shape[0])\n",
        "  t2.append(t)"
      ],
      "execution_count": 0,
      "outputs": []
    },
    {
      "cell_type": "code",
      "metadata": {
        "id": "v6pAm3xENnOe",
        "colab_type": "code",
        "outputId": "ccbcdc44-96a0-4455-887f-c616130dffd8",
        "colab": {
          "base_uri": "https://localhost:8080/",
          "height": 312
        }
      },
      "source": [
        "from matplotlib import pyplot as plt\n",
        "plt.plot(t2, th)\n",
        " \n",
        "plt.title('Accuracy for different thresholds')\n",
        "plt.xlabel('threshold')\n",
        "plt.ylabel('Accuracy')\n"
      ],
      "execution_count": 17,
      "outputs": [
        {
          "output_type": "execute_result",
          "data": {
            "text/plain": [
              "Text(0, 0.5, 'Accuracy')"
            ]
          },
          "metadata": {
            "tags": []
          },
          "execution_count": 17
        },
        {
          "output_type": "display_data",
          "data": {
            "image/png": "[encoded data removed]",
            "text/plain": [
              "<Figure size 432x288 with 1 Axes>"
            ]
          },
          "metadata": {
            "tags": [],
            "needs_background": "light"
          }
        }
      ]
    },
    {
      "cell_type": "code",
      "metadata": {
        "id": "txoTOBvSYt8Z",
        "colab_type": "code",
        "outputId": "695c92a3-e7d2-4907-d484-544bfc9f5514",
        "colab": {
          "base_uri": "https://localhost:8080/",
          "height": 34
        }
      },
      "source": [
        "optimal_th =  .8 + 0.001*np.argmax(th)\n",
        "accuracy_max = max(th)\n",
        "print(optimal_th, accuracy_max)"
      ],
      "execution_count": 21,
      "outputs": [
        {
          "output_type": "stream",
          "text": [
            "0.8640000000000001 0.72894375\n"
          ],
          "name": "stdout"
        }
      ]
    },
    {
      "cell_type": "code",
      "metadata": {
        "id": "4sYlFcapGUa9",
        "colab_type": "code",
        "outputId": "0127d38b-729c-455f-dfe3-cd28f6196008",
        "colab": {
          "base_uri": "https://localhost:8080/",
          "height": 176
        }
      },
      "source": [
        "# TESTING \n",
        "simtest = []\n",
        "for i in range(datatest.shape[0]):\n",
        "  if (i % 10000 == 0):\n",
        "    print(100 * i/datatest.shape[0], \"% done\")\n",
        "  cosine = np.dot(datatest['emb1'][i],datatest['emb2'][i].transpose()) / (np.linalg.norm(datatest['emb1'][i]) * np.linalg.norm(datatest['emb2'][i]))\n",
        "  #sim.append(1/(1 + math.exp(-100*(cosine - 0.85))))\n",
        "  simtest.append(cosine)"
      ],
      "execution_count": 19,
      "outputs": [
        {
          "output_type": "stream",
          "text": [
            "0.0 % done\n",
            "11.864225799945425 % done\n",
            "23.72845159989085 % done\n",
            "35.592677399836276 % done\n",
            "47.4569031997817 % done\n",
            "59.32112899972712 % done\n",
            "71.18535479967255 % done\n",
            "83.04958059961797 % done\n",
            "94.9138063995634 % done\n"
          ],
          "name": "stdout"
        }
      ]
    },
    {
      "cell_type": "code",
      "metadata": {
        "id": "n5w0vGZgGimy",
        "colab_type": "code",
        "outputId": "3cc3afb4-4427-4b24-943d-de03a0f7162b",
        "colab": {
          "base_uri": "https://localhost:8080/",
          "height": 34
        }
      },
      "source": [
        "dupltest = (np.asarray(simtest)>optimal_th)*1 \n",
        "print(sum(datatest['is_duplicate']== dupltest)/datatest.shape[0])"
      ],
      "execution_count": 20,
      "outputs": [
        {
          "output_type": "stream",
          "text": [
            "0.7305159751800396\n"
          ],
          "name": "stdout"
        }
      ]
    },
    {
      "cell_type": "code",
      "metadata": {
        "id": "9zR9F4kfnP5V",
        "colab_type": "code",
        "colab": {}
      },
      "source": [
        ""
      ],
      "execution_count": 0,
      "outputs": []
    }
  ]
}