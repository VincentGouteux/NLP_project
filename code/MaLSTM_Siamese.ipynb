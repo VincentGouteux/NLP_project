{
  "nbformat": 4,
  "nbformat_minor": 0,
  "metadata": {
    "colab": {
      "name": "MaLSTM Siamese.ipynb",
      "provenance": [],
      "collapsed_sections": []
    },
    "kernelspec": {
      "name": "python3",
      "display_name": "Python 3"
    },
    "accelerator": "GPU"
  },
  "cells": [
    {
      "cell_type": "code",
      "metadata": {
        "id": "BzfTwhKVemup",
        "colab_type": "code",
        "colab": {}
      },
      "source": [
        "%load_ext autoreload\n",
        "%autoreload 1\n",
        "\n",
        "try:\n",
        "  # %tensorflow_version only exists in Colab.\n",
        "  %tensorflow_version 2.x\n",
        "except Exception:\n",
        "  pass\n",
        "  \n",
        "import tensorflow as tf\n",
        "\n",
        "try:\n",
        "  import tensorflow.compat.v2 as tf\n",
        "except Exception:\n",
        "  pass\n",
        "\n",
        "tf.enable_v2_behavior()\n",
        "\n",
        "print(tf.__version__)\n",
        "#Connect to our own Google Drive\n",
        "from google.colab import drive\n",
        "drive.mount('/content/gdrive')\n",
        "\n",
        "#Go on the DL project folder\n",
        "%cd \"/content/gdrive/My Drive/NLP_Project/\"\n",
        "!ls\n"
      ],
      "execution_count": 0,
      "outputs": []
    },
    {
      "cell_type": "code",
      "metadata": {
        "id": "sRt-toh0ADBy",
        "colab_type": "code",
        "outputId": "e40f4004-4ef5-4e74-956a-ab7d021adddc",
        "colab": {
          "base_uri": "https://localhost:8080/",
          "height": 121
        }
      },
      "source": [
        "import pandas as pd\n",
        "import numpy as np\n",
        "import nltk\n",
        "from nltk.corpus import stopwords\n",
        "nltk.download('stopwords')\n",
        "from nltk.stem import SnowballStemmer\n",
        "nltk.download('punkt')\n",
        "from nltk.stem import WordNetLemmatizer \n",
        "nltk.download('wordnet')\n",
        "import re\n",
        "from string import punctuation\n",
        "import matplotlib.pyplot as plt\n",
        "from tqdm import tqdm"
      ],
      "execution_count": 2,
      "outputs": [
        {
          "output_type": "stream",
          "text": [
            "[nltk_data] Downloading package stopwords to /root/nltk_data...\n",
            "[nltk_data]   Unzipping corpora/stopwords.zip.\n",
            "[nltk_data] Downloading package punkt to /root/nltk_data...\n",
            "[nltk_data]   Unzipping tokenizers/punkt.zip.\n",
            "[nltk_data] Downloading package wordnet to /root/nltk_data...\n",
            "[nltk_data]   Unzipping corpora/wordnet.zip.\n"
          ],
          "name": "stdout"
        }
      ]
    },
    {
      "cell_type": "code",
      "metadata": {
        "id": "BkK44PMnzI6k",
        "colab_type": "code",
        "outputId": "dae9dd2b-10be-45af-96ff-b0d2c59070b5",
        "colab": {
          "base_uri": "https://localhost:8080/",
          "height": 121
        }
      },
      "source": [
        "import utils_cleaning as cl"
      ],
      "execution_count": 3,
      "outputs": [
        {
          "output_type": "stream",
          "text": [
            "[nltk_data] Downloading package stopwords to /root/nltk_data...\n",
            "[nltk_data]   Package stopwords is already up-to-date!\n",
            "[nltk_data] Downloading package punkt to /root/nltk_data...\n",
            "[nltk_data]   Package punkt is already up-to-date!\n",
            "[nltk_data] Downloading package wordnet to /root/nltk_data...\n",
            "[nltk_data]   Package wordnet is already up-to-date!\n"
          ],
          "name": "stdout"
        }
      ]
    },
    {
      "cell_type": "code",
      "metadata": {
        "id": "OqQJupqc2oNw",
        "colab_type": "code",
        "colab": {}
      },
      "source": [
        "df_train = pd.read_csv(\"data/train.csv\")"
      ],
      "execution_count": 0,
      "outputs": []
    },
    {
      "cell_type": "code",
      "metadata": {
        "id": "LYl84f6uATDr",
        "colab_type": "code",
        "outputId": "6666dbf4-e9c3-48b4-8c35-fc57a78f578a",
        "colab": {
          "base_uri": "https://localhost:8080/",
          "height": 156
        }
      },
      "source": [
        "train_question1 = []\n",
        "cl.process_questions(train_question1, df_train.question1, 'train_question1', df_train)\n",
        "\n",
        "train_question2 = []\n",
        "cl.process_questions(train_question2, df_train.question2, 'train_question2', df_train)\n"
      ],
      "execution_count": 5,
      "outputs": [
        {
          "output_type": "stream",
          "text": [
            "train_question1 is 24.7% complete.\n",
            "train_question1 is 49.5% complete.\n",
            "train_question1 is 74.2% complete.\n",
            "train_question1 is 98.9% complete.\n",
            "train_question2 is 24.7% complete.\n",
            "train_question2 is 49.5% complete.\n",
            "train_question2 is 74.2% complete.\n",
            "train_question2 is 98.9% complete.\n"
          ],
          "name": "stdout"
        }
      ]
    },
    {
      "cell_type": "code",
      "metadata": {
        "id": "1yW8cuRpJ-gY",
        "colab_type": "code",
        "outputId": "6e16bf2a-9819-4375-c2f7-4f906cfa92b4",
        "colab": {
          "base_uri": "https://localhost:8080/",
          "height": 72
        }
      },
      "source": [
        "#Load word2vec embeddings\n",
        "from gensim.models import KeyedVectors\n",
        "fname = 'embedding/GoogleNews-vectors-negative300.bin'\n",
        "\n",
        "#saved in a binary format to save space\n",
        "w2v_model = KeyedVectors.load_word2vec_format(fname, binary = True)\n"
      ],
      "execution_count": 6,
      "outputs": [
        {
          "output_type": "stream",
          "text": [
            "/usr/local/lib/python3.6/dist-packages/smart_open/smart_open_lib.py:253: UserWarning: This function is deprecated, use smart_open.open instead. See the migration notes for details: https://github.com/RaRe-Technologies/smart_open/blob/master/README.rst#migrating-to-the-new-open-function\n",
            "  'See the migration notes for details: %s' % _MIGRATION_NOTES_URL\n"
          ],
          "name": "stderr"
        }
      ]
    },
    {
      "cell_type": "code",
      "metadata": {
        "id": "frcjm94d9S4C",
        "colab_type": "code",
        "outputId": "ca1087c9-8e01-4637-9251-ec4ef3441c07",
        "colab": {
          "base_uri": "https://localhost:8080/",
          "height": 107
        }
      },
      "source": [
        "#{'a word' : vector of 300 } example : {'hello' : [0.034, ... , -0.045],...,'raised' : [0.05, 0.004,..., -0.22]}\n",
        "w2v = dict(zip(w2v_model.wv.index2word, w2v_model.wv.syn0))"
      ],
      "execution_count": 7,
      "outputs": [
        {
          "output_type": "stream",
          "text": [
            "/usr/local/lib/python3.6/dist-packages/ipykernel_launcher.py:1: DeprecationWarning: Call to deprecated `wv` (Attribute will be removed in 4.0.0, use self instead).\n",
            "  \"\"\"Entry point for launching an IPython kernel.\n",
            "/usr/local/lib/python3.6/dist-packages/ipykernel_launcher.py:1: DeprecationWarning: Call to deprecated `syn0` (Attribute will be removed in 4.0.0, use self.wv.vectors instead).\n",
            "  \"\"\"Entry point for launching an IPython kernel.\n"
          ],
          "name": "stderr"
        }
      ]
    },
    {
      "cell_type": "code",
      "metadata": {
        "id": "yDKY1pd9NqYQ",
        "colab_type": "code",
        "colab": {}
      },
      "source": [
        "max_seq_length = 50\n",
        "\n",
        "vocabulary = dict()\n",
        "inv_voc = ['forPad']  # '<unk>' acts as a placeholder for the zero vector embedding\n",
        "\n",
        "qs = pd.DataFrame({'q1': train_question1, 'q2': train_question2})\n",
        "qs_cols = ['q1', 'q2']"
      ],
      "execution_count": 0,
      "outputs": []
    },
    {
      "cell_type": "code",
      "metadata": {
        "id": "FqUDtxU0N1yE",
        "colab_type": "code",
        "outputId": "7616e770-2a1b-48f5-aed4-315011462893",
        "colab": {
          "base_uri": "https://localhost:8080/",
          "height": 35
        }
      },
      "source": [
        "# Iterate through the text of both questions of each pair\n",
        "for index, row in tqdm(qs.iterrows()):\n",
        "    for qst in qs_cols:\n",
        "        q2n = []  # q2n -> numerical vector representation of each question\n",
        "        for word in row[qst]:\n",
        "            # Check for stopwords who do not have a word2vec mapping and ignore them\n",
        "            if word not in w2v_model.vocab:\n",
        "                continue\n",
        "            if word not in vocabulary:\n",
        "                vocabulary[word] = len(inv_voc)\n",
        "                q2n.append(len(inv_voc))\n",
        "                inv_voc.append(word)\n",
        "            else:\n",
        "                q2n.append(vocabulary[word])\n",
        "\n",
        "        # Replace questions with equivalent numerical vector/ word-indices\n",
        "        qs.at[index, qst]=q2n\n",
        "    \n",
        "\n",
        "# Prepare embedding layer\n",
        "embedding_dim = 300\n",
        "embeddings = np.random.randn(len(vocabulary)+1, embedding_dim) # Embedding matrix\n",
        "embeddings[0] = 0 #ignore the zero padding at the beginning of the sequence\n"
      ],
      "execution_count": 9,
      "outputs": [
        {
          "output_type": "stream",
          "text": [
            "404290it [01:02, 6419.66it/s]\n"
          ],
          "name": "stderr"
        }
      ]
    },
    {
      "cell_type": "code",
      "metadata": {
        "id": "ZGiMuf9H7ocd",
        "colab_type": "code",
        "outputId": "84569f87-40c7-44f4-d5f7-68de1065744d",
        "colab": {
          "base_uri": "https://localhost:8080/",
          "height": 35
        }
      },
      "source": [
        "# Build the embedding matrix\n",
        "for word, index in tqdm(vocabulary.items()):\n",
        "    if word in w2v_model.vocab:\n",
        "        embeddings[index] = w2v[word]\n",
        "\n",
        "\n",
        "del w2v_model, w2v"
      ],
      "execution_count": 10,
      "outputs": [
        {
          "output_type": "stream",
          "text": [
            "100%|██████████| 35/35 [00:00<00:00, 7980.90it/s]\n"
          ],
          "name": "stderr"
        }
      ]
    },
    {
      "cell_type": "code",
      "metadata": {
        "id": "4HF1mRO_9WvM",
        "colab_type": "code",
        "colab": {
          "base_uri": "https://localhost:8080/",
          "height": 35
        },
        "outputId": "576596f6-20d1-4baa-dc02-d371cb8faa88"
      },
      "source": [
        "import itertools\n",
        "              \n",
        "# Train-validation split\n",
        "X = qs[qs_cols]\n",
        "y = df_train['is_duplicate']\n",
        "\n",
        "from sklearn.model_selection import train_test_split\n",
        "X_train, X_val, y_train, y_val = train_test_split(X, y, test_size = 0.15, random_state = 102)\n",
        "\n",
        "# Preparing train and validation feature-sets\n",
        "X_train = {'left': X_train.q1, 'right': X_train.q2}\n",
        "X_val = {'left': X_val.q1, 'right': X_val.q2}\n",
        "\n",
        "# Preparing target labels\n",
        "y_train = y_train.values\n",
        "y_val = y_val.values\n",
        "\n",
        "\n",
        "## Importing required keras libraries\n",
        "import keras\n",
        "from keras.preprocessing import sequence\n",
        "from keras.models import Model\n",
        "from keras.layers import LSTM, Embedding, Input, Lambda\n",
        "from keras.callbacks import EarlyStopping, ModelCheckpoint\n",
        "import keras.backend as K\n",
        "\n",
        "\n",
        "# Truncate and pad input sequences\n",
        "for dataset, side in itertools.product([X_train, X_val], ['left', 'right']):\n",
        "    dataset[side] = sequence.pad_sequences(dataset[side], maxlen=max_seq_length)"
      ],
      "execution_count": 11,
      "outputs": [
        {
          "output_type": "stream",
          "text": [
            "Using TensorFlow backend.\n"
          ],
          "name": "stderr"
        }
      ]
    },
    {
      "cell_type": "code",
      "metadata": {
        "id": "p4Vumf4q9mWp",
        "colab_type": "code",
        "outputId": "4039d1aa-de07-4904-b863-9316632627ca",
        "colab": {
          "base_uri": "https://localhost:8080/",
          "height": 520
        }
      },
      "source": [
        "def exp_neg_manhattan_dist(left, right):\n",
        "    return K.exp(-K.sum(K.abs(left-right), axis=1, keepdims=True))\n",
        "\n",
        "# Model variables\n",
        "n_hidden = 35\n",
        "batch_size = 64\n",
        "\n",
        "embedding_layer = Embedding(len(embeddings), embedding_dim, weights=[embeddings], \n",
        "                            input_length=max_seq_length, trainable=False)\n",
        "\n",
        "left_input = Input(shape=(max_seq_length,), dtype='int32', name = 'input_1')\n",
        "embed_seq_left = embedding_layer(left_input)\n",
        "\n",
        "right_input = Input(shape=(max_seq_length,), dtype='int32', name = 'input_2')\n",
        "embed_seq_right = embedding_layer(right_input)\n",
        "\n",
        "# Since this is a siamese network, both sides share the same LSTM\n",
        "lstm_layer  = LSTM(n_hidden, activation = 'relu', name = 'shared_lstm')\n",
        "\n",
        "left_output = lstm_layer(embed_seq_left)\n",
        "right_output = lstm_layer(embed_seq_right)\n",
        "\n",
        "# Manhattan distance\n",
        "custom_dist = Lambda(function=lambda x: exp_neg_manhattan_dist(x[0], x[1]), \n",
        "                        output_shape=lambda x: (x[0][0], 1))([left_output, right_output])\n",
        "\n",
        "# Combine all of the above in a Model\n",
        "model = Model([left_input, right_input], [custom_dist])\n",
        "\n",
        "model.compile(loss='mean_squared_error', optimizer= 'adam', metrics=['accuracy'])\n",
        "\n",
        "# Start training\n",
        "model_save = ModelCheckpoint(\"model_w2c_6.h5\", monitor='val_accuracy', verbose=1, save_best_only=True, mode='max')\n",
        "earlyStopping = EarlyStopping(monitor=\"val_accuracy\",patience=2)\n",
        "\n",
        "callbacks_list = [model_save,earlyStopping]\n",
        "history = model.fit([X_train['left'], X_train['right']], y_train, batch_size=batch_size, epochs=7,\n",
        "                            validation_data=([X_val['left'], X_val['right']], y_val),callbacks=callbacks_list)\n"
      ],
      "execution_count": 12,
      "outputs": [
        {
          "output_type": "stream",
          "text": [
            "Train on 343646 samples, validate on 60644 samples\n",
            "Epoch 1/7\n",
            "343646/343646 [==============================] - 919s 3ms/step - loss: 0.1932 - accuracy: 0.7035 - val_loss: 0.1849 - val_accuracy: 0.7170\n",
            "\n",
            "Epoch 00001: val_accuracy improved from -inf to 0.71699, saving model to model_w2c_6.h5\n",
            "Epoch 2/7\n",
            "343646/343646 [==============================] - 921s 3ms/step - loss: 0.1826 - accuracy: 0.7252 - val_loss: 0.1813 - val_accuracy: 0.7276\n",
            "\n",
            "Epoch 00002: val_accuracy improved from 0.71699 to 0.72759, saving model to model_w2c_6.h5\n",
            "Epoch 3/7\n",
            "343646/343646 [==============================] - 905s 3ms/step - loss: 0.1788 - accuracy: 0.7325 - val_loss: 0.1776 - val_accuracy: 0.7354\n",
            "\n",
            "Epoch 00003: val_accuracy improved from 0.72759 to 0.73536, saving model to model_w2c_6.h5\n",
            "Epoch 4/7\n",
            "343646/343646 [==============================] - 917s 3ms/step - loss: 0.1761 - accuracy: 0.7385 - val_loss: 0.1749 - val_accuracy: 0.7402\n",
            "\n",
            "Epoch 00004: val_accuracy improved from 0.73536 to 0.74019, saving model to model_w2c_6.h5\n",
            "Epoch 5/7\n",
            "343646/343646 [==============================] - 907s 3ms/step - loss: 0.1804 - accuracy: 0.7336 - val_loss: 0.1744 - val_accuracy: 0.7414\n",
            "\n",
            "Epoch 00005: val_accuracy improved from 0.74019 to 0.74139, saving model to model_w2c_6.h5\n",
            "Epoch 6/7\n",
            "343646/343646 [==============================] - 902s 3ms/step - loss: 0.1974 - accuracy: 0.6980 - val_loss: 0.1978 - val_accuracy: 0.6994\n",
            "\n",
            "Epoch 00006: val_accuracy did not improve from 0.74139\n",
            "Epoch 7/7\n",
            "343646/343646 [==============================] - 846s 2ms/step - loss: 0.1886 - accuracy: 0.7151 - val_loss: 0.1835 - val_accuracy: 0.7263\n",
            "\n",
            "Epoch 00007: val_accuracy did not improve from 0.74139\n"
          ],
          "name": "stdout"
        }
      ]
    },
    {
      "cell_type": "code",
      "metadata": {
        "id": "ti55IzacIrLk",
        "colab_type": "code",
        "colab": {
          "base_uri": "https://localhost:8080/",
          "height": 573
        },
        "outputId": "f965be77-86f3-4ed5-b3ce-71def43cb643"
      },
      "source": [
        "def plot_history(history):\n",
        "    loss_list = [s for s in history.history.keys() if 'loss' in s and 'val' not in s]\n",
        "    val_loss_list = [s for s in history.history.keys() if 'loss' in s and 'val' in s]\n",
        "    acc_list = [s for s in history.history.keys() if 'acc' in s and 'val' not in s]\n",
        "    val_acc_list = [s for s in history.history.keys() if 'acc' in s and 'val' in s]\n",
        "    \n",
        "    if len(loss_list) == 0:\n",
        "        print('Loss is missing in history')\n",
        "        return \n",
        "    \n",
        "    ## As loss always exists\n",
        "    epochs = range(1,len(history.history[loss_list[0]]) + 1)\n",
        "    \n",
        "    ## Loss\n",
        "    plt.figure(1)\n",
        "    for l in loss_list:\n",
        "        plt.plot(epochs, history.history[l], 'b', label='Training loss (' + str(str(format(history.history[l][-1],'.5f'))+')'))\n",
        "    for l in val_loss_list:\n",
        "        plt.plot(epochs, history.history[l], 'g', label='Validation loss (' + str(str(format(history.history[l][-1],'.5f'))+')'))\n",
        "    \n",
        "    plt.title('Loss')\n",
        "    plt.xlabel('Epochs')\n",
        "    plt.ylabel('Loss')\n",
        "    plt.legend()\n",
        "\n",
        "    ## Accuracy\n",
        "    plt.figure(2)\n",
        "    for l in acc_list:\n",
        "        plt.plot(epochs, history.history[l], 'b', label='Training accuracy (' + str(format(history.history[l][-1],'.5f'))+')')\n",
        "    for l in val_acc_list:    \n",
        "        plt.plot(epochs, history.history[l], 'g', label='Validation accuracy (' + str(format(history.history[l][-1],'.5f'))+')')\n",
        "\n",
        "    plt.title('Accuracy')\n",
        "    plt.xlabel('Epochs')\n",
        "    plt.ylabel('Accuracy')\n",
        "    plt.legend()\n",
        "    plt.show()\n",
        "\n",
        "plot_history(history)"
      ],
      "execution_count": 24,
      "outputs": [
        {
          "output_type": "display_data",
          "data": {
            "image/png": "[encoded data removed]",
            "text/plain": [
              "<Figure size 432x288 with 1 Axes>"
            ]
          },
          "metadata": {
            "tags": [],
            "needs_background": "light"
          }
        },
        {
          "output_type": "display_data",
          "data": {
            "image/png": "[encoded data removed]",
            "text/plain": [
              "<Figure size 432x288 with 1 Axes>"
            ]
          },
          "metadata": {
            "tags": [],
            "needs_background": "light"
          }
        }
      ]
    },
    {
      "cell_type": "code",
      "metadata": {
        "id": "XOwHYQQYQlM8",
        "colab_type": "code",
        "colab": {}
      },
      "source": [
        "model.load_weights(\"model_w2c_6.h5\")\n",
        "\n",
        "preds = model.predict([X_val['left'], X_val['right']])\n",
        "y_pred = [1 if x > 0.5 else 0 for x in preds] \n",
        "accuracy = (y_pred == y_val).sum()/len(y_val)"
      ],
      "execution_count": 0,
      "outputs": []
    },
    {
      "cell_type": "code",
      "metadata": {
        "id": "b8E2u0bcQcwk",
        "colab_type": "code",
        "outputId": "e3a956b1-5089-4b7b-9e13-99fdb478135b",
        "colab": {
          "base_uri": "https://localhost:8080/",
          "height": 35
        }
      },
      "source": [
        "thresholds = []\n",
        "for thresh in np.arange(0.1, 0.95, 0.01):\n",
        "    thresh = np.round(thresh, 3)\n",
        "    y_pred = [1 if x > thresh else 0 for x in preds] \n",
        "    accuracy = (y_pred == y_val).sum()/len(y_val)\n",
        "    thresholds.append([thresh, accuracy])\n",
        "    \n",
        "thresholds.sort(key=lambda x: x[1], reverse=True)\n",
        "best_thresh = thresholds[0][0]\n",
        "best_acc = thresholds[0][1]\n",
        "print(\"Best threshold: \", best_thresh,\", best accuracy: \",best_acc)"
      ],
      "execution_count": 22,
      "outputs": [
        {
          "output_type": "stream",
          "text": [
            "Best threshold:  0.46 , best accuracy:  0.7444264890178748\n"
          ],
          "name": "stdout"
        }
      ]
    },
    {
      "cell_type": "code",
      "metadata": {
        "id": "ZdpGrQwnxu0H",
        "colab_type": "code",
        "colab": {
          "base_uri": "https://localhost:8080/",
          "height": 104
        },
        "outputId": "e90b39bb-2329-4fa9-a1e3-20a9f5f84ee7"
      },
      "source": [
        "from sklearn.metrics import confusion_matrix\n",
        "y_pred = [1 if x > best_thresh else 0 for x in preds] \n",
        "\n",
        "cm = confusion_matrix(y_val, y_pred)\n",
        "tn, fp, fn, tp = confusion_matrix(y_val, y_pred).ravel()\n",
        "recall = tp/(tp+fn)\n",
        "precision = tp/(tp+fp)\n",
        "f1_score = 2 * (precision * recall)/(precision+ recall)\n",
        "\n",
        "nb_duplicate = sum(y_val)/len(y_val)\n",
        "\n",
        "print(\"Accuracy :\",best_acc)\n",
        "print(\"recall :\",recall)\n",
        "print(\"precision :\",precision)\n",
        "print(\"f1_Score :\",f1_score)\n",
        "print(\"Pourcentage de questions similaires :\",nb_duplicate)"
      ],
      "execution_count": 23,
      "outputs": [
        {
          "output_type": "stream",
          "text": [
            "Accuracy : 0.7444264890178748\n",
            "recall : 0.5934944819266342\n",
            "precision : 0.674812030075188\n",
            "f1_Score : 0.6315464162605492\n",
            "Pourcentage de questions similaires : 0.36905547127498184\n"
          ],
          "name": "stdout"
        }
      ]
    }
  ]
}