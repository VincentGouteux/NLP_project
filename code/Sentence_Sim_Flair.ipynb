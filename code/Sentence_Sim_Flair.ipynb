{
  "nbformat": 4,
  "nbformat_minor": 0,
  "metadata": {
    "kernelspec": {
      "display_name": "Python 3",
      "language": "python",
      "name": "python3"
    },
    "language_info": {
      "codemirror_mode": {
        "name": "ipython",
        "version": 3
      },
      "file_extension": ".py",
      "mimetype": "text/x-python",
      "name": "python",
      "nbconvert_exporter": "python",
      "pygments_lexer": "ipython3",
      "version": "3.7.3"
    },
    "colab": {
      "name": "Sentence_Sim_Flair.ipynb",
      "provenance": [],
      "collapsed_sections": []
    },
    "accelerator": "GPU"
  },
  "cells": [
    {
      "cell_type": "code",
      "metadata": {
        "id": "yQS1D4WNS5wO",
        "colab_type": "code",
        "outputId": "2914150d-a6f2-4771-b6a7-edb72e8f6d3c",
        "colab": {
          "base_uri": "https://localhost:8080/",
          "height": 986
        }
      },
      "source": [
        "! pip install flair\n",
        "! pip install fuzzywuzzy"
      ],
      "execution_count": 1,
      "outputs": [
        {
          "output_type": "stream",
          "text": [
            "Requirement already satisfied: flair in /usr/local/lib/python3.6/dist-packages (0.4.5)\n",
            "Requirement already satisfied: python-dateutil>=2.6.1 in /usr/local/lib/python3.6/dist-packages (from flair) (2.8.1)\n",
            "Requirement already satisfied: mpld3==0.3 in /usr/local/lib/python3.6/dist-packages (from flair) (0.3)\n",
            "Requirement already satisfied: tabulate in /usr/local/lib/python3.6/dist-packages (from flair) (0.8.7)\n",
            "Requirement already satisfied: torch>=1.1.0 in /usr/local/lib/python3.6/dist-packages (from flair) (1.4.0)\n",
            "Requirement already satisfied: deprecated>=1.2.4 in /usr/local/lib/python3.6/dist-packages (from flair) (1.2.9)\n",
            "Requirement already satisfied: regex in /usr/local/lib/python3.6/dist-packages (from flair) (2019.12.20)\n",
            "Requirement already satisfied: gensim>=3.4.0 in /usr/local/lib/python3.6/dist-packages (from flair) (3.6.0)\n",
            "Requirement already satisfied: scikit-learn>=0.21.3 in /usr/local/lib/python3.6/dist-packages (from flair) (0.22.2.post1)\n",
            "Requirement already satisfied: sqlitedict>=1.6.0 in /usr/local/lib/python3.6/dist-packages (from flair) (1.6.0)\n",
            "Requirement already satisfied: pytest>=5.3.2 in /usr/local/lib/python3.6/dist-packages (from flair) (5.4.1)\n",
            "Requirement already satisfied: tqdm>=4.26.0 in /usr/local/lib/python3.6/dist-packages (from flair) (4.38.0)\n",
            "Requirement already satisfied: hyperopt>=0.1.1 in /usr/local/lib/python3.6/dist-packages (from flair) (0.1.2)\n",
            "Requirement already satisfied: bpemb>=0.2.9 in /usr/local/lib/python3.6/dist-packages (from flair) (0.3.0)\n",
            "Requirement already satisfied: langdetect in /usr/local/lib/python3.6/dist-packages (from flair) (1.0.8)\n",
            "Requirement already satisfied: matplotlib>=2.2.3 in /usr/local/lib/python3.6/dist-packages (from flair) (3.2.1)\n",
            "Requirement already satisfied: segtok>=1.5.7 in /usr/local/lib/python3.6/dist-packages (from flair) (1.5.9)\n",
            "Requirement already satisfied: urllib3<1.25,>=1.20 in /usr/local/lib/python3.6/dist-packages (from flair) (1.24.3)\n",
            "Requirement already satisfied: transformers>=2.3.0 in /usr/local/lib/python3.6/dist-packages (from flair) (2.8.0)\n",
            "Requirement already satisfied: six>=1.5 in /usr/local/lib/python3.6/dist-packages (from python-dateutil>=2.6.1->flair) (1.12.0)\n",
            "Requirement already satisfied: wrapt<2,>=1.10 in /usr/local/lib/python3.6/dist-packages (from deprecated>=1.2.4->flair) (1.12.1)\n",
            "Requirement already satisfied: smart-open>=1.2.1 in /usr/local/lib/python3.6/dist-packages (from gensim>=3.4.0->flair) (1.11.1)\n",
            "Requirement already satisfied: numpy>=1.11.3 in /usr/local/lib/python3.6/dist-packages (from gensim>=3.4.0->flair) (1.18.3)\n",
            "Requirement already satisfied: scipy>=0.18.1 in /usr/local/lib/python3.6/dist-packages (from gensim>=3.4.0->flair) (1.4.1)\n",
            "Requirement already satisfied: joblib>=0.11 in /usr/local/lib/python3.6/dist-packages (from scikit-learn>=0.21.3->flair) (0.14.1)\n",
            "Requirement already satisfied: pluggy<1.0,>=0.12 in /usr/local/lib/python3.6/dist-packages (from pytest>=5.3.2->flair) (0.13.1)\n",
            "Requirement already satisfied: attrs>=17.4.0 in /usr/local/lib/python3.6/dist-packages (from pytest>=5.3.2->flair) (19.3.0)\n",
            "Requirement already satisfied: wcwidth in /usr/local/lib/python3.6/dist-packages (from pytest>=5.3.2->flair) (0.1.9)\n",
            "Requirement already satisfied: packaging in /usr/local/lib/python3.6/dist-packages (from pytest>=5.3.2->flair) (20.3)\n",
            "Requirement already satisfied: py>=1.5.0 in /usr/local/lib/python3.6/dist-packages (from pytest>=5.3.2->flair) (1.8.1)\n",
            "Requirement already satisfied: more-itertools>=4.0.0 in /usr/local/lib/python3.6/dist-packages (from pytest>=5.3.2->flair) (8.2.0)\n",
            "Requirement already satisfied: importlib-metadata>=0.12; python_version < \"3.8\" in /usr/local/lib/python3.6/dist-packages (from pytest>=5.3.2->flair) (1.6.0)\n",
            "Requirement already satisfied: future in /usr/local/lib/python3.6/dist-packages (from hyperopt>=0.1.1->flair) (0.16.0)\n",
            "Requirement already satisfied: networkx in /usr/local/lib/python3.6/dist-packages (from hyperopt>=0.1.1->flair) (2.4)\n",
            "Requirement already satisfied: pymongo in /usr/local/lib/python3.6/dist-packages (from hyperopt>=0.1.1->flair) (3.10.1)\n",
            "Requirement already satisfied: requests in /usr/local/lib/python3.6/dist-packages (from bpemb>=0.2.9->flair) (2.21.0)\n",
            "Requirement already satisfied: sentencepiece in /usr/local/lib/python3.6/dist-packages (from bpemb>=0.2.9->flair) (0.1.86)\n",
            "Requirement already satisfied: kiwisolver>=1.0.1 in /usr/local/lib/python3.6/dist-packages (from matplotlib>=2.2.3->flair) (1.2.0)\n",
            "Requirement already satisfied: cycler>=0.10 in /usr/local/lib/python3.6/dist-packages (from matplotlib>=2.2.3->flair) (0.10.0)\n",
            "Requirement already satisfied: pyparsing!=2.0.4,!=2.1.2,!=2.1.6,>=2.0.1 in /usr/local/lib/python3.6/dist-packages (from matplotlib>=2.2.3->flair) (2.4.7)\n",
            "Requirement already satisfied: tokenizers==0.5.2 in /usr/local/lib/python3.6/dist-packages (from transformers>=2.3.0->flair) (0.5.2)\n",
            "Requirement already satisfied: sacremoses in /usr/local/lib/python3.6/dist-packages (from transformers>=2.3.0->flair) (0.0.41)\n",
            "Requirement already satisfied: dataclasses; python_version < \"3.7\" in /usr/local/lib/python3.6/dist-packages (from transformers>=2.3.0->flair) (0.7)\n",
            "Requirement already satisfied: boto3 in /usr/local/lib/python3.6/dist-packages (from transformers>=2.3.0->flair) (1.12.43)\n",
            "Requirement already satisfied: filelock in /usr/local/lib/python3.6/dist-packages (from transformers>=2.3.0->flair) (3.0.12)\n",
            "Requirement already satisfied: boto in /usr/local/lib/python3.6/dist-packages (from smart-open>=1.2.1->gensim>=3.4.0->flair) (2.49.0)\n",
            "Requirement already satisfied: zipp>=0.5 in /usr/local/lib/python3.6/dist-packages (from importlib-metadata>=0.12; python_version < \"3.8\"->pytest>=5.3.2->flair) (3.1.0)\n",
            "Requirement already satisfied: decorator>=4.3.0 in /usr/local/lib/python3.6/dist-packages (from networkx->hyperopt>=0.1.1->flair) (4.4.2)\n",
            "Requirement already satisfied: certifi>=2017.4.17 in /usr/local/lib/python3.6/dist-packages (from requests->bpemb>=0.2.9->flair) (2020.4.5.1)\n",
            "Requirement already satisfied: idna<2.9,>=2.5 in /usr/local/lib/python3.6/dist-packages (from requests->bpemb>=0.2.9->flair) (2.8)\n",
            "Requirement already satisfied: chardet<3.1.0,>=3.0.2 in /usr/local/lib/python3.6/dist-packages (from requests->bpemb>=0.2.9->flair) (3.0.4)\n",
            "Requirement already satisfied: click in /usr/local/lib/python3.6/dist-packages (from sacremoses->transformers>=2.3.0->flair) (7.1.1)\n",
            "Requirement already satisfied: s3transfer<0.4.0,>=0.3.0 in /usr/local/lib/python3.6/dist-packages (from boto3->transformers>=2.3.0->flair) (0.3.3)\n",
            "Requirement already satisfied: botocore<1.16.0,>=1.15.43 in /usr/local/lib/python3.6/dist-packages (from boto3->transformers>=2.3.0->flair) (1.15.43)\n",
            "Requirement already satisfied: jmespath<1.0.0,>=0.7.1 in /usr/local/lib/python3.6/dist-packages (from boto3->transformers>=2.3.0->flair) (0.9.5)\n",
            "Requirement already satisfied: docutils<0.16,>=0.10 in /usr/local/lib/python3.6/dist-packages (from botocore<1.16.0,>=1.15.43->boto3->transformers>=2.3.0->flair) (0.15.2)\n",
            "Requirement already satisfied: fuzzywuzzy in /usr/local/lib/python3.6/dist-packages (0.18.0)\n"
          ],
          "name": "stdout"
        }
      ]
    },
    {
      "cell_type": "code",
      "metadata": {
        "id": "2Md5SpTDVUk7",
        "colab_type": "code",
        "outputId": "b29d63b0-dd11-4a32-be86-7e6f80b55ba6",
        "colab": {
          "base_uri": "https://localhost:8080/",
          "height": 34
        }
      },
      "source": [
        "#Connect to our own Google Drive\n",
        "from google.colab import drive\n",
        "drive.mount('/content/gdrive')"
      ],
      "execution_count": 2,
      "outputs": [
        {
          "output_type": "stream",
          "text": [
            "Drive already mounted at /content/gdrive; to attempt to forcibly remount, call drive.mount(\"/content/gdrive\", force_remount=True).\n"
          ],
          "name": "stdout"
        }
      ]
    },
    {
      "cell_type": "code",
      "metadata": {
        "id": "ELF9OwirVbrr",
        "colab_type": "code",
        "colab": {
          "base_uri": "https://localhost:8080/",
          "height": 51
        },
        "outputId": "1d4f04f5-c85d-4e83-e059-1973e35a2b50"
      },
      "source": [
        "%cd \"/content/gdrive/My Drive/ProjetNLPQuora/\"\n",
        "!ls"
      ],
      "execution_count": 3,
      "outputs": [
        {
          "output_type": "stream",
          "text": [
            "/content/gdrive/My Drive/ProjetNLPQuora\n",
            " bert-master  'test (1).csv'   test.csv   train.csv\n"
          ],
          "name": "stdout"
        }
      ]
    },
    {
      "cell_type": "code",
      "metadata": {
        "id": "xGSK-RnJXX36",
        "colab_type": "code",
        "outputId": "d5b9c8c8-4258-4001-c9e1-2fb405401c74",
        "colab": {
          "base_uri": "https://localhost:8080/",
          "height": 911
        }
      },
      "source": [
        "\n",
        "import pandas as pd\n",
        "import numpy as np\n",
        "import nltk\n",
        "from nltk.corpus import stopwords\n",
        "nltk.download('stopwords')\n",
        "from nltk.stem import SnowballStemmer\n",
        "nltk.download('punkt')\n",
        "from nltk.stem import WordNetLemmatizer \n",
        "nltk.download('wordnet')\n",
        "import re\n",
        "from string import punctuation\n",
        "import matplotlib.pyplot as plt\n",
        "\n",
        "\n",
        "df_train = pd.read_csv(\"train.csv\")\n",
        "df_test = pd.read_csv(\"test.csv\")\n",
        "\n",
        "\n",
        "\n",
        "print('Total number of question pairs for training: {}'.format(len(df_train)))\n",
        "print('Duplicate pairs: {}%'.format(round(df_train['is_duplicate'].mean()*100, 2)))\n",
        "qids = pd.Series(df_train['qid1'].tolist() + df_train['qid2'].tolist())\n",
        "print('Total number of questions in the training data: {}'.format(len(np.unique(qids))))\n",
        "print('Number of questions that appear multiple times: {}'.format(np.sum(qids.value_counts() > 1)))\n",
        "\n",
        "plt.figure(figsize=(12, 5))\n",
        "plt.hist(qids.value_counts(), bins=50)\n",
        "plt.yscale('log', nonposy='clip')\n",
        "plt.title('Log-Histogram of question appearance counts')\n",
        "plt.xlabel('Number of occurences of question')\n",
        "plt.ylabel('Number of questions')\n",
        "print()\n",
        "\n",
        "\n",
        "#stop_words = ['the','a','an','and','but','if','or','because','as','what','which','this','that','these','those','then',\n",
        "#              'just','so','than','such','both','through','about','for','is','of','while','during','to','What','Which',\n",
        "#              'Is','If','While','This']\n",
        "\n",
        "def text_to_wordlist(text, remove_stop_words=True, lemmatize=True,stem_words=True):\n",
        "    # Clean the text, with the option to remove stop_words lemmatize and to stem words.\n",
        "    \n",
        "    # Clean the text\n",
        "    text = re.sub(r\"[^A-Za-z0-9]\", \" \", str(text))\n",
        "\n",
        "    # Remove punctuation from text\n",
        "    text = ''.join([c for c in text if c not in punctuation])\n",
        "    \n",
        "    # Optionally, remove stop words\n",
        "    stopWords = set(stopwords.words('english'))\n",
        "    if remove_stop_words:\n",
        "        text = text.split()\n",
        "        text = [w for w in text if not w in stopWords]\n",
        "        text = \" \".join(text)\n",
        "        \n",
        "        \n",
        "    #Optionally, Lemmatize words\n",
        "    lemmatizer = WordNetLemmatizer() \n",
        "    if lemmatize:\n",
        "        text = text.split()\n",
        "        lemmatized_words = [lemmatizer.lemmatize(word) for word in text]\n",
        "        text = \" \".join(lemmatized_words)\n",
        "    \n",
        "    # Optionally, shorten words to their stems\n",
        "    if stem_words:\n",
        "        text = text.split()\n",
        "        stemmer = SnowballStemmer('english')\n",
        "        stemmed_words = [stemmer.stem(word) for word in text]\n",
        "        text = \" \".join(stemmed_words)\n",
        "    \n",
        "    # Return a list of words\n",
        "    return(text)\n",
        "\n",
        "\n",
        "def process_questions(question_list, questions, question_list_name, dataframe):\n",
        "    '''transform questions and display progress'''\n",
        "    for question in questions:\n",
        "        question_list.append(text_to_wordlist(question))\n",
        "        if len(question_list) % 100000 == 0:\n",
        "            progress = len(question_list)/len(dataframe) * 100\n",
        "            print(\"{} is {}% complete.\".format(question_list_name, round(progress, 1)))\n",
        "\n",
        "\n",
        "train_question1 = []\n",
        "process_questions(train_question1, df_train.question1, 'train_question1', df_train)\n",
        "\n",
        "train_question2 = []\n",
        "process_questions(train_question2, df_train.question2, 'train_question2', df_train)\n",
        "\n",
        "\n",
        "a = 0 \n",
        "for i in range(a,a+2):\n",
        "    print(df_train.question1[i])\n",
        "    print(df_train.question2[i])\n",
        "    print()\n",
        "\n",
        "a = 0 \n",
        "for i in range(a,a+2):\n",
        "    print(train_question1[i])\n",
        "    print(train_question2[i])\n",
        "    print()"
      ],
      "execution_count": 4,
      "outputs": [
        {
          "output_type": "stream",
          "text": [
            "[nltk_data] Downloading package stopwords to /root/nltk_data...\n",
            "[nltk_data]   Package stopwords is already up-to-date!\n",
            "[nltk_data] Downloading package punkt to /root/nltk_data...\n",
            "[nltk_data]   Package punkt is already up-to-date!\n",
            "[nltk_data] Downloading package wordnet to /root/nltk_data...\n",
            "[nltk_data]   Package wordnet is already up-to-date!\n"
          ],
          "name": "stdout"
        },
        {
          "output_type": "stream",
          "text": [
            "/usr/local/lib/python3.6/dist-packages/IPython/core/interactiveshell.py:2718: DtypeWarning: Columns (0) have mixed types.Specify dtype option on import or set low_memory=False.\n",
            "  interactivity=interactivity, compiler=compiler, result=result)\n"
          ],
          "name": "stderr"
        },
        {
          "output_type": "stream",
          "text": [
            "Total number of question pairs for training: 404290\n",
            "Duplicate pairs: 36.92%\n",
            "Total number of questions in the training data: 537933\n",
            "Number of questions that appear multiple times: 111780\n",
            "\n",
            "train_question1 is 24.7% complete.\n",
            "train_question1 is 49.5% complete.\n",
            "train_question1 is 74.2% complete.\n",
            "train_question1 is 98.9% complete.\n",
            "train_question2 is 24.7% complete.\n",
            "train_question2 is 49.5% complete.\n",
            "train_question2 is 74.2% complete.\n",
            "train_question2 is 98.9% complete.\n",
            "What is the step by step guide to invest in share market in india?\n",
            "What is the step by step guide to invest in share market?\n",
            "\n",
            "What is the story of Kohinoor (Koh-i-Noor) Diamond?\n",
            "What would happen if the Indian government stole the Kohinoor (Koh-i-Noor) diamond back?\n",
            "\n",
            "what step step guid invest share market india\n",
            "what step step guid invest share market\n",
            "\n",
            "what stori kohinoor koh noor diamond\n",
            "what would happen indian govern stole kohinoor koh noor diamond back\n",
            "\n"
          ],
          "name": "stdout"
        },
        {
          "output_type": "display_data",
          "data": {
            "image/png": "[encoded data removed]",
            "text/plain": [
              "<Figure size 864x360 with 1 Axes>"
            ]
          },
          "metadata": {
            "tags": [],
            "needs_background": "light"
          }
        }
      ]
    },
    {
      "cell_type": "code",
      "metadata": {
        "id": "x2uXfeATvqmO",
        "colab_type": "code",
        "colab": {}
      },
      "source": [
        "df_train_clean = df_train\n",
        "df_train_clean['question1'] = train_question1\n",
        "df_train_clean['question2'] = train_question2"
      ],
      "execution_count": 0,
      "outputs": []
    },
    {
      "cell_type": "code",
      "metadata": {
        "id": "Cx7_XrEODHJB",
        "colab_type": "code",
        "colab": {
          "base_uri": "https://localhost:8080/",
          "height": 51
        },
        "outputId": "68f3c3ba-9ce7-4101-fc27-a89d9da6549b"
      },
      "source": [
        "import torch\n",
        "from flair.data import Sentence\n",
        "from flair.models import SequenceTagger\n",
        "from flair.embeddings import WordEmbeddings, FlairEmbeddings, DocumentPoolEmbeddings, Sentence , StackedEmbeddings\n",
        "from flair.models import TextClassifier\n",
        "from langdetect import detect\n",
        "import pandas as pd\n",
        "#from googletrans import Translator\n",
        "import pandas as pd\n",
        "import re\n",
        "import numpy as np\n",
        "from numpy import linalg as LA\n",
        "import spacy\n",
        "from fuzzywuzzy import fuzz\n",
        "from fuzzywuzzy import process\n",
        "from datetime import date\n",
        "from datetime import datetime,timedelta"
      ],
      "execution_count": 6,
      "outputs": [
        {
          "output_type": "stream",
          "text": [
            "/usr/local/lib/python3.6/dist-packages/fuzzywuzzy/fuzz.py:11: UserWarning: Using slow pure-python SequenceMatcher. Install python-Levenshtein to remove this warning\n",
            "  warnings.warn('Using slow pure-python SequenceMatcher. Install python-Levenshtein to remove this warning')\n"
          ],
          "name": "stderr"
        }
      ]
    },
    {
      "cell_type": "code",
      "metadata": {
        "id": "pGdIgLuRDnGR",
        "colab_type": "code",
        "colab": {}
      },
      "source": [
        "df_test = df_train_clean"
      ],
      "execution_count": 0,
      "outputs": []
    },
    {
      "cell_type": "code",
      "metadata": {
        "id": "P00b5dgKDsLF",
        "colab_type": "code",
        "colab": {}
      },
      "source": [
        "df_test = df_test.iloc[:200]"
      ],
      "execution_count": 0,
      "outputs": []
    },
    {
      "cell_type": "code",
      "metadata": {
        "id": "L5Da2v3ru2Vj",
        "colab_type": "code",
        "colab": {}
      },
      "source": [
        "nlp = spacy.load(\"en_core_web_sm\",disable=['parser','ner'])\n",
        "\n",
        "def Vectorization(df,text_column_name,idx): \n",
        "    stacked_embedding = [FlairEmbeddings(\"news-forward-fast\"),FlairEmbeddings(\"news-backward-fast\"),WordEmbeddings(\"glove\")]\n",
        "    df['Vector'+str(idx)]=df[text_column_name].apply(Document_Embedding_Flair,embedding=stacked_embedding)\n",
        "    return df\n",
        "\n",
        "def Vectorization2(q1,q2): \n",
        "    stacked_embedding = [FlairEmbeddings(\"news-forward-fast\"),FlairEmbeddings(\"news-backward-fast\"),WordEmbeddings(\"glove\")]\n",
        "    v1 = Document_Embedding_Flair(q1,stacked_embedding)\n",
        "    v2 = Document_Embedding_Flair(q2,stacked_embedding)\n",
        "    return [v1,v2]\n",
        "\n",
        "def Document_Embedding_Flair(text,embedding):\n",
        "    sentence = Sentence(text)\n",
        "    document_embeddings = DocumentPoolEmbeddings(embedding)\n",
        "    document_embeddings.embed(sentence)\n",
        "    return sentence.get_embedding()\n",
        "\n",
        "def Similarity(x,y):\n",
        "  sim = []\n",
        "  for i in range(x.shape[0]):\n",
        "    if (type(x[i])==torch.Tensor):\n",
        "        #xi=x[i].detach().numpy()\n",
        "        #yi=y[i].detach().numpy()\n",
        "        xi=x[i].cuda().detach().cpu().clone().numpy()\n",
        "        yi=y[i].cuda().detach().cpu().clone().numpy()\n",
        "        xi=np.asarray(xi)\n",
        "        yi=np.asarray(yi)\n",
        "        sim.append(np.dot(xi,yi)/(LA.norm(xi)*LA.norm(yi)))\n",
        "  return sim\n",
        "\n"
      ],
      "execution_count": 0,
      "outputs": []
    },
    {
      "cell_type": "code",
      "metadata": {
        "id": "gmhgiVY-0P16",
        "colab_type": "code",
        "colab": {}
      },
      "source": [
        "import time"
      ],
      "execution_count": 0,
      "outputs": []
    },
    {
      "cell_type": "code",
      "metadata": {
        "id": "GTI2JlsFnP-A",
        "colab_type": "code",
        "outputId": "e9622b92-c462-4acc-e08d-73a3b97077cf",
        "colab": {
          "base_uri": "https://localhost:8080/",
          "height": 190
        }
      },
      "source": [
        "t1 = time.time()\n",
        "Vectorization(df_test,'question1',1)\n",
        "Vectorization(df_test,'question2',2)\n",
        "print(time.time()-t1)"
      ],
      "execution_count": 19,
      "outputs": [
        {
          "output_type": "stream",
          "text": [
            "/usr/local/lib/python3.6/dist-packages/smart_open/smart_open_lib.py:253: UserWarning: This function is deprecated, use smart_open.open instead. See the migration notes for details: https://github.com/RaRe-Technologies/smart_open/blob/master/README.rst#migrating-to-the-new-open-function\n",
            "  'See the migration notes for details: %s' % _MIGRATION_NOTES_URL\n",
            "/usr/local/lib/python3.6/dist-packages/ipykernel_launcher.py:5: SettingWithCopyWarning: \n",
            "A value is trying to be set on a copy of a slice from a DataFrame.\n",
            "Try using .loc[row_indexer,col_indexer] = value instead\n",
            "\n",
            "See the caveats in the documentation: https://pandas.pydata.org/pandas-docs/stable/user_guide/indexing.html#returning-a-view-versus-a-copy\n",
            "  \"\"\"\n"
          ],
          "name": "stderr"
        },
        {
          "output_type": "stream",
          "text": [
            "20.061625719070435\n"
          ],
          "name": "stdout"
        }
      ]
    },
    {
      "cell_type": "code",
      "metadata": {
        "id": "KHDG07x11ff1",
        "colab_type": "code",
        "colab": {}
      },
      "source": [
        " torch.cuda.empty_cache()"
      ],
      "execution_count": 0,
      "outputs": []
    },
    {
      "cell_type": "code",
      "metadata": {
        "id": "pNUPSRvazdaX",
        "colab_type": "code",
        "colab": {
          "base_uri": "https://localhost:8080/",
          "height": 34
        },
        "outputId": "0953777e-b58f-469e-8514-b931e3267278"
      },
      "source": [
        "v1 = df_test['Vector1']\n",
        "v2 = df_test['Vector2']\n",
        "sim = Similarity(v1,v2)\n",
        "len(sim)"
      ],
      "execution_count": 44,
      "outputs": [
        {
          "output_type": "execute_result",
          "data": {
            "text/plain": [
              "200"
            ]
          },
          "metadata": {
            "tags": []
          },
          "execution_count": 44
        }
      ]
    },
    {
      "cell_type": "code",
      "metadata": {
        "id": "TlfBiApZ1gPJ",
        "colab_type": "code",
        "colab": {
          "base_uri": "https://localhost:8080/",
          "height": 34
        },
        "outputId": "ca0d53aa-3278-4fd4-dbf1-dc50038f6821"
      },
      "source": [
        "treshold = .98\n",
        "sim = np.asarray(sim)\n",
        "sim_bool = (sim >= treshold)*1\n",
        "print(sum(df_test['is_duplicate']== sim_bool)/200)"
      ],
      "execution_count": 42,
      "outputs": [
        {
          "output_type": "stream",
          "text": [
            "0.655\n"
          ],
          "name": "stdout"
        }
      ]
    },
    {
      "cell_type": "code",
      "metadata": {
        "id": "_nJxTVVZ413q",
        "colab_type": "code",
        "colab": {}
      },
      "source": [
        "th = []\n",
        "sim = np.asarray(sim)\n",
        "for i in range(20):\n",
        "  t = .8 + 0.01*i\n",
        "  sim_bool = (sim >= t)*1\n",
        "  th.append(sum(df_test['is_duplicate']== sim_bool)/200)"
      ],
      "execution_count": 0,
      "outputs": []
    },
    {
      "cell_type": "code",
      "metadata": {
        "id": "I1GnlV1L8IpY",
        "colab_type": "code",
        "colab": {
          "base_uri": "https://localhost:8080/",
          "height": 285
        },
        "outputId": "f9d88fb8-0ada-4686-a0b1-69645ffbfb0f"
      },
      "source": [
        "from matplotlib import pyplot as plt\n",
        "plt.plot(th)"
      ],
      "execution_count": 47,
      "outputs": [
        {
          "output_type": "execute_result",
          "data": {
            "text/plain": [
              "[<matplotlib.lines.Line2D at 0x7f973cb65828>]"
            ]
          },
          "metadata": {
            "tags": []
          },
          "execution_count": 47
        },
        {
          "output_type": "display_data",
          "data": {
            "image/png": "[encoded data removed]",
            "text/plain": [
              "<Figure size 432x288 with 1 Axes>"
            ]
          },
          "metadata": {
            "tags": [],
            "needs_background": "light"
          }
        }
      ]
    },
    {
      "cell_type": "code",
      "metadata": {
        "id": "L9lV3yQNR7E-",
        "colab_type": "code",
        "colab": {}
      },
      "source": [
        "def compute_score(batchsize, df, treshold):\n",
        "    v1 = []\n",
        "    v2 = []\n",
        "    for j in range(500 // batchsize ): #df_train.shape[0]\n",
        "      print(\"{} over {}, {}% complete.\".format(j*batchsize, df_train.shape[0], j*batchsize/df_train.shape[0]))\n",
        "      df_test = df_train_clean[j*batchsize : (j+1)*batchsize]\n",
        "      Vectorization(df_test,'question1',1)\n",
        "      Vectorization(df_test,'question2',2)\n",
        "      v1.append(df_test['Vector1']) \n",
        "      v2.append(df_test['Vector2'])\n",
        "          totalscore = []\n",
        "      print(df_test)\n",
        "      #score = Similarity(v1,v2)\n",
        "      #score = np.asarray(score)\n",
        "      #score = (score >= treshold)*1\n",
        "      score = 1\n",
        "      totalscore.append(score)\n",
        "          df['similarity'] = totalscore\n"
      ],
      "execution_count": 0,
      "outputs": []
    },
    {
      "cell_type": "code",
      "metadata": {
        "id": "Sg2BJkrAv1PA",
        "colab_type": "code",
        "colab": {}
      },
      "source": [
        "compute_score(50,df_test,0.85)"
      ],
      "execution_count": 0,
      "outputs": []
    }
  ]
}