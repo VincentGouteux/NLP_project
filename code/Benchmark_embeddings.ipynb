{
  "nbformat": 4,
  "nbformat_minor": 0,
  "metadata": {
    "colab": {
      "name": "Benchmark_embeddings.ipynb",
      "provenance": [],
      "collapsed_sections": [
        "uBBYi-X9iRXW",
        "BAzE4PlD-d8w",
        "d7sKiK7UMysy",
        "hqhLdd_tM3fh",
        "vofrZj3AHVm1",
        "si1eoJbCJUld",
        "PaO2FmtRjIev",
        "Mkll8RuSp2bJ",
        "HI0G-BRjqGrU",
        "GfxdOf9SzqTU",
        "NJTjHXXwzIlZ"
      ],
      "toc_visible": true,
      "machine_shape": "hm"
    },
    "kernelspec": {
      "name": "python3",
      "display_name": "Python 3"
    },
    "accelerator": "GPU"
  },
  "cells": [
    {
      "cell_type": "code",
      "metadata": {
        "id": "KAKeUrkIIg2s",
        "colab_type": "code",
        "outputId": "9d858e41-8189-4e63-da1a-2e82658ef0ba",
        "colab": {
          "base_uri": "https://localhost:8080/",
          "height": 506
        }
      },
      "source": [
        "# Mount drive\n",
        "import os\n",
        "from google.colab import drive\n",
        "%cd /content\n",
        "drive.mount('/content/drive', force_remount=True)\n",
        "%cd 'drive/My Drive/Colab Notebooks/NLP/project/code'\n",
        "%ls -l\n",
        "print(os.listdir())"
      ],
      "execution_count": 1,
      "outputs": [
        {
          "output_type": "stream",
          "text": [
            "/content\n",
            "Mounted at /content/drive\n",
            "/content/drive/My Drive/Colab Notebooks/NLP/project/code\n",
            "total 3368\n",
            "-rw------- 1 root root 109039 May 10 14:28 Benchmark_embeddings_advanced.ipynb\n",
            "-rw------- 1 root root 129633 May 14 12:31 Benchmark_embeddings.ipynb\n",
            "-rw------- 1 root root   3534 Apr 22 16:32 cleaning.py\n",
            "-rw------- 1 root root  60561 May  9 16:14 combine_features.ipynb\n",
            "-rw------- 1 root root   4341 May 13 18:02 compute_embeddings.py\n",
            "-rw------- 1 root root  68923 May 14 09:05 LSTM_model.ipynb\n",
            "-rw------- 1 root root 363996 May  9 10:48 master.zip\n",
            "-rw------- 1 root root 363996 May  9 10:49 master.zip.1\n",
            "-rw------- 1 root root 363996 May  9 10:51 master.zip.2\n",
            "-rw------- 1 root root   4350 May 14 10:55 modeling.py\n",
            "drwx------ 2 root root   4096 May 14 11:19 \u001b[0m\u001b[01;34m__pycache__\u001b[0m/\n",
            "-rw------- 1 root root  21800 Apr 25 09:06 pytorch_tuto.ipynb\n",
            "drwx------ 2 root root   4096 May  1 16:25 \u001b[01;34msent2vec-master\u001b[0m/\n",
            "-rw------- 1 root root 926824 May 10 10:38 test.h5\n",
            "-rw------- 1 root root   4912 May 13 18:58 transform_dataset.py\n",
            "-rw------- 1 root root 808814 May  4 08:33 Untitled0.ipynb\n",
            "-rw------- 1 root root  22808 Apr 22 16:46 Untitled.ipynb\n",
            "-rw------- 1 root root   3545 Apr 22 16:32 utils_cleaning.py\n",
            "-rw------- 1 root root  21429 May  7 07:34 Vincent_doc2vec.ipynb\n",
            "-rw------- 1 root root  20152 Apr 25 16:47 Vincent.ipynb\n",
            "-rw------- 1 root root  83265 May  3 09:32 Vincent_SBERT.ipynb\n",
            "-rw------- 1 root root  50693 May  4 13:15 Vincent_tfidf.ipynb\n",
            "['cleaning.py', 'utils_cleaning.py', 'Untitled.ipynb', '.ipynb_checkpoints', 'pytorch_tuto.ipynb', '.vector_cache', 'Vincent.ipynb', 'sent2vec-master', 'Vincent_SBERT.ipynb', '__pycache__', 'Untitled0.ipynb', 'Vincent_tfidf.ipynb', 'Vincent_doc2vec.ipynb', 'master.zip', 'master.zip.1', 'master.zip.2', 'combine_features.ipynb', 'test.h5', 'Benchmark_embeddings_advanced.ipynb', 'compute_embeddings.py', 'transform_dataset.py', 'LSTM_model.ipynb', 'Benchmark_embeddings.ipynb', 'modeling.py']\n"
          ],
          "name": "stdout"
        }
      ]
    },
    {
      "cell_type": "code",
      "metadata": {
        "id": "oSJcXAMKtYbd",
        "colab_type": "code",
        "outputId": "2f4e5aef-a3d4-4fd5-c242-810f88b99491",
        "colab": {
          "base_uri": "https://localhost:8080/",
          "height": 454
        }
      },
      "source": [
        "!pip install gensim==3.8.0"
      ],
      "execution_count": 2,
      "outputs": [
        {
          "output_type": "stream",
          "text": [
            "Collecting gensim==3.8.0\n",
            "\u001b[?25l  Downloading https://files.pythonhosted.org/packages/40/3d/89b27573f56abcd1b8c9598b240f53c45a3c79aa0924a24588e99716043b/gensim-3.8.0-cp36-cp36m-manylinux1_x86_64.whl (24.2MB)\n",
            "\u001b[K     |████████████████████████████████| 24.2MB 130kB/s \n",
            "\u001b[?25hRequirement already satisfied: scipy>=0.18.1 in /usr/local/lib/python3.6/dist-packages (from gensim==3.8.0) (1.4.1)\n",
            "Requirement already satisfied: numpy>=1.11.3 in /usr/local/lib/python3.6/dist-packages (from gensim==3.8.0) (1.18.4)\n",
            "Requirement already satisfied: six>=1.5.0 in /usr/local/lib/python3.6/dist-packages (from gensim==3.8.0) (1.12.0)\n",
            "Requirement already satisfied: smart-open>=1.7.0 in /usr/local/lib/python3.6/dist-packages (from gensim==3.8.0) (2.0.0)\n",
            "Requirement already satisfied: boto3 in /usr/local/lib/python3.6/dist-packages (from smart-open>=1.7.0->gensim==3.8.0) (1.13.4)\n",
            "Requirement already satisfied: requests in /usr/local/lib/python3.6/dist-packages (from smart-open>=1.7.0->gensim==3.8.0) (2.23.0)\n",
            "Requirement already satisfied: boto in /usr/local/lib/python3.6/dist-packages (from smart-open>=1.7.0->gensim==3.8.0) (2.49.0)\n",
            "Requirement already satisfied: jmespath<1.0.0,>=0.7.1 in /usr/local/lib/python3.6/dist-packages (from boto3->smart-open>=1.7.0->gensim==3.8.0) (0.9.5)\n",
            "Requirement already satisfied: s3transfer<0.4.0,>=0.3.0 in /usr/local/lib/python3.6/dist-packages (from boto3->smart-open>=1.7.0->gensim==3.8.0) (0.3.3)\n",
            "Requirement already satisfied: botocore<1.17.0,>=1.16.4 in /usr/local/lib/python3.6/dist-packages (from boto3->smart-open>=1.7.0->gensim==3.8.0) (1.16.4)\n",
            "Requirement already satisfied: chardet<4,>=3.0.2 in /usr/local/lib/python3.6/dist-packages (from requests->smart-open>=1.7.0->gensim==3.8.0) (3.0.4)\n",
            "Requirement already satisfied: certifi>=2017.4.17 in /usr/local/lib/python3.6/dist-packages (from requests->smart-open>=1.7.0->gensim==3.8.0) (2020.4.5.1)\n",
            "Requirement already satisfied: idna<3,>=2.5 in /usr/local/lib/python3.6/dist-packages (from requests->smart-open>=1.7.0->gensim==3.8.0) (2.9)\n",
            "Requirement already satisfied: urllib3!=1.25.0,!=1.25.1,<1.26,>=1.21.1 in /usr/local/lib/python3.6/dist-packages (from requests->smart-open>=1.7.0->gensim==3.8.0) (1.24.3)\n",
            "Requirement already satisfied: python-dateutil<3.0.0,>=2.1 in /usr/local/lib/python3.6/dist-packages (from botocore<1.17.0,>=1.16.4->boto3->smart-open>=1.7.0->gensim==3.8.0) (2.8.1)\n",
            "Requirement already satisfied: docutils<0.16,>=0.10 in /usr/local/lib/python3.6/dist-packages (from botocore<1.17.0,>=1.16.4->boto3->smart-open>=1.7.0->gensim==3.8.0) (0.15.2)\n",
            "Installing collected packages: gensim\n",
            "  Found existing installation: gensim 3.6.0\n",
            "    Uninstalling gensim-3.6.0:\n",
            "      Successfully uninstalled gensim-3.6.0\n",
            "Successfully installed gensim-3.8.0\n"
          ],
          "name": "stdout"
        }
      ]
    },
    {
      "cell_type": "code",
      "metadata": {
        "id": "h8ShhJHdIYcB",
        "colab_type": "code",
        "outputId": "ea1443ca-9604-4794-9509-fa776519f0d6",
        "colab": {
          "base_uri": "https://localhost:8080/",
          "height": 139
        }
      },
      "source": [
        "import pandas as pd\n",
        "import numpy as np\n",
        "import random\n",
        "import re\n",
        "import time\n",
        "from string import punctuation\n",
        "import scipy.io\n",
        "import matplotlib.pyplot as plt\n",
        "\n",
        "import nltk\n",
        "import scipy.sparse as sp\n",
        "import gensim\n",
        "# import nltk\n",
        "# from nltk.corpus import stopwords\n",
        "# nltk.download('stopwords')\n",
        "# from nltk.stem import SnowballStemmer\n",
        "# nltk.download('punkt')\n",
        "# from nltk.stem import WordNetLemmatizer \n",
        "# nltk.download('wordnet')\n",
        "\n",
        "# from gensim.test.utils import datapath, get_tmpfile\n",
        "# from gensim.models import KeyedVectors\n",
        "# from gensim.scripts.glove2word2vec import glove2word2vec\n",
        "\n",
        "import torch\n",
        "import torch.nn as nn\n",
        "from torchtext.data import Field, LabelField, TabularDataset, Iterator, BucketIterator\n",
        "from torchtext import vocab\n",
        "import torch.optim as optim\n",
        "\n",
        "import transform_dataset\n",
        "import compute_embeddings\n",
        "import modeling\n",
        "\n",
        "import pickle\n",
        "\n",
        "def save_pickle(filename, reviews_tokenized):\n",
        "  with open(filename, 'wb') as f:\n",
        "    pickle.dump(reviews_tokenized, f)\n",
        "\n",
        "def load_pickle(filename):\n",
        "  with open(filename, 'rb') as f:\n",
        "    x = pickle.load(f)\n",
        "  return x\n",
        "\n",
        "print(gensim.__version__)"
      ],
      "execution_count": 2,
      "outputs": [
        {
          "output_type": "stream",
          "text": [
            "[nltk_data] Downloading package punkt to /root/nltk_data...\n",
            "[nltk_data]   Package punkt is already up-to-date!\n",
            "[nltk_data] Downloading package wordnet to /root/nltk_data...\n",
            "[nltk_data]   Package wordnet is already up-to-date!\n",
            "[nltk_data] Downloading package stopwords to /root/nltk_data...\n",
            "[nltk_data]   Package stopwords is already up-to-date!\n",
            "3.8.0\n"
          ],
          "name": "stdout"
        }
      ]
    },
    {
      "cell_type": "code",
      "metadata": {
        "id": "K5zwREwLO8x6",
        "colab_type": "code",
        "colab": {}
      },
      "source": [
        "# import numpy as np\n",
        "\n",
        "# import xgboost as xgb\n",
        "\n",
        "# import tensorflow\n",
        "# import tensorflow.keras as keras\n",
        "# from tensorflow.keras import layers\n",
        "\n",
        "# from sklearn.base import clone\n",
        "# from sklearn.linear_model import LogisticRegression\n",
        "# from sklearn.model_selection import train_test_split\n",
        "# from sklearn.metrics import log_loss, accuracy_score, f1_score, precision_score, recall_score\n",
        "# from sklearn.pipeline import Pipeline\n",
        "# from sklearn.multiclass import OneVsRestClassifier\n",
        "\n",
        "# def get_simple_nn_model(input_dim, hidden_sizes=[32, 16, 8]):\n",
        "#   model = keras.Sequential()\n",
        "#   for i, hidden in enumerate(hidden_sizes):\n",
        "#     if i==0:\n",
        "#       model.add(layers.Dense(hidden, activation='relu', input_shape=(input_dim, )))\n",
        "#     else:\n",
        "#       model.add(layers.Dense(hidden, activation='relu'))\n",
        "#   model.add(layers.Dense(1, activation='sigmoid'))\n",
        "\n",
        "#   model.compile(loss='binary_crossentropy', optimizer='adam', metrics=['binary_crossentropy', 'accuracy'])\n",
        "\n",
        "#   return model\n",
        "\n",
        "# def model_efficiency(embs, labels, model=LogisticRegression(), validation=False, reinitialize=True, **params):\n",
        "#   X_train, X_valid, y_train, y_valid = train_test_split(embs, labels, train_size = 0.7, random_state=42, shuffle=True, stratify=labels)\n",
        "  \n",
        "#   y_train, y_valid = np.array(y_train), np.array(y_valid)\n",
        "  \n",
        "#   if issubclass(type(model), (tensorflow.python.keras.engine.sequential.Sequential, tensorflow.keras.Model)):\n",
        "#       params['validation_data'] = (X_valid, y_valid)\n",
        "\n",
        "#   if reinitialize:\n",
        "#     if issubclass(type(model), (tensorflow.python.keras.engine.sequential.Sequential, tensorflow.keras.Model)):\n",
        "#       model_copy = keras.models.clone_model(model)\n",
        "#       model_copy.build((None, model.input.shape))\n",
        "#       model_copy.compile(loss='binary_crossentropy', optimizer='adam', metrics=['binary_crossentropy', 'accuracy'])\n",
        "#       model = model_copy\n",
        "#     else:\n",
        "#         try:\n",
        "#             model = clone(model)\n",
        "#         except Exception:\n",
        "#             print('model not reinitialized')\n",
        "#             pass\n",
        "      \n",
        "#   model.fit(X_train, y_train, **params)\n",
        "  \n",
        "#   if hasattr(model, 'predict_proba'):\n",
        "#       proba_predictions_train = model.predict_proba(X_train)\n",
        "#       proba_predictions_valid = model.predict_proba(X_valid)\n",
        "#   else:\n",
        "#       proba_predictions_train = model.predict(X_train)\n",
        "#       proba_predictions_valid = model.predict(X_valid)\n",
        "          \n",
        "#   if proba_predictions_train.shape[1]==2:\n",
        "#       predictions_train = proba_predictions_train.argmax(axis=1)\n",
        "#       predictions_valid = proba_predictions_valid.argmax(axis=1)\n",
        "#   else:\n",
        "#       predictions_train = proba_predictions_train >= 0.5\n",
        "#       predictions_valid = proba_predictions_valid >= 0.5\n",
        "\n",
        "#   loss_train = log_loss(y_train, proba_predictions_train)\n",
        "#   loss_valid = log_loss(y_valid, proba_predictions_valid)\n",
        "\n",
        "#   accuracy_train = accuracy_score(y_train, predictions_train)\n",
        "#   accuracy_valid = accuracy_score(y_valid, predictions_valid)\n",
        "\n",
        "#   f1_train = f1_score(y_train, predictions_train)\n",
        "#   f1_valid = f1_score(y_valid, predictions_valid)\n",
        "\n",
        "#   return {'loss':np.round(loss_train,2), 'accuracy':np.round(accuracy_train,2), 'f1':np.round(f1_train,2)}, \\\n",
        "#          {'loss':np.round(loss_valid,2), 'accuracy':np.round(accuracy_valid,2), 'f1':np.round(f1_valid,2)}\n",
        "         \n",
        "         \n",
        "# def model_efficiency_xgb(embs, labels, params={'objective':'binary:logistic', 'eval_metric':'logloss', 'eta':0.02, 'max_depth':4}):\n",
        "\n",
        "#   X_train, X_valid, y_train, y_valid = train_test_split(embs, labels, train_size = 0.7, random_state=42, shuffle=True, stratify=labels)\n",
        "\n",
        "#   d_train = xgb.DMatrix(X_train, label=y_train)\n",
        "#   d_valid = xgb.DMatrix(X_valid, label=y_valid)\n",
        "#   watchlist = [(d_train, 'train'), (d_valid, 'valid')]\n",
        "\n",
        "#   model = xgb.train(params, d_train, 400, watchlist, early_stopping_rounds=50, verbose_eval=10)\n",
        "\n",
        "#   proba_predictions_train = model.predict(d_train)\n",
        "#   proba_predictions_valid = model.predict(d_valid)\n",
        "\n",
        "#   predictions_train = proba_predictions_train >= 0.5\n",
        "#   predictions_valid = proba_predictions_valid >= 0.5\n",
        "\n",
        "#   loss_train = log_loss(y_train, proba_predictions_train)\n",
        "#   loss_valid = log_loss(y_valid, proba_predictions_valid)\n",
        "\n",
        "#   accuracy_train = accuracy_score(y_train, predictions_train)\n",
        "#   accuracy_valid = accuracy_score(y_valid, predictions_valid)\n",
        "\n",
        "#   f1_train = f1_score(y_train, predictions_train)\n",
        "#   f1_valid = f1_score(y_valid, predictions_valid)\n",
        "\n",
        "#   return {'loss':np.round(loss_train,2), 'accuracy':np.round(accuracy_train,2), 'f1':np.round(f1_train,2)}, \\\n",
        "#          {'loss':np.round(loss_valid,2), 'accuracy':np.round(accuracy_valid,2), 'f1':np.round(f1_valid,2)}"
      ],
      "execution_count": 0,
      "outputs": []
    },
    {
      "cell_type": "code",
      "metadata": {
        "id": "yKpZVaEAwCs5",
        "colab_type": "code",
        "colab": {}
      },
      "source": [
        "questions1, questions2, is_duplicates = transform_dataset.clean_quora()\n",
        "\n",
        "# use this for tokenizer approach\n",
        "cleaned_questions1, cleaned_questions2, cleaned_is_duplicates = transform_dataset.clean_quora(output='tokenized_list')"
      ],
      "execution_count": 0,
      "outputs": []
    },
    {
      "cell_type": "code",
      "metadata": {
        "id": "AXR8f1FG111f",
        "colab_type": "code",
        "colab": {}
      },
      "source": [
        "# pytorch loader\n",
        "# iterator = transform_dataset.clean_quora(output = 'iterator_from_file')"
      ],
      "execution_count": 0,
      "outputs": []
    },
    {
      "cell_type": "markdown",
      "metadata": {
        "id": "uBBYi-X9iRXW",
        "colab_type": "text"
      },
      "source": [
        "# Transformation: a small comparison\n",
        "\n",
        "We check to what extend the tokenizations are efficient"
      ]
    },
    {
      "cell_type": "code",
      "metadata": {
        "id": "YEVBM2idZ7Mi",
        "colab_type": "code",
        "colab": {}
      },
      "source": [
        "def tokenizer1(x):\n",
        "  return transform_dataset.apply_all(x, transform_dataset.preprocessing_factory(filter(lambda x: x!='nothing', ['xml', 'punct', 'advToken'])))\n",
        "\n",
        "def tokenizer2(x):\n",
        "  return transform_dataset.apply_all(x, transform_dataset.preprocessing_factory(filter(lambda x: x!='nothing', ['xml', 'punct', 'simpleToken', 'stopwords', 'lemming'])))"
      ],
      "execution_count": 0,
      "outputs": []
    },
    {
      "cell_type": "code",
      "metadata": {
        "id": "CYvvA9iIZ7Qc",
        "colab_type": "code",
        "outputId": "bcc150c4-e56d-4f2c-a12a-99399bc8c227",
        "colab": {
          "base_uri": "https://localhost:8080/",
          "height": 72
        }
      },
      "source": [
        "cleaned_questions1_1, cleaned_questions2_1, _ = transform_dataset.clean_quora(output='tokenized_list', tokenizer = tokenizer1)\n",
        "cleaned_questions1_2, cleaned_questions2_2, _ = transform_dataset.clean_quora(output='tokenized_list', tokenizer = tokenizer2)"
      ],
      "execution_count": 0,
      "outputs": [
        {
          "output_type": "stream",
          "text": [
            "/usr/local/lib/python3.6/dist-packages/bs4/__init__.py:273: UserWarning: \"b'.'\" looks like a filename, not markup. You should probably open this file and pass the filehandle into Beautiful Soup.\n",
            "  ' Beautiful Soup.' % markup)\n"
          ],
          "name": "stderr"
        }
      ]
    },
    {
      "cell_type": "code",
      "metadata": {
        "id": "u_11Hpq8ae8Q",
        "colab_type": "code",
        "outputId": "afdf3f3f-ce22-4cbb-cdbc-5cb39cddb342",
        "colab": {
          "base_uri": "https://localhost:8080/",
          "height": 89
        }
      },
      "source": [
        "import gensim.downloader as api\n",
        "wv = api.load('word2vec-google-news-300')"
      ],
      "execution_count": 0,
      "outputs": [
        {
          "output_type": "stream",
          "text": [
            "[=================================================-] 99.6% 1656.6/1662.8MB downloaded\n"
          ],
          "name": "stdout"
        },
        {
          "output_type": "stream",
          "text": [
            "/usr/local/lib/python3.6/dist-packages/smart_open/smart_open_lib.py:253: UserWarning: This function is deprecated, use smart_open.open instead. See the migration notes for details: https://github.com/RaRe-Technologies/smart_open/blob/master/README.rst#migrating-to-the-new-open-function\n",
            "  'See the migration notes for details: %s' % _MIGRATION_NOTES_URL\n"
          ],
          "name": "stderr"
        }
      ]
    },
    {
      "cell_type": "code",
      "metadata": {
        "id": "314pttEyajm-",
        "colab_type": "code",
        "colab": {}
      },
      "source": [
        "perc = {}\n",
        "diff = {}\n",
        "\n",
        "cleaned_questions1, cleaned_questions2\n",
        "perc['tokenizer'] = transform_dataset.common_percentage(cleaned_questions1 + cleaned_questions2, wv.vocab)\n",
        "diff['tokenizer'] = transform_dataset.check_difference(cleaned_questions1 + cleaned_questions2, wv.vocab)\n",
        "\n",
        "perc['tokenizer1'] = transform_dataset.common_percentage(cleaned_questions1_1 + cleaned_questions2_1, wv.vocab)\n",
        "diff['tokenizer1'] = transform_dataset.check_difference(cleaned_questions1_1 + cleaned_questions2_1, wv.vocab)\n",
        "\n",
        "perc['tokenizer2'] = transform_dataset.common_percentage(cleaned_questions1_2 + cleaned_questions2_2, wv.vocab)\n",
        "diff['tokenizer2'] = transform_dataset.check_difference(cleaned_questions1_2 + cleaned_questions2_2, wv.vocab)"
      ],
      "execution_count": 0,
      "outputs": []
    },
    {
      "cell_type": "code",
      "metadata": {
        "id": "HBhhtk6wi4sR",
        "colab_type": "code",
        "outputId": "388d10b7-9e9a-40a7-8fcb-619394829147",
        "colab": {
          "base_uri": "https://localhost:8080/",
          "height": 577
        }
      },
      "source": [
        "plt.bar(*zip(*list({k:1-v for k,v in perc.items()}.items())))\n",
        "plt.ylabel('ratio of unrecognized \\nunique tokens in word2vec vocabulary')\n",
        "plt.tight_layout()\n",
        "plt.savefig('../images/{}.png'.format('ratio_unrecognized'))\n",
        "plt.show()\n",
        "\n",
        "plt.bar(*zip(*list({k:len(v) for k,v in diff.items()}.items())))\n",
        "plt.ylabel('total number of tokens \\nnot recognized in word2vec vocabulary')\n",
        "plt.tight_layout()\n",
        "plt.savefig('../images/{}.png'.format('total_number_unrecognized'))\n",
        "plt.show()"
      ],
      "execution_count": 0,
      "outputs": [
        {
          "output_type": "display_data",
          "data": {
            "image/png": "[encoded data removed]",
            "text/plain": [
              "<Figure size 432x288 with 1 Axes>"
            ]
          },
          "metadata": {
            "tags": [],
            "needs_background": "light"
          }
        },
        {
          "output_type": "display_data",
          "data": {
            "image/png": "[encoded data removed]",
            "text/plain": [
              "<Figure size 432x288 with 1 Axes>"
            ]
          },
          "metadata": {
            "tags": [],
            "needs_background": "light"
          }
        }
      ]
    },
    {
      "cell_type": "markdown",
      "metadata": {
        "id": "XGzVD3-okSeA",
        "colab_type": "text"
      },
      "source": [
        "We see that depending on the preprocessing, there can be a big difference in the number of words that are recognized in the pretrained embeddings"
      ]
    },
    {
      "cell_type": "markdown",
      "metadata": {
        "id": "BAzE4PlD-d8w",
        "colab_type": "text"
      },
      "source": [
        "# Benchmark"
      ]
    },
    {
      "cell_type": "code",
      "metadata": {
        "id": "mxG24E0ymdib",
        "colab_type": "code",
        "colab": {}
      },
      "source": [
        "# use this for tokenizer2 preprocessing\n",
        "def tokenizer2(x):\n",
        "  return transform_dataset.apply_all(x, transform_dataset.preprocessing_factory(filter(lambda x: x!='nothing', ['xml', 'punct', 'simpleToken', 'stopwords', 'lemming'])))\n",
        "  \n",
        "cleaned_questions1, cleaned_questions2, cleaned_is_duplicates = transform_dataset.clean_quora(output='tokenized_list', tokenizer = tokenizer2)"
      ],
      "execution_count": 0,
      "outputs": []
    },
    {
      "cell_type": "code",
      "metadata": {
        "id": "NwTTRczrf_ax",
        "colab_type": "code",
        "colab": {}
      },
      "source": [
        "# loading/saving if necessary\n",
        "\n",
        "# save_pickle('../data/tokenizer2_questions1', cleaned_questions1)\n",
        "# save_pickle('../data/tokenizer2_questions2', cleaned_questions2)\n",
        "\n",
        "# cleaned_questions1 = load_pickle('../data/tokenizer2_questions1')\n",
        "# cleaned_questions2 = load_pickle('../data/tokenizer2_questions2')"
      ],
      "execution_count": 0,
      "outputs": []
    },
    {
      "cell_type": "code",
      "metadata": {
        "id": "fhR3w90Q-gO4",
        "colab_type": "code",
        "colab": {}
      },
      "source": [
        "# load results, if necessary\n",
        "\n",
        "processing_time = {}\n",
        "metrics_train = {}\n",
        "metrics_train_nn = {}\n",
        "\n",
        "metrics_valid = {}\n",
        "metrics_valid_nn = {}\n",
        "\n",
        "# -----------------------------------------------------------------------\n",
        "# Tokenizer processing\n",
        "\n",
        "# processing_time = {'doc2vec': 682.49, 'sent2vec': 9.01, 'SIF': 18.9, 'SBERT': 3550.54, 'Count': 6.78, 'TFIDF': 6.84}\n",
        "\n",
        "# metrics_train['doc2vec'] = {'loss': 0.54, 'accuracy': 0.71, 'f1': 0.57}\n",
        "# metrics_valid['doc2vec'] = {'loss': 0.54, 'accuracy': 0.71, 'f1': 0.57}\n",
        "# metrics_train_nn['doc2vec'] = {'loss': 0.47, 'accuracy': 0.76, 'f1': 0.68}\n",
        "# metrics_valid_nn['doc2vec'] = {'loss': 0.49, 'accuracy': 0.74, 'f1': 0.66}\n",
        "\n",
        "# metrics_train['sent2vec'] = {'loss': 0.54, 'accuracy': 0.73, 'f1': 0.58}\n",
        "# metrics_valid['sent2vec'] = {'loss': 0.54, 'accuracy': 0.73, 'f1': 0.58}\n",
        "# metrics_train_nn['sent2vec'] = {'loss': 0.39, 'accuracy': 0.81, 'f1': 0.74}\n",
        "# metrics_valid_nn['sent2vec'] = {'loss': 0.45, 'accuracy': 0.78, 'f1': 0.69}\n",
        "\n",
        "# metrics_train['SBERT'] = {'loss': 0.41, 'accuracy': 0.81, 'f1': 0.73}\n",
        "# metrics_valid['SBERT'] = {'loss': 0.42, 'accuracy': 0.8, 'f1': 0.73}\n",
        "# metrics_train_nn['SBERT'] = {'loss': 0.34, 'accuracy': 0.84, 'f1': 0.79}\n",
        "# metrics_valid_nn['SBERT'] = {'loss': 0.37, 'accuracy': 0.83, 'f1': 0.77}\n",
        "\n",
        "# metrics_train['SIF'] = {'loss': 0.6, 'accuracy': 0.69, 'f1': 0.47}\n",
        "# metrics_valid['SIF'] = {'loss': 0.59, 'accuracy': 0.69, 'f1': 0.47}\n",
        "# metrics_train_nn['SIF'] = {'loss': 0.54, 'accuracy': 0.66, 'f1': 0.57}\n",
        "# metrics_valid_nn['SIF'] = {'loss': 0.54, 'accuracy': 0.66, 'f1': 0.57}\n",
        "\n",
        "# metrics_train['Count'] = {'loss': 0.63, 'accuracy': 0.63, 'f1': 0.01}\n",
        "# metrics_valid['Count'] = {'loss': 0.63, 'accuracy': 0.63, 'f1': 0.01}\n",
        "# metrics_train_nn['Count'] = {'loss': 0.54, 'accuracy': 0.71, 'f1': 0.51}\n",
        "# metrics_valid_nn['Count'] = {'loss': 0.54, 'accuracy': 0.71, 'f1': 0.51}\n",
        "\n",
        "# metrics_train['TFIDF'] = {'loss': 0.63, 'accuracy': 0.63, 'f1': 0.01}\n",
        "# metrics_valid['TFIDF'] = {'loss': 0.63, 'accuracy': 0.63, 'f1': 0.01}\n",
        "# metrics_train_nn['TFIDF'] = {'loss': 0.55, 'accuracy': 0.71, 'f1': 0.5}\n",
        "# metrics_valid_nn['TFIDF'] = {'loss': 0.55, 'accuracy': 0.71, 'f1': 0.5}\n",
        "\n",
        "# metrics_train['Count+TFIDF'] = {'loss': 0.56, 'accuracy': 0.65, 'f1': 0.48}\n",
        "# metrics_valid['Count+TFIDF'] = {'loss': 0.56, 'accuracy': 0.65, 'f1': 0.49}\n",
        "# metrics_train_nn['Count+TFIDF'] = {'loss': 0.52, 'accuracy': 0.67, 'f1': 0.61}\n",
        "# metrics_valid_nn['Count+TFIDF'] = {'loss': 0.52, 'accuracy': 0.67, 'f1': 0.61}\n",
        "\n",
        "# -----------------------------------------------------------------------\n",
        "# Tokenizer2 processing\n",
        "\n",
        "processing_time = {'doc2vec': 618.72, 'sent2vec': 7.81, 'SIF': 3.68, 'SBERT': 3550.54, 'Count': 6.44, 'TFIDF': 6.21}\n",
        "\n",
        "metrics_train['doc2vec'] = {'loss': 0.54, 'accuracy': 0.71, 'f1': 0.57}\n",
        "metrics_valid['doc2vec'] = {'loss': 0.54, 'accuracy': 0.71, 'f1': 0.57}\n",
        "metrics_train_nn['doc2vec'] = {'loss': 0.34, 'accuracy': 0.84, 'f1': 0.8}\n",
        "metrics_valid_nn['doc2vec'] = {'loss': 0.37, 'accuracy': 0.83, 'f1': 0.78}\n",
        "\n",
        "metrics_train['sent2vec'] = {'loss': 0.56, 'accuracy': 0.72, 'f1': 0.56}\n",
        "metrics_valid['sent2vec'] = {'loss': 0.56, 'accuracy': 0.72, 'f1': 0.56}\n",
        "metrics_train_nn['sent2vec'] = {'loss': 0.35, 'accuracy': 0.84, 'f1': 0.77}\n",
        "metrics_valid_nn['sent2vec'] = {'loss': 0.38, 'accuracy': 0.83, 'f1': 0.76}\n",
        "\n",
        "metrics_train['SBERT'] = {'loss': 0.41, 'accuracy': 0.81, 'f1': 0.73}\n",
        "metrics_valid['SBERT'] = {'loss': 0.42, 'accuracy': 0.8, 'f1': 0.73}\n",
        "metrics_train_nn['SBERT'] = {'loss': 0.34, 'accuracy': 0.84, 'f1': 0.79}\n",
        "metrics_valid_nn['SBERT'] = {'loss': 0.37, 'accuracy': 0.83, 'f1': 0.77}\n",
        "\n",
        "metrics_train['SIF'] = {'loss': 0.6, 'accuracy': 0.69, 'f1': 0.47}\n",
        "metrics_valid['SIF'] = {'loss': 0.59, 'accuracy': 0.69, 'f1': 0.47}\n",
        "metrics_train_nn['SIF'] = {'loss': 0.49, 'accuracy': 0.75, 'f1': 0.65}\n",
        "metrics_valid_nn['SIF'] = {'loss': 0.51, 'accuracy': 0.74, 'f1': 0.64}\n",
        "\n",
        "metrics_train['Count'] = {'loss': 0.63, 'accuracy': 0.63, 'f1': 0.0}\n",
        "metrics_valid['Count'] = {'loss': 0.63, 'accuracy': 0.63, 'f1': 0.0}\n",
        "metrics_train_nn['Count'] = {'loss': 0.56, 'accuracy': 0.7, 'f1': 0.45}\n",
        "metrics_valid_nn['Count'] = {'loss': 0.56, 'accuracy': 0.7, 'f1': 0.45}\n",
        "\n",
        "metrics_train['TFIDF'] = {'loss': 0.63, 'accuracy': 0.63, 'f1': 0.0}\n",
        "metrics_valid['TFIDF'] = {'loss': 0.63, 'accuracy': 0.63, 'f1': 0.0}\n",
        "metrics_train_nn['TFIDF'] = {'loss': 0.55, 'accuracy': 0.71, 'f1': 0.51}\n",
        "metrics_valid_nn['TFIDF'] = {'loss': 0.55, 'accuracy': 0.71, 'f1': 0.51}\n",
        "\n",
        "metrics_train['Count+TFIDF'] = {'loss': 0.57, 'accuracy': 0.66, 'f1': 0.5}\n",
        "metrics_valid['Count+TFIDF'] = {'loss': 0.57, 'accuracy': 0.66, 'f1': 0.5}\n",
        "metrics_train_nn['Count+TFIDF'] = {'loss': 0.54, 'accuracy': 0.67, 'f1': 0.55}\n",
        "metrics_valid_nn['Count+TFIDF'] = {'loss': 0.54, 'accuracy': 0.67, 'f1': 0.55}"
      ],
      "execution_count": 0,
      "outputs": []
    },
    {
      "cell_type": "markdown",
      "metadata": {
        "id": "d7sKiK7UMysy",
        "colab_type": "text"
      },
      "source": [
        "# Doc2Vec\n",
        "\n",
        "### library reference\n",
        "- https://radimrehurek.com/gensim/models/doc2vec.html\n",
        "\n",
        "### pre-trained embeddings\n",
        "- https://wikipedia2vec.github.io/wikipedia2vec/pretrained/\n",
        "\n",
        "Download enwiki_20180420 (window=5, iteration=10, negative=15), 300d and put it in the embeddings repository\n"
      ]
    },
    {
      "cell_type": "code",
      "metadata": {
        "id": "vtJIMYkI4kNZ",
        "colab_type": "code",
        "colab": {}
      },
      "source": [
        "# adapt the path if needed\n",
        "# model = compute_embeddings.Doc2Vec_model('../../../stage/embeddings/doc2vec/enwiki_dbow/doc2vec.bin')\n",
        "model = compute_embeddings.Doc2Vec_model('../embeddings/doc2vec/enwiki_dbow/doc2vec.bin')\n",
        "model.load_model()"
      ],
      "execution_count": 0,
      "outputs": []
    },
    {
      "cell_type": "code",
      "metadata": {
        "id": "tsQNXnF66LdC",
        "colab_type": "code",
        "colab": {}
      },
      "source": [
        "%%time\n",
        "start_time = time.time()\n",
        "embs1 = model.calculate_embeddings(cleaned_questions1)\n",
        "embs2 = model.calculate_embeddings(cleaned_questions2)\n",
        "\n",
        "end_time = time.time()\n",
        "processing_time['doc2vec'] = np.round(end_time-start_time,2)"
      ],
      "execution_count": 0,
      "outputs": []
    },
    {
      "cell_type": "code",
      "metadata": {
        "id": "bP2hz73w6uom",
        "colab_type": "code",
        "colab": {}
      },
      "source": [
        "# np.save('../data/doc2vec_embeddings1.npy', embs1)\n",
        "# np.save('../data/doc2vec_embeddings2.npy', embs2)\n",
        "\n",
        "# embs1 = np.load('../data/doc2vec_embeddings1.npy')\n",
        "# embs2 = np.load('../data/doc2vec_embeddings2.npy')"
      ],
      "execution_count": 0,
      "outputs": []
    },
    {
      "cell_type": "code",
      "metadata": {
        "id": "EFJRZsGFp6lH",
        "colab_type": "code",
        "colab": {
          "base_uri": "https://localhost:8080/",
          "height": 191
        },
        "outputId": "f6aedb6a-935c-4b85-8a7f-3ab9395d245f"
      },
      "source": [
        "features = np.concatenate((embs1, embs2, np.abs(embs2-embs1)), axis=1)\n",
        "metric_train, metric_valid = modeling.model_efficiency(features, is_duplicates)\n",
        "metrics_train['doc2vec'] = metric_train\n",
        "metrics_valid['doc2vec'] = metric_valid\n",
        "print(metric_train)\n",
        "print(metric_valid)"
      ],
      "execution_count": 79,
      "outputs": [
        {
          "output_type": "stream",
          "text": [
            "/usr/local/lib/python3.6/dist-packages/sklearn/linear_model/_logistic.py:940: ConvergenceWarning: lbfgs failed to converge (status=1):\n",
            "STOP: TOTAL NO. of ITERATIONS REACHED LIMIT.\n",
            "\n",
            "Increase the number of iterations (max_iter) or scale the data as shown in:\n",
            "    https://scikit-learn.org/stable/modules/preprocessing.html\n",
            "Please also refer to the documentation for alternative solver options:\n",
            "    https://scikit-learn.org/stable/modules/linear_model.html#logistic-regression\n",
            "  extra_warning_msg=_LOGISTIC_SOLVER_CONVERGENCE_MSG)\n"
          ],
          "name": "stderr"
        },
        {
          "output_type": "stream",
          "text": [
            "{'loss': 0.54, 'accuracy': 0.71, 'f1': 0.57}\n",
            "{'loss': 0.54, 'accuracy': 0.71, 'f1': 0.57}\n"
          ],
          "name": "stdout"
        }
      ]
    },
    {
      "cell_type": "code",
      "metadata": {
        "id": "RoYwaV3Ymf9p",
        "colab_type": "code",
        "colab": {
          "base_uri": "https://localhost:8080/",
          "height": 245
        },
        "outputId": "f7dd9e36-28be-4798-d0d6-f17fff7c328b"
      },
      "source": [
        "# features = np.concatenate((embs1, embs2, np.abs(embs2-embs1)), axis=1)\n",
        "model = modeling.get_simple_nn_model(features.shape[1], hidden_sizes=[32, 16, 8])\n",
        "metric_train, metric_valid = modeling.model_efficiency(features, is_duplicates, model=model, epochs=5, batch_size=64)\n",
        "# metric_train, metric_valid = model_efficiency(features, is_duplicates, model=model, epochs=5, batch_size=64)\n",
        "metrics_train_nn['doc2vec'] = metric_train\n",
        "metrics_valid_nn['doc2vec'] = metric_valid\n",
        "print(metric_train)\n",
        "print(metric_valid)"
      ],
      "execution_count": 80,
      "outputs": [
        {
          "output_type": "stream",
          "text": [
            "Epoch 1/5\n",
            "4422/4422 [==============================] - 22s 5ms/step - loss: 0.5313 - binary_crossentropy: 0.5313 - accuracy: 0.7097 - val_loss: 0.5118 - val_binary_crossentropy: 0.5118 - val_accuracy: 0.7269\n",
            "Epoch 2/5\n",
            "4422/4422 [==============================] - 21s 5ms/step - loss: 0.5060 - binary_crossentropy: 0.5060 - accuracy: 0.7305 - val_loss: 0.5016 - val_binary_crossentropy: 0.5016 - val_accuracy: 0.7331\n",
            "Epoch 3/5\n",
            "4422/4422 [==============================] - 21s 5ms/step - loss: 0.4949 - binary_crossentropy: 0.4949 - accuracy: 0.7391 - val_loss: 0.4987 - val_binary_crossentropy: 0.4987 - val_accuracy: 0.7358\n",
            "Epoch 4/5\n",
            "4422/4422 [==============================] - 21s 5ms/step - loss: 0.4869 - binary_crossentropy: 0.4869 - accuracy: 0.7457 - val_loss: 0.4925 - val_binary_crossentropy: 0.4925 - val_accuracy: 0.7419\n",
            "Epoch 5/5\n",
            "4422/4422 [==============================] - 21s 5ms/step - loss: 0.4804 - binary_crossentropy: 0.4804 - accuracy: 0.7496 - val_loss: 0.4893 - val_binary_crossentropy: 0.4893 - val_accuracy: 0.7448\n",
            "{'loss': 0.47, 'accuracy': 0.76, 'f1': 0.68}\n",
            "{'loss': 0.49, 'accuracy': 0.74, 'f1': 0.66}\n"
          ],
          "name": "stdout"
        }
      ]
    },
    {
      "cell_type": "code",
      "metadata": {
        "id": "XD76kCI8M5-P",
        "colab_type": "code",
        "outputId": "31ec517d-393e-48dd-b236-d18eece27631",
        "colab": {
          "base_uri": "https://localhost:8080/",
          "height": 282
        }
      },
      "source": [
        "plt.bar(*zip(*processing_time.items()))\n",
        "print(processing_time)"
      ],
      "execution_count": 0,
      "outputs": [
        {
          "output_type": "stream",
          "text": [
            "{'doc2vec': 682.49}\n"
          ],
          "name": "stdout"
        },
        {
          "output_type": "display_data",
          "data": {
            "image/png": "[encoded data removed]",
            "text/plain": [
              "<Figure size 432x288 with 1 Axes>"
            ]
          },
          "metadata": {
            "tags": [],
            "needs_background": "light"
          }
        }
      ]
    },
    {
      "cell_type": "markdown",
      "metadata": {
        "id": "hqhLdd_tM3fh",
        "colab_type": "text"
      },
      "source": [
        "# Sent2Vec\n",
        "\n",
        "### code\n",
        "- https://github.com/epfml/sent2vec\n",
        "- https://github.com/facebookresearch/fastText#models\n",
        "\n",
        "### pretrained embeddings\n",
        "- https://github.com/epfml/sent2vec\n",
        "- https://fasttext.cc/docs/en/english-vectors.html\n",
        "\n",
        "Download sent2vec_toronto_books_unigrams from https://github.com/epfml/sent2vec and put it in the embeddings repository\n",
        "\n",
        "Direct link: https://drive.google.com/file/d/0B6VhzidiLvjSOWdGM0tOX1lUNEk/view"
      ]
    },
    {
      "cell_type": "code",
      "metadata": {
        "id": "hZLxkBWeASD6",
        "colab_type": "code",
        "colab": {
          "base_uri": "https://localhost:8080/",
          "height": 34
        },
        "outputId": "df7905a8-085c-4698-c6ff-fadcbebf6e25"
      },
      "source": [
        "# before continuing, download and put the pretrained embeddings in the path called below: https://drive.google.com/file/d/0B6VhzidiLvjSOWdGM0tOX1lUNEk/view\n",
        "# the code also fires compute_embeddings.download_and_install_git('https://github.com/epfml/sent2vec/archive/master.zip') to download and install the library\n",
        "# !!! the notebook bugs really hard if the embedding is not present\n",
        "\n",
        "# model = compute_embeddings.Sent2Vec('../../../stage/embeddings/sent2vec/sent2vec_toronto_books_unigrams')\n",
        "model = compute_embeddings.Sent2Vec('../embeddings/sent2vec/sent2vec_toronto_books_unigrams')\n",
        "model.load_model()"
      ],
      "execution_count": 71,
      "outputs": [
        {
          "output_type": "stream",
          "text": [
            "package installed\n"
          ],
          "name": "stdout"
        }
      ]
    },
    {
      "cell_type": "code",
      "metadata": {
        "id": "s6AGFxG_ASNh",
        "colab_type": "code",
        "outputId": "09fd923e-97f6-4825-a58b-2e8e9e47035b",
        "colab": {
          "base_uri": "https://localhost:8080/",
          "height": 52
        }
      },
      "source": [
        "%%time\n",
        "start_time = time.time()\n",
        "# embs1 = model.calculate_embeddings(questions1)\n",
        "# embs2 = model.calculate_embeddings(questions2)\n",
        "\n",
        "embs1 = model.calculate_embeddings(list(map(lambda x: ' '.join(x), cleaned_questions1)))\n",
        "embs2 = model.calculate_embeddings(list(map(lambda x: ' '.join(x), cleaned_questions2)))\n",
        "\n",
        "end_time = time.time()\n",
        "processing_time['sent2vec'] = np.round(end_time-start_time,2)"
      ],
      "execution_count": 74,
      "outputs": [
        {
          "output_type": "stream",
          "text": [
            "CPU times: user 9.75 s, sys: 54.4 ms, total: 9.8 s\n",
            "Wall time: 9.78 s\n"
          ],
          "name": "stdout"
        }
      ]
    },
    {
      "cell_type": "code",
      "metadata": {
        "id": "n8xJ4mpyGbZx",
        "colab_type": "code",
        "colab": {}
      },
      "source": [
        "# np.save('../data/sent2vec_embeddings1.npy', embs1)\n",
        "# np.save('../data/sent2vec_embeddings2.npy', embs2)\n",
        "\n",
        "# embs1 = np.load('../data/sent2vec_embeddings1.npy')\n",
        "# embs2 = np.load('../data/sent2vec_embeddings2.npy')"
      ],
      "execution_count": 0,
      "outputs": []
    },
    {
      "cell_type": "code",
      "metadata": {
        "id": "s4IxUPRZM-Wj",
        "colab_type": "code",
        "outputId": "1d981293-c102-438b-db28-1cc693eb8481",
        "colab": {
          "base_uri": "https://localhost:8080/",
          "height": 191
        }
      },
      "source": [
        "features = np.concatenate((embs1, embs2, np.abs(embs2-embs1)), axis=1)\n",
        "metric_train, metric_valid = modeling.model_efficiency(features, is_duplicates)\n",
        "metrics_train['sent2vec'] = metric_train\n",
        "metrics_valid['sent2vec'] = metric_valid\n",
        "print(metric_train)\n",
        "print(metric_valid)"
      ],
      "execution_count": 75,
      "outputs": [
        {
          "output_type": "stream",
          "text": [
            "/usr/local/lib/python3.6/dist-packages/sklearn/linear_model/_logistic.py:940: ConvergenceWarning: lbfgs failed to converge (status=1):\n",
            "STOP: TOTAL NO. of ITERATIONS REACHED LIMIT.\n",
            "\n",
            "Increase the number of iterations (max_iter) or scale the data as shown in:\n",
            "    https://scikit-learn.org/stable/modules/preprocessing.html\n",
            "Please also refer to the documentation for alternative solver options:\n",
            "    https://scikit-learn.org/stable/modules/linear_model.html#logistic-regression\n",
            "  extra_warning_msg=_LOGISTIC_SOLVER_CONVERGENCE_MSG)\n"
          ],
          "name": "stderr"
        },
        {
          "output_type": "stream",
          "text": [
            "{'loss': 0.54, 'accuracy': 0.73, 'f1': 0.58}\n",
            "{'loss': 0.54, 'accuracy': 0.73, 'f1': 0.58}\n"
          ],
          "name": "stdout"
        }
      ]
    },
    {
      "cell_type": "code",
      "metadata": {
        "id": "kdndxzLwy1wc",
        "colab_type": "code",
        "colab": {
          "base_uri": "https://localhost:8080/",
          "height": 245
        },
        "outputId": "06508b0f-badd-41fe-d93b-bc8bb1ffd8d1"
      },
      "source": [
        "# features = np.concatenate((embs1, embs2, np.abs(embs2-embs1)), axis=1)\n",
        "model = modeling.get_simple_nn_model(features.shape[1], hidden_sizes=[32, 16, 8])\n",
        "metric_train, metric_valid = modeling.model_efficiency(features, is_duplicates, model=model, epochs=5, batch_size=64)\n",
        "# metric_train, metric_valid = model_efficiency(features, is_duplicates, model=model, epochs=5, batch_size=64)\n",
        "metrics_train_nn['sent2vec'] = metric_train\n",
        "metrics_valid_nn['sent2vec'] = metric_valid\n",
        "print(metric_train)\n",
        "print(metric_valid)"
      ],
      "execution_count": 76,
      "outputs": [
        {
          "output_type": "stream",
          "text": [
            "Epoch 1/5\n",
            "4422/4422 [==============================] - 21s 5ms/step - loss: 0.5004 - binary_crossentropy: 0.5004 - accuracy: 0.7400 - val_loss: 0.4724 - val_binary_crossentropy: 0.4724 - val_accuracy: 0.7549\n",
            "Epoch 2/5\n",
            "4422/4422 [==============================] - 21s 5ms/step - loss: 0.4606 - binary_crossentropy: 0.4606 - accuracy: 0.7664 - val_loss: 0.4601 - val_binary_crossentropy: 0.4601 - val_accuracy: 0.7671\n",
            "Epoch 3/5\n",
            "4422/4422 [==============================] - 23s 5ms/step - loss: 0.4397 - binary_crossentropy: 0.4397 - accuracy: 0.7801 - val_loss: 0.4535 - val_binary_crossentropy: 0.4535 - val_accuracy: 0.7717\n",
            "Epoch 4/5\n",
            "4422/4422 [==============================] - 21s 5ms/step - loss: 0.4238 - binary_crossentropy: 0.4238 - accuracy: 0.7911 - val_loss: 0.4536 - val_binary_crossentropy: 0.4536 - val_accuracy: 0.7757\n",
            "Epoch 5/5\n",
            "4422/4422 [==============================] - 21s 5ms/step - loss: 0.4116 - binary_crossentropy: 0.4116 - accuracy: 0.7982 - val_loss: 0.4475 - val_binary_crossentropy: 0.4475 - val_accuracy: 0.7772\n",
            "{'loss': 0.39, 'accuracy': 0.81, 'f1': 0.74}\n",
            "{'loss': 0.45, 'accuracy': 0.78, 'f1': 0.69}\n"
          ],
          "name": "stdout"
        }
      ]
    },
    {
      "cell_type": "code",
      "metadata": {
        "id": "G7_Aof3LNBzY",
        "colab_type": "code",
        "outputId": "2ffa11fc-c1a6-4a65-da07-04323b179cd4",
        "colab": {
          "base_uri": "https://localhost:8080/",
          "height": 282
        }
      },
      "source": [
        "plt.bar(*zip(*processing_time.items()))\n",
        "print(processing_time)"
      ],
      "execution_count": 0,
      "outputs": [
        {
          "output_type": "stream",
          "text": [
            "{'sent2vec': 9.01}\n"
          ],
          "name": "stdout"
        },
        {
          "output_type": "display_data",
          "data": {
            "image/png": "[encoded data removed]",
            "text/plain": [
              "<Figure size 432x288 with 1 Axes>"
            ]
          },
          "metadata": {
            "tags": [],
            "needs_background": "light"
          }
        }
      ]
    },
    {
      "cell_type": "markdown",
      "metadata": {
        "id": "vofrZj3AHVm1",
        "colab_type": "text"
      },
      "source": [
        "# SBERT (Sentence BERT)\n",
        "\n",
        "### code and embeddings\n",
        "- https://github.com/UKPLab/sentence-transformers\n",
        "\n",
        "we use by default: bert-base-nli-mean-tokens\n"
      ]
    },
    {
      "cell_type": "code",
      "metadata": {
        "id": "qmuKwqs9GMoJ",
        "colab_type": "code",
        "outputId": "a4c95f5a-38f5-4c55-85d9-e31843f354db",
        "colab": {
          "base_uri": "https://localhost:8080/",
          "height": 34
        }
      },
      "source": [
        "# installs the library\n",
        "# change the path argument of SBERT to use other pretrained networks; default = bert-base-nli-mean-tokens\n",
        "model = compute_embeddings.SBERT()\n",
        "model.load_model()"
      ],
      "execution_count": 0,
      "outputs": [
        {
          "output_type": "stream",
          "text": [
            "100%|██████████| 405M/405M [00:07<00:00, 55.9MB/s]\n"
          ],
          "name": "stderr"
        }
      ]
    },
    {
      "cell_type": "code",
      "metadata": {
        "id": "_WysY_R1GMr_",
        "colab_type": "code",
        "outputId": "b8ac7db8-4bc3-4115-d16e-ca717c1bb6e2",
        "colab": {
          "base_uri": "https://localhost:8080/",
          "height": 52
        }
      },
      "source": [
        "%%time\n",
        "start_time = time.time()\n",
        "embs1 = np.array(model.calculate_embeddings(questions1))\n",
        "embs2 = np.array(model.calculate_embeddings(questions2))\n",
        "\n",
        "end_time = time.time()\n",
        "processing_time['SBERT'] = np.round(end_time-start_time,2)"
      ],
      "execution_count": 0,
      "outputs": [
        {
          "output_type": "stream",
          "text": [
            "CPU times: user 46min 42s, sys: 12min 29s, total: 59min 11s\n",
            "Wall time: 59min 10s\n"
          ],
          "name": "stdout"
        }
      ]
    },
    {
      "cell_type": "code",
      "metadata": {
        "id": "0aippYI0GV4U",
        "colab_type": "code",
        "colab": {}
      },
      "source": [
        "# np.save('../data/SBERT_embeddings1.npy', embs1)\n",
        "# np.save('../data/SBERT_embeddings2.npy', embs2)\n",
        "\n",
        "# embs1 = np.load('../data/SBERT_embeddings1.npy')\n",
        "# embs2 = np.load('../data/SBERT_embeddings2.npy')"
      ],
      "execution_count": 0,
      "outputs": []
    },
    {
      "cell_type": "code",
      "metadata": {
        "id": "i4psaSDZGMwM",
        "colab_type": "code",
        "outputId": "2549095c-3926-4149-abcf-9c088bf58d93",
        "colab": {
          "base_uri": "https://localhost:8080/",
          "height": 191
        }
      },
      "source": [
        "features = np.concatenate((embs1, embs2, np.abs(embs2-embs1)), axis=1)\n",
        "metric_train, metric_valid = modeling.model_efficiency(features, is_duplicates)\n",
        "metrics_train['SBERT'] = metric_train\n",
        "metrics_valid['SBERT'] = metric_valid\n",
        "print(metric_train)\n",
        "print(metric_valid)"
      ],
      "execution_count": 8,
      "outputs": [
        {
          "output_type": "stream",
          "text": [
            "/usr/local/lib/python3.6/dist-packages/sklearn/linear_model/_logistic.py:940: ConvergenceWarning: lbfgs failed to converge (status=1):\n",
            "STOP: TOTAL NO. of ITERATIONS REACHED LIMIT.\n",
            "\n",
            "Increase the number of iterations (max_iter) or scale the data as shown in:\n",
            "    https://scikit-learn.org/stable/modules/preprocessing.html\n",
            "Please also refer to the documentation for alternative solver options:\n",
            "    https://scikit-learn.org/stable/modules/linear_model.html#logistic-regression\n",
            "  extra_warning_msg=_LOGISTIC_SOLVER_CONVERGENCE_MSG)\n"
          ],
          "name": "stderr"
        },
        {
          "output_type": "stream",
          "text": [
            "{'loss': 0.41, 'accuracy': 0.81, 'f1': 0.73}\n",
            "{'loss': 0.42, 'accuracy': 0.8, 'f1': 0.73}\n"
          ],
          "name": "stdout"
        }
      ]
    },
    {
      "cell_type": "code",
      "metadata": {
        "id": "O5jgKDNhLXrV",
        "colab_type": "code",
        "colab": {
          "base_uri": "https://localhost:8080/",
          "height": 245
        },
        "outputId": "97b9dc79-d9f0-4b66-919f-0766167ff995"
      },
      "source": [
        "# features = np.concatenate((embs1, embs2, np.abs(embs2-embs1)), axis=1)\n",
        "model = modeling.get_simple_nn_model(features.shape[1], hidden_sizes=[32, 16, 8])\n",
        "metric_train, metric_valid = modeling.model_efficiency(features, is_duplicates, model=model, epochs=5, batch_size=64)\n",
        "# metric_train, metric_valid = model_efficiency(features, is_duplicates, model=model, epochs=5, batch_size=64)\n",
        "metrics_train_nn['SBERT'] = metric_train\n",
        "metrics_valid_nn['SBERT'] = metric_valid\n",
        "print(metric_train)\n",
        "print(metric_valid)"
      ],
      "execution_count": 19,
      "outputs": [
        {
          "output_type": "stream",
          "text": [
            "Epoch 1/5\n",
            "4422/4422 [==============================] - 20s 5ms/step - loss: 0.4248 - binary_crossentropy: 0.4248 - accuracy: 0.7949 - val_loss: 0.3966 - val_binary_crossentropy: 0.3966 - val_accuracy: 0.8114\n",
            "Epoch 2/5\n",
            "4422/4422 [==============================] - 20s 5ms/step - loss: 0.3908 - binary_crossentropy: 0.3908 - accuracy: 0.8152 - val_loss: 0.3922 - val_binary_crossentropy: 0.3922 - val_accuracy: 0.8143\n",
            "Epoch 3/5\n",
            "4422/4422 [==============================] - 20s 5ms/step - loss: 0.3753 - binary_crossentropy: 0.3753 - accuracy: 0.8246 - val_loss: 0.3759 - val_binary_crossentropy: 0.3759 - val_accuracy: 0.8232\n",
            "Epoch 4/5\n",
            "4422/4422 [==============================] - 20s 5ms/step - loss: 0.3630 - binary_crossentropy: 0.3630 - accuracy: 0.8319 - val_loss: 0.3787 - val_binary_crossentropy: 0.3787 - val_accuracy: 0.8218\n",
            "Epoch 5/5\n",
            "4422/4422 [==============================] - 21s 5ms/step - loss: 0.3535 - binary_crossentropy: 0.3535 - accuracy: 0.8366 - val_loss: 0.3721 - val_binary_crossentropy: 0.3721 - val_accuracy: 0.8268\n",
            "{'loss': 0.34, 'accuracy': 0.84, 'f1': 0.79}\n",
            "{'loss': 0.37, 'accuracy': 0.83, 'f1': 0.77}\n"
          ],
          "name": "stdout"
        }
      ]
    },
    {
      "cell_type": "code",
      "metadata": {
        "id": "sJzu5HOiO5SC",
        "colab_type": "code",
        "outputId": "46b9ae32-8424-4109-a746-4b83dfcbace4",
        "colab": {
          "base_uri": "https://localhost:8080/",
          "height": 282
        }
      },
      "source": [
        "plt.bar(*zip(*processing_time.items()))\n",
        "print(processing_time)"
      ],
      "execution_count": 0,
      "outputs": [
        {
          "output_type": "stream",
          "text": [
            "{'sent2vec': 9.01, 'SBERT': 3550.54}\n"
          ],
          "name": "stdout"
        },
        {
          "output_type": "display_data",
          "data": {
            "image/png": "[encoded data removed]",
            "text/plain": [
              "<Figure size 432x288 with 1 Axes>"
            ]
          },
          "metadata": {
            "tags": [],
            "needs_background": "light"
          }
        }
      ]
    },
    {
      "cell_type": "markdown",
      "metadata": {
        "id": "si1eoJbCJUld",
        "colab_type": "text"
      },
      "source": [
        "# SIF embedding / sentence2vec\n",
        "\n",
        "### code\n",
        "\n",
        "many versions, not all of them are easy to use:\n",
        "- https://github.com/oborchers/Fast_Sentence_Embeddings\n",
        "- https://github.com/peter3125/sentence2vec/blob/master/sentence2vec.py\n",
        "- https://gist.github.com/bluemonk482/a4b2de9b5037d9ad69fa82da6ae67641\n",
        "- https://github.com/PrincetonML/SIF/blob/master/src/SIF_embedding.py\n",
        "\n",
        "We use the library from O Borchers, https://github.com/oborchers/Fast_Sentence_Embeddings\n",
        "\n",
        "### embedding\n",
        "We use gensim embeddings:\n",
        "- https://github.com/RaRe-Technologies/gensim-data\n",
        "\n",
        "by default, we use glove-wiki-gigaword-100\n",
        "\n",
        "### warning\n",
        "make sure that gensim version is gensim==3.8.0 (see top of the notebook)\n",
        "\n"
      ]
    },
    {
      "cell_type": "code",
      "metadata": {
        "id": "8AQm7XkYXGSM",
        "colab_type": "code",
        "colab": {}
      },
      "source": [
        "# install fse library and load the embeddings\n",
        "# by default, uses glove-wiki-gigaword-100 pretrained embeddings; otherwise, modify the argument path from SIF function\n",
        "model = compute_embeddings.SIF()\n",
        "model.load_model()"
      ],
      "execution_count": 0,
      "outputs": []
    },
    {
      "cell_type": "code",
      "metadata": {
        "id": "Kaladv8WsZLz",
        "colab_type": "code",
        "colab": {}
      },
      "source": [
        "model.fit(cleaned_questions1+cleaned_questions2)"
      ],
      "execution_count": 0,
      "outputs": []
    },
    {
      "cell_type": "code",
      "metadata": {
        "id": "sHhwntJ1XGWM",
        "colab_type": "code",
        "outputId": "be4f289e-6b5a-4d70-f962-96abcd90a8d1",
        "colab": {
          "base_uri": "https://localhost:8080/",
          "height": 52
        }
      },
      "source": [
        "%%time\n",
        "start_time = time.time()\n",
        "embs1 = model.calculate_embeddings(cleaned_questions1)\n",
        "embs2 = model.calculate_embeddings(cleaned_questions2)\n",
        "\n",
        "end_time = time.time()\n",
        "processing_time['SIF'] = np.round(end_time-start_time,2)"
      ],
      "execution_count": 30,
      "outputs": [
        {
          "output_type": "stream",
          "text": [
            "CPU times: user 3.88 s, sys: 1.25 s, total: 5.13 s\n",
            "Wall time: 3.68 s\n"
          ],
          "name": "stdout"
        }
      ]
    },
    {
      "cell_type": "code",
      "metadata": {
        "id": "23GVFEhebKAc",
        "colab_type": "code",
        "colab": {}
      },
      "source": [
        "# np.save('../data/SIF_embeddings1.npy', embs1)\n",
        "# np.save('../data/SIF_embeddings2.npy', embs2)\n",
        "\n",
        "# embs1 = np.load('../data/SIF_embeddings1.npy')\n",
        "# embs2 = np.load('../data/SIF_embeddings2.npy')"
      ],
      "execution_count": 0,
      "outputs": []
    },
    {
      "cell_type": "code",
      "metadata": {
        "id": "ew6yHZdQA1kJ",
        "colab_type": "code",
        "outputId": "1411c1c5-8b16-45b9-f119-a6aa8255d45f",
        "colab": {
          "base_uri": "https://localhost:8080/",
          "height": 52
        }
      },
      "source": [
        "features = np.concatenate((embs1, embs2, np.abs(embs2-embs1)), axis=1)\n",
        "metric_train, metric_valid = modeling.model_efficiency(features, is_duplicates)\n",
        "# metrics_train['SIF'] = metric_train\n",
        "# metrics_valid['SIF'] = metric_valid\n",
        "print(metric_train)\n",
        "print(metric_valid)"
      ],
      "execution_count": 31,
      "outputs": [
        {
          "output_type": "stream",
          "text": [
            "{'loss': 0.6, 'accuracy': 0.69, 'f1': 0.47}\n",
            "{'loss': 0.59, 'accuracy': 0.69, 'f1': 0.47}\n"
          ],
          "name": "stdout"
        }
      ]
    },
    {
      "cell_type": "code",
      "metadata": {
        "id": "UMIe7csKdq9R",
        "colab_type": "code",
        "colab": {
          "base_uri": "https://localhost:8080/",
          "height": 245
        },
        "outputId": "c0de3553-e4a9-4a47-a5d5-86191d72bd27"
      },
      "source": [
        "# features = np.concatenate((embs1, embs2, np.abs(embs2-embs1)), axis=1)\n",
        "model = modeling.get_simple_nn_model(features.shape[1], hidden_sizes=[32, 16, 8])\n",
        "metric_train, metric_valid = modeling.model_efficiency(features, is_duplicates, model=model, epochs=5, batch_size=64)\n",
        "# metric_train, metric_valid = model_efficiency(features, is_duplicates, model=model, epochs=5, batch_size=64)\n",
        "metrics_train_nn['SIF'] = metric_train\n",
        "metrics_valid_nn['SIF'] = metric_valid\n",
        "print(metric_train)\n",
        "print(metric_valid)"
      ],
      "execution_count": 70,
      "outputs": [
        {
          "output_type": "stream",
          "text": [
            "Epoch 1/5\n",
            "4422/4422 [==============================] - 20s 4ms/step - loss: 0.5521 - binary_crossentropy: 0.5521 - accuracy: 0.6585 - val_loss: 0.5469 - val_binary_crossentropy: 0.5469 - val_accuracy: 0.6662\n",
            "Epoch 2/5\n",
            "4422/4422 [==============================] - 19s 4ms/step - loss: 0.5458 - binary_crossentropy: 0.5458 - accuracy: 0.6636 - val_loss: 0.5438 - val_binary_crossentropy: 0.5438 - val_accuracy: 0.6652\n",
            "Epoch 3/5\n",
            "4422/4422 [==============================] - 20s 4ms/step - loss: 0.5449 - binary_crossentropy: 0.5449 - accuracy: 0.6609 - val_loss: 0.5431 - val_binary_crossentropy: 0.5431 - val_accuracy: 0.6640\n",
            "Epoch 4/5\n",
            "4422/4422 [==============================] - 21s 5ms/step - loss: 0.5446 - binary_crossentropy: 0.5446 - accuracy: 0.6607 - val_loss: 0.5431 - val_binary_crossentropy: 0.5431 - val_accuracy: 0.6599\n",
            "Epoch 5/5\n",
            "4422/4422 [==============================] - 19s 4ms/step - loss: 0.5445 - binary_crossentropy: 0.5445 - accuracy: 0.6596 - val_loss: 0.5429 - val_binary_crossentropy: 0.5429 - val_accuracy: 0.6640\n",
            "{'loss': 0.54, 'accuracy': 0.66, 'f1': 0.57}\n",
            "{'loss': 0.54, 'accuracy': 0.66, 'f1': 0.57}\n"
          ],
          "name": "stdout"
        }
      ]
    },
    {
      "cell_type": "code",
      "metadata": {
        "id": "6o9_bROgA1hA",
        "colab_type": "code",
        "outputId": "b6467162-0761-4286-ff26-62a416009738",
        "colab": {
          "base_uri": "https://localhost:8080/",
          "height": 282
        }
      },
      "source": [
        "plt.bar(*zip(*processing_time.items()))\n",
        "print(processing_time)"
      ],
      "execution_count": 0,
      "outputs": [
        {
          "output_type": "stream",
          "text": [
            "{'doc2vec': 682.49, 'sent2vec': 9.01, 'SIF': 18.9, 'SBERT': 3550.54}\n"
          ],
          "name": "stdout"
        },
        {
          "output_type": "display_data",
          "data": {
            "image/png": "[encoded data removed]",
            "text/plain": [
              "<Figure size 432x288 with 1 Axes>"
            ]
          },
          "metadata": {
            "tags": [],
            "needs_background": "light"
          }
        }
      ]
    },
    {
      "cell_type": "markdown",
      "metadata": {
        "id": "PaO2FmtRjIev",
        "colab_type": "text"
      },
      "source": [
        "# Word Count"
      ]
    },
    {
      "cell_type": "code",
      "metadata": {
        "id": "se_FU2G0jH6_",
        "colab_type": "code",
        "colab": {}
      },
      "source": [
        "model = compute_embeddings.Count()\n",
        "# model = Count()\n",
        "model.load_model()"
      ],
      "execution_count": 0,
      "outputs": []
    },
    {
      "cell_type": "code",
      "metadata": {
        "id": "IhdwQmkqkqGT",
        "colab_type": "code",
        "outputId": "78afee59-0e81-4ce0-92a6-3b890f20f988",
        "colab": {
          "base_uri": "https://localhost:8080/",
          "height": 52
        }
      },
      "source": [
        "# model.fit(questions1 + questions2)\n",
        "model.fit(list(map(lambda x: ' '.join(x), cleaned_questions1)) + list(map(lambda x: ' '.join(x), cleaned_questions2)))"
      ],
      "execution_count": 82,
      "outputs": [
        {
          "output_type": "stream",
          "text": [
            "/usr/local/lib/python3.6/dist-packages/sklearn/feature_extraction/text.py:507: UserWarning: The parameter 'token_pattern' will not be used since 'tokenizer' is not None'\n",
            "  warnings.warn(\"The parameter 'token_pattern' will not be used\"\n"
          ],
          "name": "stderr"
        }
      ]
    },
    {
      "cell_type": "code",
      "metadata": {
        "id": "o4WR3912ji4_",
        "colab_type": "code",
        "outputId": "4507df77-e804-45d1-e19b-383a92d22dca",
        "colab": {
          "base_uri": "https://localhost:8080/",
          "height": 52
        }
      },
      "source": [
        "%%time\n",
        "start_time = time.time()\n",
        "# count_embs1 = model.calculate_embeddings(questions1)\n",
        "# count_embs2 = model.calculate_embeddings(questions2)\n",
        "\n",
        "count_embs1 = model.calculate_embeddings(list(map(lambda x: ' '.join(x), cleaned_questions1)))\n",
        "count_embs2 = model.calculate_embeddings(list(map(lambda x: ' '.join(x), cleaned_questions2)))\n",
        "\n",
        "end_time = time.time()\n",
        "processing_time['Count'] = np.round(end_time-start_time,2)"
      ],
      "execution_count": 83,
      "outputs": [
        {
          "output_type": "stream",
          "text": [
            "CPU times: user 7.86 s, sys: 0 ns, total: 7.86 s\n",
            "Wall time: 7.85 s\n"
          ],
          "name": "stdout"
        }
      ]
    },
    {
      "cell_type": "code",
      "metadata": {
        "id": "XlwMN32olDhz",
        "colab_type": "code",
        "colab": {}
      },
      "source": [
        "# np.save('../data/Count_embeddings1.npy', count_embs1)\n",
        "# np.save('../data/Count_embeddings2.npy', count_embs2)"
      ],
      "execution_count": 0,
      "outputs": []
    },
    {
      "cell_type": "code",
      "metadata": {
        "id": "_XDgf0QWmYLZ",
        "colab_type": "code",
        "colab": {}
      },
      "source": [
        "import scipy.sparse.linalg\n",
        "count_features, _, _ = scipy.sparse.linalg.svds(sp.vstack((count_embs1, count_embs2)).astype('float64'),\n",
        "                                          k=100)\n",
        "count_features1 = count_features[:len(questions1)]\n",
        "count_features2 = count_features[-len(questions2):]"
      ],
      "execution_count": 0,
      "outputs": []
    },
    {
      "cell_type": "code",
      "metadata": {
        "id": "p528fOQPji9C",
        "colab_type": "code",
        "outputId": "4585bc55-f9df-402b-aaaf-32b8ecb71354",
        "colab": {
          "base_uri": "https://localhost:8080/",
          "height": 52
        }
      },
      "source": [
        "features = np.concatenate((count_features1, count_features2, np.abs(count_features2-count_features1)), axis=1)\n",
        "# metric_train, metric_valid = modeling.model_efficiency(features, is_duplicates)\n",
        "metric_train, metric_valid = model_efficiency(features, is_duplicates)\n",
        "metrics_train['Count'] = metric_train\n",
        "metrics_valid['Count'] = metric_valid\n",
        "print(metric_train)\n",
        "print(metric_valid)"
      ],
      "execution_count": 85,
      "outputs": [
        {
          "output_type": "stream",
          "text": [
            "{'loss': 0.63, 'accuracy': 0.63, 'f1': 0.01}\n",
            "{'loss': 0.63, 'accuracy': 0.63, 'f1': 0.01}\n"
          ],
          "name": "stdout"
        }
      ]
    },
    {
      "cell_type": "code",
      "metadata": {
        "id": "Z_67njjxe0bd",
        "colab_type": "code",
        "colab": {
          "base_uri": "https://localhost:8080/",
          "height": 245
        },
        "outputId": "e6c9effe-b356-407e-a6e6-4759895996d6"
      },
      "source": [
        "# features = np.concatenate((count_features1, count_features2, np.abs(count_features2-count_features1)), axis=1)\n",
        "model = modeling.get_simple_nn_model(features.shape[1], hidden_sizes=[32, 16, 8])\n",
        "# metric_train, metric_valid = modeling.model_efficiency(features, is_duplicates, model=model, epochs=5, batch_size=64)\n",
        "metric_train, metric_valid = model_efficiency(features, is_duplicates, model=model, epochs=5, batch_size=64)\n",
        "metrics_train_nn['Count'] = metric_train\n",
        "metrics_valid_nn['Count'] = metric_valid\n",
        "print(metric_train)\n",
        "print(metric_valid)"
      ],
      "execution_count": 86,
      "outputs": [
        {
          "output_type": "stream",
          "text": [
            "Epoch 1/5\n",
            "4422/4422 [==============================] - 20s 5ms/step - loss: 0.5847 - binary_crossentropy: 0.5847 - accuracy: 0.6838 - val_loss: 0.5608 - val_binary_crossentropy: 0.5608 - val_accuracy: 0.7029\n",
            "Epoch 2/5\n",
            "4422/4422 [==============================] - 20s 4ms/step - loss: 0.5588 - binary_crossentropy: 0.5588 - accuracy: 0.7018 - val_loss: 0.5539 - val_binary_crossentropy: 0.5539 - val_accuracy: 0.7067\n",
            "Epoch 3/5\n",
            "4422/4422 [==============================] - 20s 4ms/step - loss: 0.5551 - binary_crossentropy: 0.5551 - accuracy: 0.7036 - val_loss: 0.5504 - val_binary_crossentropy: 0.5504 - val_accuracy: 0.7074\n",
            "Epoch 4/5\n",
            "4422/4422 [==============================] - 20s 4ms/step - loss: 0.5511 - binary_crossentropy: 0.5511 - accuracy: 0.7063 - val_loss: 0.5464 - val_binary_crossentropy: 0.5464 - val_accuracy: 0.7107\n",
            "Epoch 5/5\n",
            "4422/4422 [==============================] - 22s 5ms/step - loss: 0.5472 - binary_crossentropy: 0.5472 - accuracy: 0.7086 - val_loss: 0.5434 - val_binary_crossentropy: 0.5434 - val_accuracy: 0.7126\n",
            "{'loss': 0.54, 'accuracy': 0.71, 'f1': 0.51}\n",
            "{'loss': 0.54, 'accuracy': 0.71, 'f1': 0.51}\n"
          ],
          "name": "stdout"
        }
      ]
    },
    {
      "cell_type": "code",
      "metadata": {
        "id": "UEk3PmoIfULL",
        "colab_type": "code",
        "colab": {}
      },
      "source": [
        "plt.bar(*zip(*processing_time.items()))\n",
        "print(processing_time)"
      ],
      "execution_count": 0,
      "outputs": []
    },
    {
      "cell_type": "markdown",
      "metadata": {
        "id": "Mkll8RuSp2bJ",
        "colab_type": "text"
      },
      "source": [
        "# TFIDF"
      ]
    },
    {
      "cell_type": "code",
      "metadata": {
        "id": "G04_EjzvpKmW",
        "colab_type": "code",
        "colab": {}
      },
      "source": [
        "model = compute_embeddings.Count()\n",
        "# model = TFIDF()\n",
        "model.load_model()"
      ],
      "execution_count": 0,
      "outputs": []
    },
    {
      "cell_type": "code",
      "metadata": {
        "id": "nq8Ci5ebpKsj",
        "colab_type": "code",
        "outputId": "2e63da19-29df-4ee3-9a1e-e6cc478bc04a",
        "colab": {
          "base_uri": "https://localhost:8080/",
          "height": 52
        }
      },
      "source": [
        "# model.fit(questions1 + questions2)\n",
        "model.fit(list(map(lambda x: ' '.join(x), cleaned_questions1)) + list(map(lambda x: ' '.join(x), cleaned_questions2)))"
      ],
      "execution_count": 88,
      "outputs": [
        {
          "output_type": "stream",
          "text": [
            "/usr/local/lib/python3.6/dist-packages/sklearn/feature_extraction/text.py:507: UserWarning: The parameter 'token_pattern' will not be used since 'tokenizer' is not None'\n",
            "  warnings.warn(\"The parameter 'token_pattern' will not be used\"\n"
          ],
          "name": "stderr"
        }
      ]
    },
    {
      "cell_type": "code",
      "metadata": {
        "id": "FZzNmgN4pK0P",
        "colab_type": "code",
        "outputId": "84ac54ac-0ae7-4569-83ca-264baf6a7c14",
        "colab": {
          "base_uri": "https://localhost:8080/",
          "height": 52
        }
      },
      "source": [
        "%%time\n",
        "start_time = time.time()\n",
        "# tfidf_embs1 = model.calculate_embeddings(questions1)\n",
        "# tfidf_embs2 = model.calculate_embeddings(questions2)\n",
        "\n",
        "tfidf_embs1 = model.calculate_embeddings(list(map(lambda x: ' '.join(x), cleaned_questions1)))\n",
        "tfidf_embs2 = model.calculate_embeddings(list(map(lambda x: ' '.join(x), cleaned_questions2)))\n",
        "\n",
        "end_time = time.time()\n",
        "processing_time['TFIDF'] = np.round(end_time-start_time,2)"
      ],
      "execution_count": 89,
      "outputs": [
        {
          "output_type": "stream",
          "text": [
            "CPU times: user 7.87 s, sys: 0 ns, total: 7.87 s\n",
            "Wall time: 7.87 s\n"
          ],
          "name": "stdout"
        }
      ]
    },
    {
      "cell_type": "code",
      "metadata": {
        "id": "1z-3Xr5jpKqQ",
        "colab_type": "code",
        "colab": {}
      },
      "source": [
        "# np.save('../data/TFIDF_embeddings1.npy', tfidf_embs1)\n",
        "# np.save('../data/TFIDF_embeddings2.npy', tfidf_embs2)"
      ],
      "execution_count": 0,
      "outputs": []
    },
    {
      "cell_type": "code",
      "metadata": {
        "id": "O2vE5O8LpT4g",
        "colab_type": "code",
        "colab": {}
      },
      "source": [
        "import scipy.sparse.linalg\n",
        "tfidf_features, _, _ = scipy.sparse.linalg.svds(sp.vstack((tfidf_embs1, tfidf_embs2)).astype('float64'),\n",
        "                                          k=100)\n",
        "tfidf_features1 = tfidf_features[:len(questions1)]\n",
        "tfidf_features2 = tfidf_features[-len(questions2):]"
      ],
      "execution_count": 0,
      "outputs": []
    },
    {
      "cell_type": "code",
      "metadata": {
        "id": "LtdWsOudpT-2",
        "colab_type": "code",
        "outputId": "c9e6c52c-d3a8-4498-eb81-76ccfe408760",
        "colab": {
          "base_uri": "https://localhost:8080/",
          "height": 52
        }
      },
      "source": [
        "features = np.concatenate((tfidf_features1, tfidf_features2, np.abs(tfidf_features1-tfidf_features2)), axis=1)\n",
        "# metric_train, metric_valid = modeling.model_efficiency(features, is_duplicates)\n",
        "metric_train, metric_valid = model_efficiency(features, is_duplicates)\n",
        "metrics_train['TFIDF'] = metric_train\n",
        "metrics_valid['TFIDF'] = metric_valid\n",
        "print(metric_train)\n",
        "print(metric_valid)"
      ],
      "execution_count": 91,
      "outputs": [
        {
          "output_type": "stream",
          "text": [
            "{'loss': 0.63, 'accuracy': 0.63, 'f1': 0.01}\n",
            "{'loss': 0.63, 'accuracy': 0.63, 'f1': 0.01}\n"
          ],
          "name": "stdout"
        }
      ]
    },
    {
      "cell_type": "code",
      "metadata": {
        "id": "QxCK-3VJgDOp",
        "colab_type": "code",
        "colab": {
          "base_uri": "https://localhost:8080/",
          "height": 245
        },
        "outputId": "cf7ae56b-7d20-4e9a-a3bd-b6b732ef75b0"
      },
      "source": [
        "# features = np.concatenate((tfidf_features1, tfidf_features2, np.abs(tfidf_features1-tfidf_features2)), axis=1)\n",
        "model = modeling.get_simple_nn_model(features.shape[1], hidden_sizes=[32, 16, 8])\n",
        "# metric_train, metric_valid = modeling.model_efficiency(features, is_duplicates, model=model, epochs=5, batch_size=64)\n",
        "metric_train, metric_valid = model_efficiency(features, is_duplicates, model=model, epochs=5, batch_size=64)\n",
        "metrics_train_nn['TFIDF'] = metric_train\n",
        "metrics_valid_nn['TFIDF'] = metric_valid\n",
        "print(metric_train)\n",
        "print(metric_valid)"
      ],
      "execution_count": 92,
      "outputs": [
        {
          "output_type": "stream",
          "text": [
            "Epoch 1/5\n",
            "4422/4422 [==============================] - 20s 5ms/step - loss: 0.5811 - binary_crossentropy: 0.5811 - accuracy: 0.6833 - val_loss: 0.5599 - val_binary_crossentropy: 0.5599 - val_accuracy: 0.7005\n",
            "Epoch 2/5\n",
            "4422/4422 [==============================] - 20s 4ms/step - loss: 0.5597 - binary_crossentropy: 0.5597 - accuracy: 0.7002 - val_loss: 0.5571 - val_binary_crossentropy: 0.5571 - val_accuracy: 0.7038\n",
            "Epoch 3/5\n",
            "4422/4422 [==============================] - 20s 4ms/step - loss: 0.5562 - binary_crossentropy: 0.5562 - accuracy: 0.7022 - val_loss: 0.5519 - val_binary_crossentropy: 0.5519 - val_accuracy: 0.7061\n",
            "Epoch 4/5\n",
            "4422/4422 [==============================] - 20s 4ms/step - loss: 0.5544 - binary_crossentropy: 0.5544 - accuracy: 0.7028 - val_loss: 0.5573 - val_binary_crossentropy: 0.5573 - val_accuracy: 0.7005\n",
            "Epoch 5/5\n",
            "4422/4422 [==============================] - 20s 5ms/step - loss: 0.5522 - binary_crossentropy: 0.5522 - accuracy: 0.7045 - val_loss: 0.5482 - val_binary_crossentropy: 0.5482 - val_accuracy: 0.7074\n",
            "{'loss': 0.55, 'accuracy': 0.71, 'f1': 0.5}\n",
            "{'loss': 0.55, 'accuracy': 0.71, 'f1': 0.5}\n"
          ],
          "name": "stdout"
        }
      ]
    },
    {
      "cell_type": "code",
      "metadata": {
        "id": "lN7gJAp2gDqv",
        "colab_type": "code",
        "colab": {}
      },
      "source": [
        "plt.bar(*zip(*processing_time.items()))\n",
        "print(processing_time)"
      ],
      "execution_count": 0,
      "outputs": []
    },
    {
      "cell_type": "markdown",
      "metadata": {
        "id": "HI0G-BRjqGrU",
        "colab_type": "text"
      },
      "source": [
        "# Feature engineering"
      ]
    },
    {
      "cell_type": "code",
      "metadata": {
        "id": "uq1E_nTIqZIg",
        "colab_type": "code",
        "colab": {}
      },
      "source": [
        "def jaccard_type_feature(count1, count2, eps=1e-12):\n",
        "  features = (count1.multiply(count2 != 0) + count2.multiply(count1 != 0)).sum(axis=1)\n",
        "  features = features / (count1.sum(axis=1) + count2.sum(axis=1) + eps)\n",
        "  return features"
      ],
      "execution_count": 0,
      "outputs": []
    },
    {
      "cell_type": "code",
      "metadata": {
        "id": "vXlZ7DzDpT8X",
        "colab_type": "code",
        "outputId": "948f8cd3-7cbe-4343-c261-45b064264bd5",
        "colab": {
          "base_uri": "https://localhost:8080/",
          "height": 34
        }
      },
      "source": [
        "count_features = jaccard_type_feature(count_embs1, count_embs2)\n",
        "tfidf_features = jaccard_type_feature(tfidf_embs1, tfidf_embs2)\n",
        "\n",
        "features = np.concatenate((count_features, tfidf_features), axis=1)\n",
        "features.shape"
      ],
      "execution_count": 94,
      "outputs": [
        {
          "output_type": "execute_result",
          "data": {
            "text/plain": [
              "(404290, 2)"
            ]
          },
          "metadata": {
            "tags": []
          },
          "execution_count": 94
        }
      ]
    },
    {
      "cell_type": "code",
      "metadata": {
        "id": "fmht1Tlpq5ri",
        "colab_type": "code",
        "outputId": "71721260-5e5e-4156-8f0e-637b4c954b92",
        "colab": {
          "base_uri": "https://localhost:8080/",
          "height": 52
        }
      },
      "source": [
        "# metric_train, metric_valid = modeling.model_efficiency(features, is_duplicates)\n",
        "metric_train, metric_valid = model_efficiency(features, is_duplicates)\n",
        "metrics_train['Count+TFIDF'] = metric_train\n",
        "metrics_valid['Count+TFIDF'] = metric_valid\n",
        "print(metric_train)\n",
        "print(metric_valid)"
      ],
      "execution_count": 95,
      "outputs": [
        {
          "output_type": "stream",
          "text": [
            "{'loss': 0.56, 'accuracy': 0.65, 'f1': 0.48}\n",
            "{'loss': 0.56, 'accuracy': 0.65, 'f1': 0.49}\n"
          ],
          "name": "stdout"
        }
      ]
    },
    {
      "cell_type": "code",
      "metadata": {
        "id": "LMY3PC1EhUtY",
        "colab_type": "code",
        "colab": {
          "base_uri": "https://localhost:8080/",
          "height": 245
        },
        "outputId": "10c0fcec-582c-4b9c-acda-7d2ce4b934f9"
      },
      "source": [
        "model = modeling.get_simple_nn_model(features.shape[1], hidden_sizes=[32, 16, 8])\n",
        "# metric_train, metric_valid = modeling.model_efficiency(features, is_duplicates, model=model, epochs=5, batch_size=64)\n",
        "metric_train, metric_valid = model_efficiency(features, is_duplicates, model=model, epochs=5, batch_size=64)\n",
        "metrics_train_nn['Count+TFIDF'] = metric_train\n",
        "metrics_valid_nn['Count+TFIDF'] = metric_valid\n",
        "print(metric_train)\n",
        "print(metric_valid)"
      ],
      "execution_count": 96,
      "outputs": [
        {
          "output_type": "stream",
          "text": [
            "Epoch 1/5\n",
            "4422/4422 [==============================] - 20s 4ms/step - loss: 0.5337 - binary_crossentropy: 0.5337 - accuracy: 0.6663 - val_loss: 0.5279 - val_binary_crossentropy: 0.5279 - val_accuracy: 0.6668\n",
            "Epoch 2/5\n",
            "4422/4422 [==============================] - 21s 5ms/step - loss: 0.5263 - binary_crossentropy: 0.5263 - accuracy: 0.6685 - val_loss: 0.5261 - val_binary_crossentropy: 0.5261 - val_accuracy: 0.6697\n",
            "Epoch 3/5\n",
            "4422/4422 [==============================] - 20s 5ms/step - loss: 0.5261 - binary_crossentropy: 0.5261 - accuracy: 0.6683 - val_loss: 0.5284 - val_binary_crossentropy: 0.5284 - val_accuracy: 0.6678\n",
            "Epoch 4/5\n",
            "4422/4422 [==============================] - 19s 4ms/step - loss: 0.5257 - binary_crossentropy: 0.5257 - accuracy: 0.6682 - val_loss: 0.5244 - val_binary_crossentropy: 0.5244 - val_accuracy: 0.6679\n",
            "Epoch 5/5\n",
            "4422/4422 [==============================] - 19s 4ms/step - loss: 0.5253 - binary_crossentropy: 0.5253 - accuracy: 0.6682 - val_loss: 0.5240 - val_binary_crossentropy: 0.5240 - val_accuracy: 0.6694\n",
            "{'loss': 0.52, 'accuracy': 0.67, 'f1': 0.61}\n",
            "{'loss': 0.52, 'accuracy': 0.67, 'f1': 0.61}\n"
          ],
          "name": "stdout"
        }
      ]
    },
    {
      "cell_type": "markdown",
      "metadata": {
        "id": "rAqss_F_fGan",
        "colab_type": "text"
      },
      "source": [
        "# Summary"
      ]
    },
    {
      "cell_type": "markdown",
      "metadata": {
        "id": "GfxdOf9SzqTU",
        "colab_type": "text"
      },
      "source": [
        "## Analysis of methods performances"
      ]
    },
    {
      "cell_type": "code",
      "metadata": {
        "id": "hTTbSTHMfIlt",
        "colab_type": "code",
        "outputId": "5cf7f0b1-7c10-4409-b5ee-21d3d8543759",
        "colab": {
          "base_uri": "https://localhost:8080/",
          "height": 314
        }
      },
      "source": [
        "plt.bar(*zip(*processing_time.items()))\n",
        "plt.ylabel('embedding computation time (s)')\n",
        "plt.tight_layout()\n",
        "plt.savefig('../images/processing_time.png')\n",
        "plt.show()\n",
        "print(processing_time)"
      ],
      "execution_count": 107,
      "outputs": [
        {
          "output_type": "display_data",
          "data": {
            "image/png": "[encoded data removed]",
            "text/plain": [
              "<Figure size 432x288 with 1 Axes>"
            ]
          },
          "metadata": {
            "tags": [],
            "needs_background": "light"
          }
        },
        {
          "output_type": "stream",
          "text": [
            "{'doc2vec': 618.72, 'sent2vec': 7.81, 'SIF': 3.68, 'SBERT': 3550.54, 'Count': 6.44, 'TFIDF': 6.21}\n"
          ],
          "name": "stdout"
        }
      ]
    },
    {
      "cell_type": "code",
      "metadata": {
        "id": "BFUoTtG4kGri",
        "colab_type": "code",
        "colab": {
          "base_uri": "https://localhost:8080/",
          "height": 362
        },
        "outputId": "113732c1-b259-4433-9bb0-ae529b815c0a"
      },
      "source": [
        "methods = list(metrics_train.keys())\n",
        "measures = list(metrics_train[methods[0]].keys())\n",
        "fig, ax = plt.subplots(ncols = len(measures), figsize = (15, 5))\n",
        "for i, measure in enumerate(measures):\n",
        "  ax[i].bar(methods, [metrics_train[method][measure] for method in methods])\n",
        "  ax[i].set_ylabel(measure)\n",
        "\n",
        "plt.suptitle('Performances on the training set for the logistic regression')\n",
        "# plt.tight_layout()\n",
        "fig.tight_layout(rect=[0, 0.03, 1, 0.95])\n",
        "plt.savefig('../images/performances_logistic_train.png')\n",
        "plt.show()"
      ],
      "execution_count": 115,
      "outputs": [
        {
          "output_type": "display_data",
          "data": {
            "image/png": "[encoded data removed]",
            "text/plain": [
              "<Figure size 1080x360 with 3 Axes>"
            ]
          },
          "metadata": {
            "tags": [],
            "needs_background": "light"
          }
        }
      ]
    },
    {
      "cell_type": "code",
      "metadata": {
        "id": "sEZO7ZhokGu5",
        "colab_type": "code",
        "colab": {
          "base_uri": "https://localhost:8080/",
          "height": 362
        },
        "outputId": "a2c046a3-dbe3-4591-efb3-3be0f50ecae7"
      },
      "source": [
        "methods = list(metrics_train_nn.keys())\n",
        "measures = list(metrics_train_nn[methods[0]].keys())\n",
        "fig, ax = plt.subplots(ncols = len(measures), figsize = (15, 5))\n",
        "for i, measure in enumerate(measures):\n",
        "  ax[i].bar(methods, [metrics_train_nn[method][measure] for method in methods])\n",
        "  ax[i].set_ylabel(measure)\n",
        "\n",
        "plt.suptitle('Performances on the training set for the neural network classification')\n",
        "# plt.tight_layout()\n",
        "fig.tight_layout(rect=[0, 0.03, 1, 0.95])\n",
        "plt.savefig('../images/performances_neuralnetwork_train.png')\n",
        "plt.show()"
      ],
      "execution_count": 120,
      "outputs": [
        {
          "output_type": "display_data",
          "data": {
            "image/png": "[encoded data removed]",
            "text/plain": [
              "<Figure size 1080x360 with 3 Axes>"
            ]
          },
          "metadata": {
            "tags": [],
            "needs_background": "light"
          }
        }
      ]
    },
    {
      "cell_type": "code",
      "metadata": {
        "id": "IoooNxF8p8ww",
        "colab_type": "code",
        "colab": {
          "base_uri": "https://localhost:8080/",
          "height": 362
        },
        "outputId": "7a22b619-ce37-4b37-a3d3-bc8161964ba6"
      },
      "source": [
        "methods = list(metrics_valid.keys())\n",
        "measures = list(metrics_valid[methods[0]].keys())\n",
        "fig, ax = plt.subplots(ncols = len(measures), figsize = (15, 5))\n",
        "for i, measure in enumerate(measures):\n",
        "  ax[i].bar(methods, [metrics_valid[method][measure] for method in methods])\n",
        "  ax[i].set_ylabel(measure)\n",
        "\n",
        "plt.suptitle('Performances on the validation set for the logistic regression')\n",
        "# plt.tight_layout()\n",
        "fig.tight_layout(rect=[0, 0.03, 1, 0.95])\n",
        "plt.savefig('../images/performances_logistic_valid.png')\n",
        "plt.show()"
      ],
      "execution_count": 119,
      "outputs": [
        {
          "output_type": "display_data",
          "data": {
            "image/png": "[encoded data removed]",
            "text/plain": [
              "<Figure size 1080x360 with 3 Axes>"
            ]
          },
          "metadata": {
            "tags": [],
            "needs_background": "light"
          }
        }
      ]
    },
    {
      "cell_type": "code",
      "metadata": {
        "id": "ochvzsQqiith",
        "colab_type": "code",
        "colab": {
          "base_uri": "https://localhost:8080/",
          "height": 362
        },
        "outputId": "9128cd87-610b-4f2f-c265-442a47ec371e"
      },
      "source": [
        "methods = list(metrics_valid_nn.keys())\n",
        "measures = list(metrics_valid_nn[methods[0]].keys())\n",
        "fig, ax = plt.subplots(ncols = len(measures), figsize = (15, 5))\n",
        "for i, measure in enumerate(measures):\n",
        "  ax[i].bar(methods, [metrics_valid_nn[method][measure] for method in methods])\n",
        "  ax[i].set_ylabel(measure)\n",
        "\n",
        "plt.suptitle('Performances on the validation set for the neural network classification')\n",
        "# plt.tight_layout()\n",
        "fig.tight_layout(rect=[0, 0.03, 1, 0.95])\n",
        "plt.savefig('../images/performances_neuralnetwork_valid.png')\n",
        "plt.show()"
      ],
      "execution_count": 122,
      "outputs": [
        {
          "output_type": "display_data",
          "data": {
            "image/png": "[encoded data removed]",
            "text/plain": [
              "<Figure size 1080x360 with 3 Axes>"
            ]
          },
          "metadata": {
            "tags": [],
            "needs_background": "light"
          }
        }
      ]
    },
    {
      "cell_type": "code",
      "metadata": {
        "id": "ifxDTwUjlf3k",
        "colab_type": "code",
        "colab": {
          "base_uri": "https://localhost:8080/",
          "height": 362
        },
        "outputId": "4e609974-cb44-4b5d-a331-fa0bd2f7a40c"
      },
      "source": [
        "methods = list(metrics_valid.keys())\n",
        "measures = list(metrics_valid[methods[0]].keys())\n",
        "fig, ax = plt.subplots(ncols = len(measures), figsize = (15, 5))\n",
        "for i, measure in enumerate(measures):\n",
        "  ax[i].bar(np.arange(len(methods))-0.1, [metrics_train[method][measure] for method in methods], width=0.2, label='train')\n",
        "  ax[i].bar(np.arange(len(methods))+0.1, [metrics_valid[method][measure] for method in methods], width=0.2, label='valid')\n",
        "  ax[i].set_xticks(np.arange(len(methods)))\n",
        "  ax[i].set_xticklabels(methods)\n",
        "  ax[i].set_ylabel(measure)\n",
        "  ax[i].legend()\n",
        "\n",
        "plt.suptitle('Comparison of the logistic regression on the training and validation set')\n",
        "# plt.tight_layout()\n",
        "fig.tight_layout(rect=[0, 0.03, 1, 0.95])\n",
        "plt.savefig('../images/performances_logistic_all.png')\n",
        "plt.show()"
      ],
      "execution_count": 124,
      "outputs": [
        {
          "output_type": "display_data",
          "data": {
            "image/png": "[encoded data removed]",
            "text/plain": [
              "<Figure size 1080x360 with 3 Axes>"
            ]
          },
          "metadata": {
            "tags": [],
            "needs_background": "light"
          }
        }
      ]
    },
    {
      "cell_type": "code",
      "metadata": {
        "id": "MWtBxjg3kVyy",
        "colab_type": "code",
        "colab": {
          "base_uri": "https://localhost:8080/",
          "height": 362
        },
        "outputId": "3d5d13e5-a35d-4fa2-a818-827e797dc5af"
      },
      "source": [
        "methods = list(metrics_valid_nn.keys())\n",
        "measures = list(metrics_valid_nn[methods[0]].keys())\n",
        "fig, ax = plt.subplots(ncols = len(measures), figsize = (15, 5))\n",
        "for i, measure in enumerate(measures):\n",
        "  ax[i].bar(np.arange(len(methods))-0.1, [metrics_train_nn[method][measure] for method in methods], width=0.2, label='train')\n",
        "  ax[i].bar(np.arange(len(methods))+0.1, [metrics_valid_nn[method][measure] for method in methods], width=0.2, label='valid')\n",
        "  ax[i].set_xticks(np.arange(len(methods)))\n",
        "  ax[i].set_xticklabels(methods)\n",
        "  ax[i].set_ylabel(measure)\n",
        "  ax[i].legend()\n",
        "\n",
        "plt.suptitle('Comparison of the neural network classification on the training and validation set')\n",
        "# plt.tight_layout()\n",
        "fig.tight_layout(rect=[0, 0.03, 1, 0.95])\n",
        "plt.savefig('../images/performances_neuralnetwork_all.png')\n",
        "plt.show()"
      ],
      "execution_count": 126,
      "outputs": [
        {
          "output_type": "display_data",
          "data": {
            "image/png": "[encoded data removed]",
            "text/plain": [
              "<Figure size 1080x360 with 3 Axes>"
            ]
          },
          "metadata": {
            "tags": [],
            "needs_background": "light"
          }
        }
      ]
    },
    {
      "cell_type": "markdown",
      "metadata": {
        "id": "NJTjHXXwzIlZ",
        "colab_type": "text"
      },
      "source": [
        "## Comparison of both preprocessing methods"
      ]
    },
    {
      "cell_type": "code",
      "metadata": {
        "id": "lMLWlpk_vSD7",
        "colab_type": "code",
        "colab": {}
      },
      "source": [
        "metrics_train_1 = {}\n",
        "metrics_valid_1 = {}\n",
        "metrics_train_nn_1 = {}\n",
        "metrics_valid_nn_1 = {}\n",
        "\n",
        "metrics_train_2 = {}\n",
        "metrics_valid_2 = {}\n",
        "metrics_train_nn_2 = {}\n",
        "metrics_valid_nn_2 = {}\n",
        "\n",
        "metrics_train_1['doc2vec'] = {'loss': 0.54, 'accuracy': 0.71, 'f1': 0.57}\n",
        "metrics_valid_1['doc2vec'] = {'loss': 0.54, 'accuracy': 0.71, 'f1': 0.57}\n",
        "metrics_train_nn_1['doc2vec'] = {'loss': 0.47, 'accuracy': 0.76, 'f1': 0.68}\n",
        "metrics_valid_nn_1['doc2vec'] = {'loss': 0.49, 'accuracy': 0.74, 'f1': 0.66}\n",
        "\n",
        "metrics_train_1['sent2vec'] = {'loss': 0.54, 'accuracy': 0.73, 'f1': 0.58}\n",
        "metrics_valid_1['sent2vec'] = {'loss': 0.54, 'accuracy': 0.73, 'f1': 0.58}\n",
        "metrics_train_nn_1['sent2vec'] = {'loss': 0.39, 'accuracy': 0.81, 'f1': 0.74}\n",
        "metrics_valid_nn_1['sent2vec'] = {'loss': 0.45, 'accuracy': 0.78, 'f1': 0.69}\n",
        "\n",
        "metrics_train_1['SBERT'] = {'loss': 0.41, 'accuracy': 0.81, 'f1': 0.73}\n",
        "metrics_valid_1['SBERT'] = {'loss': 0.42, 'accuracy': 0.8, 'f1': 0.73}\n",
        "metrics_train_nn_1['SBERT'] = {'loss': 0.34, 'accuracy': 0.84, 'f1': 0.79}\n",
        "metrics_valid_nn_1['SBERT'] = {'loss': 0.37, 'accuracy': 0.83, 'f1': 0.77}\n",
        "\n",
        "metrics_train_1['SIF'] = {'loss': 0.6, 'accuracy': 0.69, 'f1': 0.47}\n",
        "metrics_valid_1['SIF'] = {'loss': 0.59, 'accuracy': 0.69, 'f1': 0.47}\n",
        "metrics_train_nn_1['SIF'] = {'loss': 0.54, 'accuracy': 0.66, 'f1': 0.57}\n",
        "metrics_valid_nn_1['SIF'] = {'loss': 0.54, 'accuracy': 0.66, 'f1': 0.57}\n",
        "\n",
        "metrics_train_1['Count'] = {'loss': 0.63, 'accuracy': 0.63, 'f1': 0.01}\n",
        "metrics_valid_1['Count'] = {'loss': 0.63, 'accuracy': 0.63, 'f1': 0.01}\n",
        "metrics_train_nn_1['Count'] = {'loss': 0.54, 'accuracy': 0.71, 'f1': 0.51}\n",
        "metrics_valid_nn_1['Count'] = {'loss': 0.54, 'accuracy': 0.71, 'f1': 0.51}\n",
        "\n",
        "metrics_train_1['TFIDF'] = {'loss': 0.63, 'accuracy': 0.63, 'f1': 0.01}\n",
        "metrics_valid_1['TFIDF'] = {'loss': 0.63, 'accuracy': 0.63, 'f1': 0.01}\n",
        "metrics_train_nn_1['TFIDF'] = {'loss': 0.55, 'accuracy': 0.71, 'f1': 0.5}\n",
        "metrics_valid_nn_1['TFIDF'] = {'loss': 0.55, 'accuracy': 0.71, 'f1': 0.5}\n",
        "\n",
        "metrics_train_1['Count+TFIDF'] = {'loss': 0.56, 'accuracy': 0.65, 'f1': 0.48}\n",
        "metrics_valid_1['Count+TFIDF'] = {'loss': 0.56, 'accuracy': 0.65, 'f1': 0.49}\n",
        "metrics_train_nn_1['Count+TFIDF'] = {'loss': 0.52, 'accuracy': 0.67, 'f1': 0.61}\n",
        "metrics_valid_nn_1['Count+TFIDF'] = {'loss': 0.52, 'accuracy': 0.67, 'f1': 0.61}\n",
        "\n",
        "\n",
        "metrics_train_2['doc2vec'] = {'loss': 0.54, 'accuracy': 0.71, 'f1': 0.57}\n",
        "metrics_valid_2['doc2vec'] = {'loss': 0.54, 'accuracy': 0.71, 'f1': 0.57}\n",
        "metrics_train_nn_2['doc2vec'] = {'loss': 0.34, 'accuracy': 0.84, 'f1': 0.8}\n",
        "metrics_valid_nn_2['doc2vec'] = {'loss': 0.37, 'accuracy': 0.83, 'f1': 0.78}\n",
        "\n",
        "metrics_train_2['sent2vec'] = {'loss': 0.56, 'accuracy': 0.72, 'f1': 0.56}\n",
        "metrics_valid_2['sent2vec'] = {'loss': 0.56, 'accuracy': 0.72, 'f1': 0.56}\n",
        "metrics_train_nn_2['sent2vec'] = {'loss': 0.35, 'accuracy': 0.84, 'f1': 0.77}\n",
        "metrics_valid_nn_2['sent2vec'] = {'loss': 0.38, 'accuracy': 0.83, 'f1': 0.76}\n",
        "\n",
        "metrics_train_2['SBERT'] = {'loss': 0.41, 'accuracy': 0.81, 'f1': 0.73}\n",
        "metrics_valid_2['SBERT'] = {'loss': 0.42, 'accuracy': 0.8, 'f1': 0.73}\n",
        "metrics_train_nn_2['SBERT'] = {'loss': 0.34, 'accuracy': 0.84, 'f1': 0.79}\n",
        "metrics_valid_nn_2['SBERT'] = {'loss': 0.37, 'accuracy': 0.83, 'f1': 0.77}\n",
        "\n",
        "metrics_train_2['SIF'] = {'loss': 0.6, 'accuracy': 0.69, 'f1': 0.47}\n",
        "metrics_valid_2['SIF'] = {'loss': 0.59, 'accuracy': 0.69, 'f1': 0.47}\n",
        "metrics_train_nn_2['SIF'] = {'loss': 0.49, 'accuracy': 0.75, 'f1': 0.65}\n",
        "metrics_valid_nn_2['SIF'] = {'loss': 0.51, 'accuracy': 0.74, 'f1': 0.64}\n",
        "\n",
        "metrics_train_2['Count'] = {'loss': 0.63, 'accuracy': 0.63, 'f1': 0.0}\n",
        "metrics_valid_2['Count'] = {'loss': 0.63, 'accuracy': 0.63, 'f1': 0.0}\n",
        "metrics_train_nn_2['Count'] = {'loss': 0.56, 'accuracy': 0.7, 'f1': 0.45}\n",
        "metrics_valid_nn_2['Count'] = {'loss': 0.56, 'accuracy': 0.7, 'f1': 0.45}\n",
        "\n",
        "metrics_train_2['TFIDF'] = {'loss': 0.63, 'accuracy': 0.63, 'f1': 0.0}\n",
        "metrics_valid_2['TFIDF'] = {'loss': 0.63, 'accuracy': 0.63, 'f1': 0.0}\n",
        "metrics_train_nn_2['TFIDF'] = {'loss': 0.55, 'accuracy': 0.71, 'f1': 0.51}\n",
        "metrics_valid_nn_2['TFIDF'] = {'loss': 0.55, 'accuracy': 0.71, 'f1': 0.51}\n",
        "\n",
        "metrics_train_2['Count+TFIDF'] = {'loss': 0.57, 'accuracy': 0.66, 'f1': 0.5}\n",
        "metrics_valid_2['Count+TFIDF'] = {'loss': 0.57, 'accuracy': 0.66, 'f1': 0.5}\n",
        "metrics_train_nn_2['Count+TFIDF'] = {'loss': 0.54, 'accuracy': 0.67, 'f1': 0.55}\n",
        "metrics_valid_nn_2['Count+TFIDF'] = {'loss': 0.54, 'accuracy': 0.67, 'f1': 0.55}"
      ],
      "execution_count": 0,
      "outputs": []
    },
    {
      "cell_type": "code",
      "metadata": {
        "id": "TXY-V9EOwQDL",
        "colab_type": "code",
        "colab": {
          "base_uri": "https://localhost:8080/",
          "height": 362
        },
        "outputId": "dc90a14a-91a5-4362-94d9-757044355b4e"
      },
      "source": [
        "methods = list(metrics_valid_1.keys())\n",
        "measures = list(metrics_valid_1[methods[0]].keys())\n",
        "fig, ax = plt.subplots(ncols = len(measures), figsize = (15, 5))\n",
        "for i, measure in enumerate(measures):\n",
        "  ax[i].bar(np.arange(len(methods))-0.1, [metrics_valid_1[method][measure] for method in methods], width=0.2, label='tokenizer')\n",
        "  ax[i].bar(np.arange(len(methods))+0.1, [metrics_valid_2[method][measure] for method in methods], width=0.2, label='tokenizer2')\n",
        "  ax[i].set_xticks(np.arange(len(methods)))\n",
        "  ax[i].set_xticklabels(methods)\n",
        "  ax[i].set_ylabel(measure)\n",
        "  ax[i].legend()\n",
        "\n",
        "plt.suptitle('Comparison of the logistic regression on the validation set for both preprocessing methods')\n",
        "# plt.tight_layout()\n",
        "fig.tight_layout(rect=[0, 0.03, 1, 0.95])\n",
        "plt.savefig('../images/comparison_performances_logistic_tokenizers.png')\n",
        "plt.show()"
      ],
      "execution_count": 128,
      "outputs": [
        {
          "output_type": "display_data",
          "data": {
            "image/png": "[encoded data removed]",
            "text/plain": [
              "<Figure size 1080x360 with 3 Axes>"
            ]
          },
          "metadata": {
            "tags": [],
            "needs_background": "light"
          }
        }
      ]
    },
    {
      "cell_type": "code",
      "metadata": {
        "id": "XImMfoBawwIK",
        "colab_type": "code",
        "colab": {
          "base_uri": "https://localhost:8080/",
          "height": 362
        },
        "outputId": "18823060-a15a-43e5-f340-e8620fdc4e24"
      },
      "source": [
        "methods = list(metrics_valid_nn_1.keys())\n",
        "measures = list(metrics_valid_nn_1[methods[0]].keys())\n",
        "fig, ax = plt.subplots(ncols = len(measures), figsize = (15, 5))\n",
        "for i, measure in enumerate(measures):\n",
        "  ax[i].bar(np.arange(len(methods))-0.1, [metrics_valid_nn_1[method][measure] for method in methods], width=0.2, label='tokenizer')\n",
        "  ax[i].bar(np.arange(len(methods))+0.1, [metrics_valid_nn_2[method][measure] for method in methods], width=0.2, label='tokenizer2')\n",
        "  ax[i].set_xticks(np.arange(len(methods)))\n",
        "  ax[i].set_xticklabels(methods)\n",
        "  ax[i].set_ylabel(measure)\n",
        "  ax[i].legend()\n",
        "\n",
        "plt.suptitle('Comparison of the neural network classification on the validation set for both preprocessing methods')\n",
        "# plt.tight_layout()\n",
        "fig.tight_layout(rect=[0, 0.03, 1, 0.95])\n",
        "plt.savefig('../images/comparison_performances_neuralnetwork_tokenizers.png')\n",
        "plt.show()"
      ],
      "execution_count": 130,
      "outputs": [
        {
          "output_type": "display_data",
          "data": {
            "image/png": "[encoded data removed]",
            "text/plain": [
              "<Figure size 1080x360 with 3 Axes>"
            ]
          },
          "metadata": {
            "tags": [],
            "needs_background": "light"
          }
        }
      ]
    }
  ]
}