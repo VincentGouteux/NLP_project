{
  "nbformat": 4,
  "nbformat_minor": 0,
  "metadata": {
    "colab": {
      "name": "Fuzzy_Quora.ipynb",
      "provenance": [],
      "collapsed_sections": []
    },
    "kernelspec": {
      "name": "python3",
      "display_name": "Python 3"
    }
  },
  "cells": [
    {
      "cell_type": "code",
      "metadata": {
        "id": "OSYZRLROT2ag",
        "colab_type": "code",
        "colab": {
          "base_uri": "https://localhost:8080/",
          "height": 87
        },
        "outputId": "57616766-d442-46f0-dc9c-95cfd705f704"
      },
      "source": [
        "! pip install fuzzywuzzy\n"
      ],
      "execution_count": 1,
      "outputs": [
        {
          "output_type": "stream",
          "text": [
            "Collecting fuzzywuzzy\n",
            "  Downloading https://files.pythonhosted.org/packages/43/ff/74f23998ad2f93b945c0309f825be92e04e0348e062026998b5eefef4c33/fuzzywuzzy-0.18.0-py2.py3-none-any.whl\n",
            "Installing collected packages: fuzzywuzzy\n",
            "Successfully installed fuzzywuzzy-0.18.0\n"
          ],
          "name": "stdout"
        }
      ]
    },
    {
      "cell_type": "code",
      "metadata": {
        "id": "yYyAgLpuVKi4",
        "colab_type": "code",
        "colab": {
          "base_uri": "https://localhost:8080/",
          "height": 125
        },
        "outputId": "9cc3ff72-4a16-40e1-fe42-954dc02c56da"
      },
      "source": [
        "#Connect to our own Google Drive\n",
        "from google.colab import drive\n",
        "drive.mount('/content/gdrive')"
      ],
      "execution_count": 2,
      "outputs": [
        {
          "output_type": "stream",
          "text": [
            "Go to this URL in a browser: https://accounts.google.com/o/oauth2/auth?client_id=947318989803-6bn6qk8qdgf4n4g3pfee6491hc0brc4i.apps.googleusercontent.com&redirect_uri=urn%3aietf%3awg%3aoauth%3a2.0%3aoob&response_type=code&scope=email%20https%3a%2f%2fwww.googleapis.com%2fauth%2fdocs.test%20https%3a%2f%2fwww.googleapis.com%2fauth%2fdrive%20https%3a%2f%2fwww.googleapis.com%2fauth%2fdrive.photos.readonly%20https%3a%2f%2fwww.googleapis.com%2fauth%2fpeopleapi.readonly\n",
            "\n",
            "Enter your authorization code:\n",
            "··········\n",
            "Mounted at /content/gdrive\n"
          ],
          "name": "stdout"
        }
      ]
    },
    {
      "cell_type": "code",
      "metadata": {
        "id": "9jQ1ND1oVKlO",
        "colab_type": "code",
        "colab": {
          "base_uri": "https://localhost:8080/",
          "height": 52
        },
        "outputId": "5a89c341-2a15-4dfe-ecad-571b76e2e920"
      },
      "source": [
        "%cd \"/content/gdrive/My Drive/ProjetNLPQuora/\"\n",
        "!ls\n"
      ],
      "execution_count": 3,
      "outputs": [
        {
          "output_type": "stream",
          "text": [
            "/content/gdrive/My Drive/ProjetNLPQuora\n",
            "bert-master  cache  embq1.csv  model_w2c_6.h5  test.csv  train.csv\n"
          ],
          "name": "stdout"
        }
      ]
    },
    {
      "cell_type": "code",
      "metadata": {
        "id": "LxTpxRLIVKnx",
        "colab_type": "code",
        "colab": {
          "base_uri": "https://localhost:8080/",
          "height": 87
        },
        "outputId": "0431fc7e-d849-4a96-8aa3-dac949ff4178"
      },
      "source": [
        "import pandas as pd\n",
        "import numpy as np\n",
        "import matplotlib.pyplot as plt\n",
        "import time\n",
        "from numpy import genfromtxt\n",
        "from fuzzywuzzy import fuzz\n",
        "from matplotlib import pyplot as plt\n",
        "\n",
        "\n",
        "\n",
        "df_train = pd.read_csv(\"train.csv\")\n",
        "df_test = pd.read_csv(\"test.csv\")\n"
      ],
      "execution_count": 8,
      "outputs": [
        {
          "output_type": "stream",
          "text": [
            "/usr/local/lib/python3.6/dist-packages/fuzzywuzzy/fuzz.py:11: UserWarning: Using slow pure-python SequenceMatcher. Install python-Levenshtein to remove this warning\n",
            "  warnings.warn('Using slow pure-python SequenceMatcher. Install python-Levenshtein to remove this warning')\n",
            "/usr/local/lib/python3.6/dist-packages/IPython/core/interactiveshell.py:2718: DtypeWarning: Columns (0) have mixed types.Specify dtype option on import or set low_memory=False.\n",
            "  interactivity=interactivity, compiler=compiler, result=result)\n"
          ],
          "name": "stderr"
        }
      ]
    },
    {
      "cell_type": "code",
      "metadata": {
        "id": "us3aRPjoVKqW",
        "colab_type": "code",
        "colab": {}
      },
      "source": [
        "# CLEANING TO COMPUTE EMBEDDINGS NOT NECESSARY IF WE ALREADY COMPUTED THEM\n",
        "df_train = df_train.dropna()\n",
        "df_train = df_train.reset_index(drop=True)\n",
        "\n",
        "df_train[\"question1\"] = df_train[\"question1\"].astype(\"str\")\n",
        "df_train[\"question2\"] = df_train[\"question2\"].astype('str')\n",
        "\n",
        "q1 = df_train['question1'].tolist()\n",
        "q2 = df_train['question2'].tolist()\n",
        "\n",
        "labels = df_train['is_duplicate']"
      ],
      "execution_count": 0,
      "outputs": []
    },
    {
      "cell_type": "code",
      "metadata": {
        "id": "iAIAJVCRVozW",
        "colab_type": "code",
        "colab": {
          "base_uri": "https://localhost:8080/",
          "height": 34
        },
        "outputId": "6c7a878b-0cfb-4fce-ba0f-a4232d574ed1"
      },
      "source": [
        "print(len(q1), len(labels))"
      ],
      "execution_count": 32,
      "outputs": [
        {
          "output_type": "stream",
          "text": [
            "404287 404287\n"
          ],
          "name": "stdout"
        }
      ]
    },
    {
      "cell_type": "code",
      "metadata": {
        "id": "eoZp8bX3T6U5",
        "colab_type": "code",
        "colab": {
          "base_uri": "https://localhost:8080/",
          "height": 176
        },
        "outputId": "c9386db0-018d-43f1-c045-989ac525aaf6"
      },
      "source": [
        "score_token_set =[]\n",
        "for i in range(len(q1)):\n",
        "  score_token_set.append(fuzz.token_set_ratio(q1[i],q2[i]))\n",
        "  if (i%50000 ==0):\n",
        "    print(i*100/len(q1))"
      ],
      "execution_count": 45,
      "outputs": [
        {
          "output_type": "stream",
          "text": [
            "0.0\n",
            "12.367451834958828\n",
            "24.734903669917657\n",
            "37.102355504876485\n",
            "49.46980733983531\n",
            "61.83725917479414\n",
            "74.20471100975297\n",
            "86.5721628447118\n",
            "98.93961467967063\n"
          ],
          "name": "stdout"
        }
      ]
    },
    {
      "cell_type": "code",
      "metadata": {
        "id": "s6XGezLpcALk",
        "colab_type": "code",
        "colab": {
          "base_uri": "https://localhost:8080/",
          "height": 176
        },
        "outputId": "0a27ce4c-854e-4a77-aac9-84c0762d57fd"
      },
      "source": [
        "score_ratio =[]\n",
        "for i in range(len(q1)):\n",
        "  score_ratio.append(fuzz.ratio(q1[i],q2[i]))\n",
        "  if (i%50000 ==0):\n",
        "    print(i*100/len(q1))"
      ],
      "execution_count": 46,
      "outputs": [
        {
          "output_type": "stream",
          "text": [
            "0.0\n",
            "12.367451834958828\n",
            "24.734903669917657\n",
            "37.102355504876485\n",
            "49.46980733983531\n",
            "61.83725917479414\n",
            "74.20471100975297\n",
            "86.5721628447118\n",
            "98.93961467967063\n"
          ],
          "name": "stdout"
        }
      ]
    },
    {
      "cell_type": "code",
      "metadata": {
        "id": "sY7zog49cPmB",
        "colab_type": "code",
        "colab": {
          "base_uri": "https://localhost:8080/",
          "height": 176
        },
        "outputId": "000f3a59-2a0d-4156-d4ec-5e48d356c562"
      },
      "source": [
        "score_partial_ratio =[]\n",
        "for i in range(len(q1)):\n",
        "  score_partial_ratio.append(fuzz.partial_ratio(q1[i],q2[i]))\n",
        "  if (i%50000 ==0):\n",
        "    print(i*100/len(q1))"
      ],
      "execution_count": 53,
      "outputs": [
        {
          "output_type": "stream",
          "text": [
            "0.0\n",
            "12.367451834958828\n",
            "24.734903669917657\n",
            "37.102355504876485\n",
            "49.46980733983531\n",
            "61.83725917479414\n",
            "74.20471100975297\n",
            "86.5721628447118\n",
            "98.93961467967063\n"
          ],
          "name": "stdout"
        }
      ]
    },
    {
      "cell_type": "code",
      "metadata": {
        "id": "Z5iKbHvrYGa3",
        "colab_type": "code",
        "colab": {
          "base_uri": "https://localhost:8080/",
          "height": 282
        },
        "outputId": "7a5b6a99-eae0-4fe9-99f2-0c99bd7b0286"
      },
      "source": [
        "th1 = []\n",
        "for i in range(100):\n",
        "  t = i\n",
        "  pred = (np.asarray(score_token_set)>t)*1 \n",
        "  th1.append(sum(labels== pred)/len(labels))\n",
        "plt.plot(th1)\n",
        "\n",
        "optimal_th = np.argmax(th1)\n",
        "print('maximal treshold :' ,optimal_th, 'accuracy : ', max(th1))"
      ],
      "execution_count": 48,
      "outputs": [
        {
          "output_type": "stream",
          "text": [
            "maximal treshold : 79 accuracy :  0.6647554831097711\n"
          ],
          "name": "stdout"
        },
        {
          "output_type": "display_data",
          "data": {
            "image/png": "[encoded data removed]",
            "text/plain": [
              "<Figure size 432x288 with 1 Axes>"
            ]
          },
          "metadata": {
            "tags": [],
            "needs_background": "light"
          }
        }
      ]
    },
    {
      "cell_type": "code",
      "metadata": {
        "id": "Z5fSz_S1YGce",
        "colab_type": "code",
        "colab": {
          "base_uri": "https://localhost:8080/",
          "height": 282
        },
        "outputId": "b3789543-7f56-49b5-b8c6-328e816d7fd5"
      },
      "source": [
        "th2 = []\n",
        "for i in range(100):\n",
        "  t = i\n",
        "  pred = (np.asarray(score_ratio)>t)*1 \n",
        "  th2.append(sum(labels== pred)/len(labels))\n",
        "plt.plot(th2)\n",
        "\n",
        "optimal_th = np.argmax(th2)\n",
        "print('maximal treshold :' ,optimal_th, 'accuracy : ', max(th2))"
      ],
      "execution_count": 51,
      "outputs": [
        {
          "output_type": "stream",
          "text": [
            "maximal treshold : 59 accuracy :  0.6685448703520024\n"
          ],
          "name": "stdout"
        },
        {
          "output_type": "display_data",
          "data": {
            "image/png": "[encoded data removed]",
            "text/plain": [
              "<Figure size 432x288 with 1 Axes>"
            ]
          },
          "metadata": {
            "tags": [],
            "needs_background": "light"
          }
        }
      ]
    },
    {
      "cell_type": "code",
      "metadata": {
        "id": "LGSDIrc4XvXT",
        "colab_type": "code",
        "colab": {
          "base_uri": "https://localhost:8080/",
          "height": 282
        },
        "outputId": "4f03dbeb-6dcb-4c60-d702-7046afa494a4"
      },
      "source": [
        "th3 = []\n",
        "for i in range(100):\n",
        "  t = i\n",
        "  pred = (np.asarray(score_partial_ratio)>t)*1 \n",
        "  th3.append(sum(labels== pred)/len(labels))\n",
        "plt.plot(th3)\n",
        "\n",
        "optimal_th = np.argmax(th3)\n",
        "print('maximal treshold :' ,optimal_th, 'accuracy : ', max(th3))"
      ],
      "execution_count": 54,
      "outputs": [
        {
          "output_type": "stream",
          "text": [
            "maximal treshold : 65 accuracy :  0.6625046068758085\n"
          ],
          "name": "stdout"
        },
        {
          "output_type": "display_data",
          "data": {
            "image/png": "[encoded data removed]",
            "text/plain": [
              "<Figure size 432x288 with 1 Axes>"
            ]
          },
          "metadata": {
            "tags": [],
            "needs_background": "light"
          }
        }
      ]
    },
    {
      "cell_type": "code",
      "metadata": {
        "id": "3l6N4fDedR5y",
        "colab_type": "code",
        "colab": {}
      },
      "source": [
        ""
      ],
      "execution_count": 0,
      "outputs": []
    }
  ]
}